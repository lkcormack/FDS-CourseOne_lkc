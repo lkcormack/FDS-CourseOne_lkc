{
 "cells": [
  {
   "cell_type": "markdown",
   "metadata": {},
   "source": [
    "Mystery Mansion – file system game using nested dicts instead of lists."
   ]
  },
  {
   "cell_type": "code",
   "execution_count": null,
   "metadata": {},
   "outputs": [],
   "source": [
    "file_system = {\n",
    "    \"root\": {\n",
    "        \"folder1\": {\n",
    "            \"file1.txt\": None,\n",
    "            \"file2.txt\": None\n",
    "        },\n",
    "        \"folder2\": {\n",
    "            \"file3.txt\": None\n",
    "        }\n",
    "    }\n",
    "}\n",
    "\n",
    "# Example function to display the structure\n",
    "def display_structure(d, level=0):\n",
    "    indent = \"    \" * level\n",
    "    for key, value in d.items():\n",
    "        if isinstance(value, dict):\n",
    "            print(f\"{indent}[DIR] {key}\")\n",
    "            display_structure(value, level + 1)\n",
    "        else:\n",
    "            print(f\"{indent}[FILE] {key}\")\n",
    "\n",
    "# Display the dictionary tree\n",
    "display_structure(file_system)\n"
   ]
  }
 ],
 "metadata": {
  "language_info": {
   "name": "python"
  }
 },
 "nbformat": 4,
 "nbformat_minor": 2
}
