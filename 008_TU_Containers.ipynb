{
 "cells": [
  {
   "cell_type": "markdown",
   "id": "60242d2c",
   "metadata": {},
   "source": [
    "# Introduction to Advanced Python Data Types"
   ]
  },
  {
   "cell_type": "markdown",
   "id": "4e05c6cf",
   "metadata": {},
   "source": [
    "### Learning Goals\n",
    "\n",
    "  - Objects and data containers\n",
    "  - Specific Python containers\n",
    "    - Strings\n",
    "    - Lists\n",
    "    - Tuples\n",
    "    - Dictionaries\n",
    "    - Sets"
   ]
  },
  {
   "cell_type": "markdown",
   "id": "d19b74d9",
   "metadata": {},
   "source": [
    "In the previous tutorial, we focused on Python's simple data types, like `int`, `float`, and `bool`. In general, these simple object types store individual values (e.g, a = 10). Today, we will talk about objects that can contain multiple values of data, such as `lists` and `tuples` and, yes, `strs` which we've already met.  "
   ]
  },
  {
   "cell_type": "markdown",
   "id": "d0139aae",
   "metadata": {},
   "source": [
    "All of these, whether they hold single values or multiple things, have one important aspect in common: they are all \"**objects**\" in Python. When we do an assignment, like `py = 3.14`, Python creates an object in your computer's memory, in this case of type `float` and then tags it with the label `py`. The object contains the value (3.14 in this case), and some other goodies we'll learn about later. The tag is not the object and vice versa. The tag, what we'll often call the \"variable name\", is the way we grab the value stored in the object in order to use it."
   ]
  },
  {
   "cell_type": "markdown",
   "id": "36908f04",
   "metadata": {},
   "source": [
    "### Python Strings"
   ]
  },
  {
   "cell_type": "markdown",
   "id": "520d3e76",
   "metadata": {},
   "source": [
    "Even though we covered them in the last tutorial, a `str` is a little bit different than, say, an `int`. While an `int` contains a single value, and `str` actually contains a bunch of characters, or strings of length one. For example, consider this string:"
   ]
  },
  {
   "cell_type": "code",
   "execution_count": 5,
   "id": "432900fb",
   "metadata": {},
   "outputs": [
    {
     "name": "stdout",
     "output_type": "stream",
     "text": [
      "This string contains letters, spaces, etc., and 68 total characters!\n",
      "mystring is a  <class 'str'>\n"
     ]
    }
   ],
   "source": [
    "mystring = 'This string contains letters, spaces, etc., and 68 total characters!'\n",
    "print(mystring)\n",
    "print(\"mystring is a \", type(mystring))"
   ]
  },
  {
   "cell_type": "markdown",
   "id": "499fd5a1",
   "metadata": {},
   "source": [
    "While normal people care about the words and the punctuation, computers don't, and nor often do programmers. So another way to look at this objects is to see how many things it contains, and we can do this with the `len()` (length) function:"
   ]
  },
  {
   "cell_type": "code",
   "execution_count": 6,
   "id": "f73e1d03",
   "metadata": {},
   "outputs": [
    {
     "data": {
      "text/plain": [
       "68"
      ]
     },
     "execution_count": 6,
     "metadata": {},
     "output_type": "execute_result"
    }
   ],
   "source": [
    "len(mystring)"
   ]
  },
  {
   "cell_type": "markdown",
   "id": "9413e03d",
   "metadata": {},
   "source": [
    "So `mystring` actually contains 68 things: each letter, space, numerical digit, and punctuation mark, generally called \"characters\"."
   ]
  },
  {
   "cell_type": "markdown",
   "id": "980a2088-036b-49eb-b552-fe02bd2d7714",
   "metadata": {},
   "source": [
    "We can even look inside our string using \"**indexing**\" (much more on this both later in this tutorial and in the weeks and months to follow). We index using square brackets `[ ]` so, for example, try this:"
   ]
  },
  {
   "cell_type": "code",
   "execution_count": 6,
   "id": "8305dada-c73c-4797-a968-01a7d1483809",
   "metadata": {},
   "outputs": [
    {
     "data": {
      "text/plain": [
       "'s'"
      ]
     },
     "execution_count": 6,
     "metadata": {},
     "output_type": "execute_result"
    }
   ],
   "source": [
    "mystring[3]"
   ]
  },
  {
   "cell_type": "markdown",
   "id": "d6cf2bd0-0405-43ab-aa9e-d11e56934d7f",
   "metadata": {},
   "source": [
    "Here, `mystring[3]` gave us one of the *elements* of `mystring`."
   ]
  },
  {
   "cell_type": "markdown",
   "id": "96daffab",
   "metadata": {},
   "source": [
    "Python Strings, unlike `int`s or `float`s, are a type of [*container*](https://en.wikipedia.org/wiki/Container_(abstract_data_type)). Containers are data types that can contain multiple objects. Whereas a variable has a name, like `a`, attached to a single value, like `2`, containers contain multiple values and often (as we will see later) contain variables of different types (`int` and `str` etc). "
   ]
  },
  {
   "cell_type": "markdown",
   "id": "2787dc52-9510-4f73-99d7-5aaa624e20d6",
   "metadata": {},
   "source": [
    "In fact, the very reason `mystring` has a  *length*, which we got with the `len()` function, is because it is a container. A `int`, not being a container, doesn't have a length. Let's verify this:"
   ]
  },
  {
   "cell_type": "code",
   "execution_count": 7,
   "id": "a4d1ed25",
   "metadata": {},
   "outputs": [
    {
     "ename": "TypeError",
     "evalue": "object of type 'int' has no len()",
     "output_type": "error",
     "traceback": [
      "\u001b[0;31m---------------------------------------------------------------------------\u001b[0m",
      "\u001b[0;31mTypeError\u001b[0m                                 Traceback (most recent call last)",
      "\u001b[1;32m/Users/lkc3-admin/Documents/GitHub/FDS-CourseOne_lkc/008_TU_Containers.ipynb Cell 16\u001b[0m line \u001b[0;36m2\n\u001b[1;32m      <a href='vscode-notebook-cell:/Users/lkc3-admin/Documents/GitHub/FDS-CourseOne_lkc/008_TU_Containers.ipynb#X15sZmlsZQ%3D%3D?line=0'>1</a>\u001b[0m myint \u001b[39m=\u001b[39m \u001b[39m42\u001b[39m\n\u001b[0;32m----> <a href='vscode-notebook-cell:/Users/lkc3-admin/Documents/GitHub/FDS-CourseOne_lkc/008_TU_Containers.ipynb#X15sZmlsZQ%3D%3D?line=1'>2</a>\u001b[0m \u001b[39mlen\u001b[39;49m(myint)\n",
      "\u001b[0;31mTypeError\u001b[0m: object of type 'int' has no len()"
     ]
    }
   ],
   "source": [
    "myint = 42\n",
    "len(myint)"
   ]
  },
  {
   "cell_type": "markdown",
   "id": "53d2d962",
   "metadata": {},
   "source": [
    "Whoops, we get an error! Because an `int` is always a *single* object, Python sees no need to keep track of its length."
   ]
  },
  {
   "cell_type": "markdown",
   "id": "f75b21d0",
   "metadata": {},
   "source": [
    "Containers are one of the major ways Python offers to work with data. Later on, we will learn about specialized containers for data science, like (the [Pandas DataFrame](https://pandas.pydata.org/docs/reference/api/pandas.DataFrame.html)). \n",
    "\n",
    "First, however, we will learn about the built-in Python containers: *strings*, *lists*, *dictionaries*, *tuples*, and *sets*. Of these, the first 3 are used most often, so we'll focus on those."
   ]
  },
  {
   "cell_type": "markdown",
   "id": "6548811e-4e18-4815-9b98-7c5b3bdcf04b",
   "metadata": {},
   "source": [
    "#### Simple indexing"
   ]
  },
  {
   "cell_type": "markdown",
   "id": "dca9bc75-5e44-4da6-aec5-0ca5fa46c83c",
   "metadata": {},
   "source": [
    "As we saw above, a string is a sequence of characters, generally a human-readable chunk of text."
   ]
  },
  {
   "cell_type": "code",
   "execution_count": 9,
   "id": "bafe567d-ddb6-4523-b7a6-c3f3b6ba00cf",
   "metadata": {},
   "outputs": [],
   "source": [
    "mystring = 'A sequence of characters!'"
   ]
  },
  {
   "cell_type": "markdown",
   "id": "f4707627-09c1-4e8e-84b0-370dbc59fe35",
   "metadata": {},
   "source": [
    "Because it's a *sequence* (that is, because the characters have an *order*, unlike the letters in a Scrabble bag), we can pluck out individual characters or \"elements\" by indexing, as we saw briefly above."
   ]
  },
  {
   "cell_type": "code",
   "execution_count": 10,
   "id": "89d1405b-6f7d-45de-ab8c-199dd4f03262",
   "metadata": {},
   "outputs": [
    {
     "data": {
      "text/plain": [
       "'e'"
      ]
     },
     "execution_count": 10,
     "metadata": {},
     "output_type": "execute_result"
    }
   ],
   "source": [
    "mystring[6]"
   ]
  },
  {
   "cell_type": "markdown",
   "id": "cd463bac-1143-4f31-8019-ce20ef41d5d6",
   "metadata": {},
   "source": [
    "A single element of a string is still a string:"
   ]
  },
  {
   "cell_type": "code",
   "execution_count": 11,
   "id": "548f38c8-91f1-471d-a8eb-ddd24d4db692",
   "metadata": {},
   "outputs": [
    {
     "data": {
      "text/plain": [
       "str"
      ]
     },
     "execution_count": 11,
     "metadata": {},
     "output_type": "execute_result"
    }
   ],
   "source": [
    "a_char = mystring[6]\n",
    "type(a_char)"
   ]
  },
  {
   "cell_type": "markdown",
   "id": "189a976a-1846-4ec5-b1ec-95adcc892582",
   "metadata": {},
   "source": [
    "And since it's still a string, it still has a length:"
   ]
  },
  {
   "cell_type": "code",
   "execution_count": 12,
   "id": "482349a8-7bb1-4a02-8dbd-d05c173b0fec",
   "metadata": {},
   "outputs": [
    {
     "data": {
      "text/plain": [
       "1"
      ]
     },
     "execution_count": 12,
     "metadata": {},
     "output_type": "execute_result"
    }
   ],
   "source": [
    "len(a_char)"
   ]
  },
  {
   "cell_type": "markdown",
   "id": "05d79983",
   "metadata": {},
   "source": [
    "So any string of length > 1 is really a container of other strings of length 1 – how meta!"
   ]
  },
  {
   "cell_type": "markdown",
   "id": "5a686331-a7f6-4ef7-b248-aeb28ce82f04",
   "metadata": {},
   "source": [
    "---"
   ]
  },
  {
   "cell_type": "markdown",
   "id": "d593c5a0-ca10-49ce-8a2d-54bb97831300",
   "metadata": {},
   "source": [
    "In the cell below, try a `mystring[1]`"
   ]
  },
  {
   "cell_type": "code",
   "execution_count": 9,
   "id": "dedcf091-5e53-47b2-a66b-3fbfa166b016",
   "metadata": {},
   "outputs": [
    {
     "data": {
      "text/plain": [
       "' '"
      ]
     },
     "execution_count": 9,
     "metadata": {},
     "output_type": "execute_result"
    }
   ],
   "source": []
  },
  {
   "cell_type": "markdown",
   "id": "02eceb5f-a3ed-4209-9806-a169d8ad1fe1",
   "metadata": {},
   "source": [
    "Was that what you expected?"
   ]
  },
  {
   "cell_type": "markdown",
   "id": "1c655993-704e-49d4-b3ec-ca31ac281d06",
   "metadata": {},
   "source": [
    "---"
   ]
  },
  {
   "cell_type": "markdown",
   "id": "9b1bbe60-952f-45bf-a499-bbf44e320feb",
   "metadata": {},
   "source": [
    "Indexing in Python is *zero-based*. So what you might expect to be the first element of something is actually the \"zeroith\" element. The way to think about it is that the \"index\" is really an *offset* from the beginning of the container, i.e. the first element. So `mystring[1]` is saying \"Whatever is 1 element over from the beginning of the string\", which is a space (`' '`)."
   ]
  },
  {
   "cell_type": "markdown",
   "id": "d2001df5-36e8-4c76-a0c1-dc0bb950eb1e",
   "metadata": {},
   "source": [
    "As we mentioned before, we've got *much* more indexing to go – it's a huge part of data science!"
   ]
  },
  {
   "cell_type": "markdown",
   "id": "7142865c-89a6-4820-9a78-3f00f1522085",
   "metadata": {},
   "source": [
    "#### Strings are immutable"
   ]
  },
  {
   "cell_type": "markdown",
   "id": "ac984f07-b7f5-4f54-a397-94b6b916c877",
   "metadata": {},
   "source": [
    "Like some other data containers we'll meet below, strings are *immutable* – so once you create one, you cannot change it. For example, based on what we just learned, you might reasonably think that, if we can get a specific value using indexing with `[index]`, we should be able to set a value the same way. Let's try:"
   ]
  },
  {
   "cell_type": "code",
   "execution_count": 32,
   "id": "c2a5ef4d-2d8f-425d-94ce-a51f75fe7fc7",
   "metadata": {},
   "outputs": [
    {
     "ename": "TypeError",
     "evalue": "'str' object does not support item assignment",
     "output_type": "error",
     "traceback": [
      "\u001b[0;31m---------------------------------------------------------------------------\u001b[0m",
      "\u001b[0;31mTypeError\u001b[0m                                 Traceback (most recent call last)",
      "Cell \u001b[0;32mIn[32], line 1\u001b[0m\n\u001b[0;32m----> 1\u001b[0m \u001b[43mmystring\u001b[49m\u001b[43m[\u001b[49m\u001b[38;5;241;43m0\u001b[39;49m\u001b[43m]\u001b[49m \u001b[38;5;241m=\u001b[39m \u001b[38;5;124m'\u001b[39m\u001b[38;5;124m1\u001b[39m\u001b[38;5;124m'\u001b[39m\n",
      "\u001b[0;31mTypeError\u001b[0m: 'str' object does not support item assignment"
     ]
    }
   ],
   "source": [
    "mystring[0] = '1'"
   ]
  },
  {
   "cell_type": "markdown",
   "id": "e4bf648c",
   "metadata": {},
   "source": [
    "That throws an error, and Python tells us that strings do not support assignment (directly setting values)."
   ]
  },
  {
   "cell_type": "markdown",
   "id": "3c6d45f8-0c73-448f-9acd-004aa4537d32",
   "metadata": {},
   "source": [
    "Instead, if you want to \"change\" your string, you need to make a new string, which is a new immutable container object."
   ]
  },
  {
   "cell_type": "code",
   "execution_count": 13,
   "id": "446da568-1371-4c80-ae25-cc516b5192ce",
   "metadata": {},
   "outputs": [],
   "source": [
    "new_str = '1 sequence of characters'"
   ]
  },
  {
   "cell_type": "markdown",
   "id": "ea7d8165-c982-4c8d-84e2-9a7f71f72826",
   "metadata": {},
   "source": [
    "### Python Lists"
   ]
  },
  {
   "cell_type": "markdown",
   "id": "abce074b-6fab-41fd-a93a-f857ec4e130d",
   "metadata": {},
   "source": [
    "#### Lists are containers of indexed, ordered and *mutable* data. "
   ]
  },
  {
   "cell_type": "markdown",
   "id": "517a47dc",
   "metadata": {},
   "source": [
    "Lists can be used to contain multiple elements of *any* kind. Lists are created by writing a set of values inside square brakets:"
   ]
  },
  {
   "cell_type": "code",
   "execution_count": 14,
   "id": "cbe015e9",
   "metadata": {},
   "outputs": [
    {
     "name": "stdout",
     "output_type": "stream",
     "text": [
      "[2, 3, 4, 5]\n"
     ]
    }
   ],
   "source": [
    "mylist = [2, 3, 4, 5] # this list contains 4 numbers\n",
    "print(mylist)"
   ]
  },
  {
   "cell_type": "markdown",
   "id": "fef24b5a",
   "metadata": {},
   "source": [
    "#### Lists can contain elements of any type"
   ]
  },
  {
   "cell_type": "code",
   "execution_count": 15,
   "id": "3bfc1391",
   "metadata": {},
   "outputs": [
    {
     "name": "stdout",
     "output_type": "stream",
     "text": [
      "[10, 4, 2, 5]\n"
     ]
    },
    {
     "data": {
      "text/plain": [
       "list"
      ]
     },
     "execution_count": 15,
     "metadata": {},
     "output_type": "execute_result"
    }
   ],
   "source": [
    "list_of_int = [10, 4, 2, 5]                                  # This list contains integers\n",
    "print(list_of_int)\n",
    "type(list_of_int)"
   ]
  },
  {
   "cell_type": "code",
   "execution_count": 16,
   "id": "7e6efb4d",
   "metadata": {},
   "outputs": [
    {
     "name": "stdout",
     "output_type": "stream",
     "text": [
      "[2.3, 4.3, 5.5, 6.1]\n"
     ]
    },
    {
     "data": {
      "text/plain": [
       "list"
      ]
     },
     "execution_count": 16,
     "metadata": {},
     "output_type": "execute_result"
    }
   ],
   "source": [
    "list_of_float = [2.3, 4.3, 5.5, 6.1]                         # This list contains floating numbers\n",
    "print(list_of_float)\n",
    "type(list_of_float)"
   ]
  },
  {
   "cell_type": "code",
   "execution_count": 19,
   "id": "b4480ede",
   "metadata": {},
   "outputs": [
    {
     "name": "stdout",
     "output_type": "stream",
     "text": [
      "[True, False, True, True]\n"
     ]
    },
    {
     "data": {
      "text/plain": [
       "list"
      ]
     },
     "execution_count": 19,
     "metadata": {},
     "output_type": "execute_result"
    }
   ],
   "source": [
    "list_of_boolean = [True, False, True, True]                  # This list contains boolean values \n",
    "print(list_of_boolean)\n",
    "type(list_of_boolean)"
   ]
  },
  {
   "cell_type": "code",
   "execution_count": 20,
   "id": "57ed7169",
   "metadata": {},
   "outputs": [
    {
     "name": "stdout",
     "output_type": "stream",
     "text": [
      "['this', 'is', 'a', 'list', 'of', 'strings']\n"
     ]
    },
    {
     "data": {
      "text/plain": [
       "list"
      ]
     },
     "execution_count": 20,
     "metadata": {},
     "output_type": "execute_result"
    }
   ],
   "source": [
    "list_of_strings = ['this', 'is', 'a', 'list','of','strings'] # This list contains strings\n",
    "print(list_of_strings)\n",
    "type(list_of_strings)"
   ]
  },
  {
   "cell_type": "markdown",
   "id": "4f121d10-1758-4221-9b94-372906796a8a",
   "metadata": {},
   "source": [
    "Notice that, because strings are containers, `list_of_strings` is actually a *container of containers*!"
   ]
  },
  {
   "cell_type": "markdown",
   "id": "892510ca-b037-44ee-a01f-344178ec912f",
   "metadata": {},
   "source": [
    "---"
   ]
  },
  {
   "cell_type": "markdown",
   "id": "5a6c4997",
   "metadata": {},
   "source": [
    "In the cell below, see if Python will let you create a list with elements of *different types*:"
   ]
  },
  {
   "cell_type": "code",
   "execution_count": null,
   "id": "12af1cb4-1397-44ab-a81b-22ef0dc3da45",
   "metadata": {},
   "outputs": [],
   "source": []
  },
  {
   "cell_type": "markdown",
   "id": "f9952d9b-f7e7-4e78-8965-53d9dedf267a",
   "metadata": {},
   "source": [
    "---"
   ]
  },
  {
   "cell_type": "markdown",
   "id": "8aaba4a9-432c-4156-addc-0b5399291a13",
   "metadata": {},
   "source": [
    "#### Lists are mutable"
   ]
  },
  {
   "cell_type": "markdown",
   "id": "021faa9d-c7c8-4907-816c-52ec2da6e658",
   "metadata": {},
   "source": [
    "As mentioned in passing above, unlike strings, a list is *mutable*, meaning that we can change the elements if you want:"
   ]
  },
  {
   "cell_type": "markdown",
   "id": "b54d6381",
   "metadata": {},
   "source": [
    "Let's remind ourselves what out list of `floats` was:"
   ]
  },
  {
   "cell_type": "code",
   "execution_count": 21,
   "id": "bf45f462",
   "metadata": {},
   "outputs": [
    {
     "data": {
      "text/plain": [
       "[2.3, 4.3, 5.5, 6.1]"
      ]
     },
     "execution_count": 21,
     "metadata": {},
     "output_type": "execute_result"
    }
   ],
   "source": [
    "list_of_float"
   ]
  },
  {
   "cell_type": "markdown",
   "id": "6bcdd4b1",
   "metadata": {},
   "source": [
    "Now let's try to change one of the elements by indexing it:"
   ]
  },
  {
   "cell_type": "code",
   "execution_count": 22,
   "id": "ea77e825-1278-4bd1-8f35-76ecbde44f69",
   "metadata": {},
   "outputs": [
    {
     "data": {
      "text/plain": [
       "[2.3, 4.3, 5.5, 10.1]"
      ]
     },
     "execution_count": 22,
     "metadata": {},
     "output_type": "execute_result"
    }
   ],
   "source": [
    "list_of_float[3] = 10.1\n",
    "list_of_float"
   ]
  },
  {
   "cell_type": "markdown",
   "id": "dcc7d6eb",
   "metadata": {},
   "source": [
    "So, unlike a `str`, a `list` will allow you to change its elements!"
   ]
  },
  {
   "cell_type": "markdown",
   "id": "492a8964",
   "metadata": {},
   "source": [
    "Also, remember the distinction between objects themselves and their tags. We gave the above `list` the tag `list_of_float`, but that tag is just a description for human readers. To Python, that's just an arbitrary tag. So, if we wished, we could change one of the elements of `list_of_float` to a `str` like this:"
   ]
  },
  {
   "cell_type": "code",
   "execution_count": 23,
   "id": "d3fa97a0",
   "metadata": {},
   "outputs": [
    {
     "data": {
      "text/plain": [
       "[2.3, 4.3, 5.5, \"I'm not a float\"]"
      ]
     },
     "execution_count": 23,
     "metadata": {},
     "output_type": "execute_result"
    }
   ],
   "source": [
    "list_of_float[3] = \"I'm not a float\"\n",
    "list_of_float"
   ]
  },
  {
   "cell_type": "markdown",
   "id": "a1247104",
   "metadata": {},
   "source": [
    "Now out \"`list_of_float`\" contains a `str`, which we can verify:"
   ]
  },
  {
   "cell_type": "code",
   "execution_count": 24,
   "id": "4f2ce316",
   "metadata": {},
   "outputs": [
    {
     "name": "stdout",
     "output_type": "stream",
     "text": [
      "<class 'str'>\n"
     ]
    }
   ],
   "source": [
    "print(type(list_of_float[3]))"
   ]
  },
  {
   "cell_type": "markdown",
   "id": "6b53e1ec-a1e8-473a-a0b3-8145a363ee2b",
   "metadata": {},
   "source": [
    "#### Lists can contain lists"
   ]
  },
  {
   "cell_type": "markdown",
   "id": "80724e80",
   "metadata": {},
   "source": [
    "Finally (for now), one crucial thing about lists is that *lists can contain lists!* So if we do the following:"
   ]
  },
  {
   "cell_type": "code",
   "execution_count": 25,
   "id": "cf255880-631f-469f-a09a-a9e9b41d06ed",
   "metadata": {},
   "outputs": [
    {
     "data": {
      "text/plain": [
       "[[1, 2, 3], [4, 5, 6], [7, 8, 9]]"
      ]
     },
     "execution_count": 25,
     "metadata": {},
     "output_type": "execute_result"
    }
   ],
   "source": [
    "multi_list = [[1, 2, 3], [4, 5, 6], [7, 8, 9]]\n",
    "multi_list"
   ]
  },
  {
   "cell_type": "markdown",
   "id": "70ee6ccb-49f3-478c-a90c-a7b293285e8f",
   "metadata": {},
   "source": [
    "Now `multi_list` is a list of lists; we can get the first list like this:"
   ]
  },
  {
   "cell_type": "code",
   "execution_count": 26,
   "id": "7385fc36-cd42-4fad-b973-da6f660e32fd",
   "metadata": {},
   "outputs": [
    {
     "data": {
      "text/plain": [
       "[1, 2, 3]"
      ]
     },
     "execution_count": 26,
     "metadata": {},
     "output_type": "execute_result"
    }
   ],
   "source": [
    "multi_list[0]"
   ]
  },
  {
   "cell_type": "markdown",
   "id": "65290c20-9760-419f-a510-fd7255fea3dc",
   "metadata": {},
   "source": [
    "Now, what if we wanted the 2nd element of the first list? We could do it using a \"temporary variable\" like this:"
   ]
  },
  {
   "cell_type": "code",
   "execution_count": 27,
   "id": "a8c118c8-093b-4f94-96bb-1ba963b8084f",
   "metadata": {},
   "outputs": [
    {
     "data": {
      "text/plain": [
       "2"
      ]
     },
     "execution_count": 27,
     "metadata": {},
     "output_type": "execute_result"
    }
   ],
   "source": [
    "tmp = multi_list[0]  # get the first list in multi_list, and store it in \"tmp\"\n",
    "tmp[1]               # get the second element of the list in \"tmp\""
   ]
  },
  {
   "cell_type": "markdown",
   "id": "0e33f016-9575-4cc2-a3a0-6eeed4b1b29d",
   "metadata": {},
   "source": [
    "But Python lets us do this in one go like this:"
   ]
  },
  {
   "cell_type": "code",
   "execution_count": 28,
   "id": "345b7c3f-f894-442d-8ae1-11a9d25e5017",
   "metadata": {},
   "outputs": [
    {
     "data": {
      "text/plain": [
       "2"
      ]
     },
     "execution_count": 28,
     "metadata": {},
     "output_type": "execute_result"
    }
   ],
   "source": [
    "multi_list[0][1]"
   ]
  },
  {
   "cell_type": "markdown",
   "id": "7f43cfba",
   "metadata": {},
   "source": [
    "What's happening here is that Python first evaluates `multi_list[0]` to give you the first list in `multi_list`, and then the `[1]` gives you the second element of that list."
   ]
  },
  {
   "cell_type": "markdown",
   "id": "d1acc049-5eef-41bf-82c0-0a06ba2be344",
   "metadata": {},
   "source": [
    "---"
   ]
  },
  {
   "cell_type": "markdown",
   "id": "d23dbad0-b993-4f5f-9667-49fa890516be",
   "metadata": {},
   "source": [
    "In the cell below, use this compact indexing technique (`list[index][index]`) to get the \"i\" in \"list\" from `list_of_strings`."
   ]
  },
  {
   "cell_type": "code",
   "execution_count": null,
   "id": "3b4a6da3-c053-468c-873c-a3d6aef5f693",
   "metadata": {},
   "outputs": [],
   "source": []
  },
  {
   "cell_type": "markdown",
   "id": "1beb492b-125b-4a4d-aca4-c47f5887f1cc",
   "metadata": {},
   "source": [
    "---"
   ]
  },
  {
   "cell_type": "markdown",
   "id": "e0c53609-21ac-4851-baa0-d277e4d052b8",
   "metadata": {},
   "source": [
    "#### A list of lists can be thought of as a table or matrix"
   ]
  },
  {
   "cell_type": "markdown",
   "id": "7f816a6b-1593-401b-8ca5-4d56c9240fb2",
   "metadata": {},
   "source": [
    "Now, here's a really cool thing: we can think of the values in `multi_list` as being laid out in a table or *matrix* (like data in a spreadsheet) like this:"
   ]
  },
  {
   "cell_type": "markdown",
   "id": "b013faa1-3d37-4929-bb0b-69e7a8b7953f",
   "metadata": {},
   "source": [
    "|  multi_list | Column 1  | Column 2  | Column 3  |\n",
    "|:----------|:----------|:----------|:----------|\n",
    "| **Row 1** |   1    |   2    |   3    |\n",
    "| **Row 2** |   4    |   5    |   6    |\n",
    "| **Row 3** |   7    |   8    |   9    |"
   ]
  },
  {
   "cell_type": "markdown",
   "id": "41b8f7ef-89c8-48a4-a899-d36e932d41dc",
   "metadata": {},
   "source": [
    "in which every ***row*** is one of the lists in `multi_list`!"
   ]
  },
  {
   "cell_type": "markdown",
   "id": "83750297-27c7-48c9-b1a5-1fac7115dcca",
   "metadata": {},
   "source": [
    "So now we can think of, say, this:"
   ]
  },
  {
   "cell_type": "code",
   "execution_count": 54,
   "id": "92aa7d90-91d0-4bac-b159-ba52e2639259",
   "metadata": {},
   "outputs": [
    {
     "data": {
      "text/plain": [
       "6"
      ]
     },
     "execution_count": 54,
     "metadata": {},
     "output_type": "execute_result"
    }
   ],
   "source": [
    "multi_list[1][2]"
   ]
  },
  {
   "cell_type": "markdown",
   "id": "72d5732f-b9f8-446a-bcad-ebc64bdcaf0b",
   "metadata": {},
   "source": [
    "As specifing the *row* and *column indexes*, like  \n",
    "`multi_list[row index = 1][column index = 2]`"
   ]
  },
  {
   "cell_type": "markdown",
   "id": "96a15212-bbd0-4c10-a47d-daa935c3567c",
   "metadata": {},
   "source": [
    "In fact, if you want to think of a list of lists like a table or matrix, you can make this more obvious when you first make your object:"
   ]
  },
  {
   "cell_type": "code",
   "execution_count": 29,
   "id": "95f62b6f-cbef-4a14-9d07-0c4aced1a638",
   "metadata": {},
   "outputs": [
    {
     "data": {
      "text/plain": [
       "[[1, 1, 2], [3, 5, 8], [13, 21, 34]]"
      ]
     },
     "execution_count": 29,
     "metadata": {},
     "output_type": "execute_result"
    }
   ],
   "source": [
    "like_a_matrix = [[1, 1, 2],\n",
    "                 [3, 5, 8],\n",
    "                 [13, 21, 34]]\n",
    "like_a_matrix"
   ]
  },
  {
   "cell_type": "markdown",
   "id": "789773e0-5c58-4855-a64d-094361680165",
   "metadata": {},
   "source": [
    "To print it like a matrix though, you'd have to get a little more cute with `print()`."
   ]
  },
  {
   "cell_type": "code",
   "execution_count": 30,
   "id": "fe6ab40e-3b9d-403e-86a2-e1c451742db9",
   "metadata": {},
   "outputs": [
    {
     "name": "stdout",
     "output_type": "stream",
     "text": [
      "[1, 1, 2] \n",
      " [3, 5, 8] \n",
      " [13, 21, 34] \n",
      "\n"
     ]
    }
   ],
   "source": [
    "print(like_a_matrix[0], \"\\n\", like_a_matrix[1], \"\\n\", like_a_matrix[2], \"\\n\")"
   ]
  },
  {
   "cell_type": "markdown",
   "id": "dd40fb56-d6b1-42bc-8e23-21a4f3b19a59",
   "metadata": {},
   "source": [
    "Here, the \"\\n\" is how you tell `print()` to \"hit return\", that is, to start a \"**n**\"ew line."
   ]
  },
  {
   "cell_type": "markdown",
   "id": "cfb8faa1",
   "metadata": {},
   "source": [
    "### Python Tuple\n",
    "\n",
    "Tuples are ordered collections of data. They are similar to lists but they are *immuatable*. Whereas you can add or change elements to a previously defined list, you cannot do that with tuples. Tuples are thus great for data that you don't anyone to mess with. So, for example, raw data from an experiment, being sacred, would go in a tuple. The results of calculations done on the data, however, would go in a list because you might want to change the calculations without having to make a new list every time."
   ]
  },
  {
   "cell_type": "markdown",
   "id": "26aa469a-a3e8-42da-8119-720b7f7668b4",
   "metadata": {},
   "source": [
    "Tuples are defined with parenthesis:"
   ]
  },
  {
   "cell_type": "code",
   "execution_count": 31,
   "id": "b022386e",
   "metadata": {
    "tags": []
   },
   "outputs": [
    {
     "name": "stdout",
     "output_type": "stream",
     "text": [
      "(9, 4, 5)\n"
     ]
    },
    {
     "data": {
      "text/plain": [
       "tuple"
      ]
     },
     "execution_count": 31,
     "metadata": {},
     "output_type": "execute_result"
    }
   ],
   "source": [
    "mytuple = (9,4,5)\n",
    "print(mytuple)\n",
    "type(mytuple)"
   ]
  },
  {
   "cell_type": "markdown",
   "id": "c343609d-6551-4e12-9dea-52ea5d6098e2",
   "metadata": {},
   "source": [
    "#### Tuples are just like lists in some key ways"
   ]
  },
  {
   "cell_type": "markdown",
   "id": "49657d62-0aac-4d95-9359-db05c2d1f925",
   "metadata": {},
   "source": [
    "##### *Tuples can hold any other object (just like lists)*"
   ]
  },
  {
   "cell_type": "code",
   "execution_count": 34,
   "id": "b1512dd6",
   "metadata": {
    "tags": []
   },
   "outputs": [
    {
     "data": {
      "text/plain": [
       "(4, 'four', 'IV', [1, 0, 0])"
      ]
     },
     "execution_count": 34,
     "metadata": {},
     "output_type": "execute_result"
    }
   ],
   "source": [
    "mytuple2 = (4, 'four', 'IV', [1, 0, 0])\n",
    "mytuple2"
   ]
  },
  {
   "cell_type": "markdown",
   "id": "7909750f-21ee-4daa-9a78-5175c9b6861b",
   "metadata": {},
   "source": [
    "##### *Tuples are indexed just like lists*"
   ]
  },
  {
   "cell_type": "code",
   "execution_count": 35,
   "id": "71471de4-6a5f-41e4-9354-462aa80fc672",
   "metadata": {
    "tags": []
   },
   "outputs": [
    {
     "data": {
      "text/plain": [
       "9"
      ]
     },
     "execution_count": 35,
     "metadata": {},
     "output_type": "execute_result"
    }
   ],
   "source": [
    "mytuple[0]"
   ]
  },
  {
   "cell_type": "code",
   "execution_count": 37,
   "id": "d2fa43a8-2897-4ab7-adad-c4f00a656ef0",
   "metadata": {
    "tags": []
   },
   "outputs": [
    {
     "data": {
      "text/plain": [
       "1"
      ]
     },
     "execution_count": 37,
     "metadata": {},
     "output_type": "execute_result"
    }
   ],
   "source": [
    "mytuple2[3][0]"
   ]
  },
  {
   "cell_type": "markdown",
   "id": "45ca3df2-adf5-4334-848f-14ea34d06858",
   "metadata": {},
   "source": [
    "#### Tuples differ from lists in one key way"
   ]
  },
  {
   "cell_type": "markdown",
   "id": "ad9060ec-8688-4665-ae18-4913ce9f85b9",
   "metadata": {},
   "source": [
    "##### *Tuples are immutable*"
   ]
  },
  {
   "cell_type": "markdown",
   "id": "434d109c",
   "metadata": {},
   "source": [
    "Because tuples are immutable, we can't just change a value in a tuple if we wish."
   ]
  },
  {
   "cell_type": "markdown",
   "id": "8efe545a-39f8-4b17-97c6-eec276929d56",
   "metadata": {},
   "source": [
    "So this will work just fine:"
   ]
  },
  {
   "cell_type": "code",
   "execution_count": 38,
   "id": "63f91a90",
   "metadata": {},
   "outputs": [
    {
     "data": {
      "text/plain": [
       "[10, 'ten', 'X', 1010]"
      ]
     },
     "execution_count": 38,
     "metadata": {},
     "output_type": "execute_result"
    }
   ],
   "source": [
    "mylist = [10, 'ten', 'X', 1010]\n",
    "mylist"
   ]
  },
  {
   "cell_type": "code",
   "execution_count": 40,
   "id": "2d946e1b-d6aa-40e1-a841-226dd3f4b3f2",
   "metadata": {},
   "outputs": [
    {
     "data": {
      "text/plain": [
       "'ten is 1010 in binary'"
      ]
     },
     "execution_count": 40,
     "metadata": {},
     "output_type": "execute_result"
    }
   ],
   "source": [
    "mylist[3] = \"ten is 1010 in binary\"\n",
    "mylist[3]"
   ]
  },
  {
   "cell_type": "markdown",
   "id": "44823dac-eb10-42cb-b608-31a3315282a7",
   "metadata": {},
   "source": [
    "But this will not:"
   ]
  },
  {
   "cell_type": "code",
   "execution_count": 41,
   "id": "34904387-8f09-47cb-8f20-8cb0c0a737bd",
   "metadata": {},
   "outputs": [
    {
     "data": {
      "text/plain": [
       "(10, 'ten', 'X', 1010)"
      ]
     },
     "execution_count": 41,
     "metadata": {},
     "output_type": "execute_result"
    }
   ],
   "source": [
    "mytup = (10, 'ten', 'X', 1010)\n",
    "mytup"
   ]
  },
  {
   "cell_type": "code",
   "execution_count": 42,
   "id": "10ccb772-15c2-49da-b85b-7fa5575942bd",
   "metadata": {},
   "outputs": [
    {
     "ename": "SyntaxError",
     "evalue": "cannot assign to function call (3515652462.py, line 1)",
     "output_type": "error",
     "traceback": [
      "\u001b[0;36m  Cell \u001b[0;32mIn[42], line 1\u001b[0;36m\u001b[0m\n\u001b[0;31m    mytup(3) = \"ten is 1010 in binary\"\u001b[0m\n\u001b[0m    ^\u001b[0m\n\u001b[0;31mSyntaxError\u001b[0m\u001b[0;31m:\u001b[0m cannot assign to function call\n"
     ]
    }
   ],
   "source": [
    "mytup(3) = \"ten is 1010 in binary\"  \n",
    "mytup(3)"
   ]
  },
  {
   "cell_type": "markdown",
   "id": "43e1ebe5",
   "metadata": {},
   "source": [
    "### Python Set\n",
    "\n",
    "A set is defined as an unordered, unidexed and immutable collection of items. Whereas lists are defined by `[]`, and tuples are defined by `()`, sets are defined by `{}`."
   ]
  },
  {
   "cell_type": "code",
   "execution_count": 55,
   "id": "460998dd",
   "metadata": {},
   "outputs": [
    {
     "name": "stdout",
     "output_type": "stream",
     "text": [
      "{'B', 'D', 'C', 'A'}\n"
     ]
    },
    {
     "data": {
      "text/plain": [
       "set"
      ]
     },
     "execution_count": 55,
     "metadata": {},
     "output_type": "execute_result"
    }
   ],
   "source": [
    "myset = {\"A\", \"B\", \"C\", \"D\"}\n",
    "print(myset)\n",
    "type(myset)"
   ]
  },
  {
   "cell_type": "markdown",
   "id": "f10a65da",
   "metadata": {},
   "source": [
    "Unordered means that items in the set do not have an assigned order, so they cannot be indexed. Back to our scrabble analogy, it doesn't make any sense to talk about the \"third\" tile in a scrabble bag of letters; the letters in the bag have no order, they're just jumbbled in a bag. Notice above that the elements of the set did *not* print in the order used to make the set. "
   ]
  },
  {
   "cell_type": "markdown",
   "id": "15781ea9",
   "metadata": {},
   "source": [
    "We can make the lack or order for set clear by testing two sets for equality:"
   ]
  },
  {
   "cell_type": "code",
   "execution_count": 58,
   "id": "9f4f9b20",
   "metadata": {},
   "outputs": [
    {
     "data": {
      "text/plain": [
       "True"
      ]
     },
     "execution_count": 58,
     "metadata": {},
     "output_type": "execute_result"
    }
   ],
   "source": [
    "{\"A\", \"B\", \"C\", \"D\"} == {\"D\", \"C\", \"A\", \"B\"}"
   ]
  },
  {
   "cell_type": "markdown",
   "id": "3bb9eb47",
   "metadata": {},
   "source": [
    "So two sets are the same *as long as they contain the same elements*. For lists (and tuples) to be the same, however, the elements also have to be in the same order. So this is `False`: "
   ]
  },
  {
   "cell_type": "code",
   "execution_count": 57,
   "id": "88a50fe8",
   "metadata": {},
   "outputs": [
    {
     "data": {
      "text/plain": [
       "False"
      ]
     },
     "execution_count": 57,
     "metadata": {},
     "output_type": "execute_result"
    }
   ],
   "source": [
    "[\"A\", \"B\", \"C\", \"D\"] == [\"D\", \"C\", \"A\", \"B\"]"
   ]
  },
  {
   "cell_type": "markdown",
   "id": "c9488525",
   "metadata": {},
   "source": [
    "Here's an interesting riddle about sets: What will the following give you? (Think about it before you run it.)"
   ]
  },
  {
   "cell_type": "code",
   "execution_count": 62,
   "id": "631bb49a",
   "metadata": {},
   "outputs": [
    {
     "data": {
      "text/plain": [
       "True"
      ]
     },
     "execution_count": 62,
     "metadata": {},
     "output_type": "execute_result"
    }
   ],
   "source": [
    "{\"A\", \"B\", \"C\", \"D\"} == {\"D\", \"C\", \"A\", \"B\", \"D\"}"
   ]
  },
  {
   "cell_type": "markdown",
   "id": "f99a2e73",
   "metadata": {},
   "source": [
    "What's going on here? By definition, each item in set is *unique*. If you try to specify duplicates in a set, they will be ignored:"
   ]
  },
  {
   "cell_type": "code",
   "execution_count": 63,
   "id": "23a11efd",
   "metadata": {},
   "outputs": [
    {
     "name": "stdout",
     "output_type": "stream",
     "text": [
      "{'D', 'C', 'E', 'K'}\n"
     ]
    }
   ],
   "source": [
    "myset2 = {\"C\", \"K\", \"E\", \"D\", \"D\"}\n",
    "print(myset2)"
   ]
  },
  {
   "cell_type": "markdown",
   "id": "998360c6",
   "metadata": {},
   "source": [
    "So `myset2` contains only one \"D\"."
   ]
  },
  {
   "cell_type": "markdown",
   "id": "282c3efc",
   "metadata": {},
   "source": [
    "Because sets are unorderd, it doesn't make any sense to try to index them. If you try to ask for the element of set at offset 1, you'll get an error:"
   ]
  },
  {
   "cell_type": "code",
   "execution_count": 52,
   "id": "c592826c",
   "metadata": {},
   "outputs": [
    {
     "ename": "TypeError",
     "evalue": "'set' object is not subscriptable",
     "output_type": "error",
     "traceback": [
      "\u001b[0;31m---------------------------------------------------------------------------\u001b[0m",
      "\u001b[0;31mTypeError\u001b[0m                                 Traceback (most recent call last)",
      "\u001b[1;32m/Users/lkc3-admin/Documents/GitHub/FDS-CourseOne_lkc/008_TU_Containers.ipynb Cell 114\u001b[0m line \u001b[0;36m1\n\u001b[0;32m----> <a href='vscode-notebook-cell:/Users/lkc3-admin/Documents/GitHub/FDS-CourseOne_lkc/008_TU_Containers.ipynb#Y221sZmlsZQ%3D%3D?line=0'>1</a>\u001b[0m myset[\u001b[39m1\u001b[39;49m]\n",
      "\u001b[0;31mTypeError\u001b[0m: 'set' object is not subscriptable"
     ]
    }
   ],
   "source": [
    "myset[1]"
   ]
  },
  {
   "cell_type": "code",
   "execution_count": null,
   "id": "bd3cb201-6cf1-4af6-8b12-ac169bc056b4",
   "metadata": {},
   "outputs": [],
   "source": []
  },
  {
   "cell_type": "markdown",
   "id": "db55c5cc",
   "metadata": {},
   "source": [
    "This also means that a set is immutable and elements cannot be replaced:"
   ]
  },
  {
   "cell_type": "code",
   "execution_count": 53,
   "id": "acf15a3c",
   "metadata": {},
   "outputs": [
    {
     "ename": "TypeError",
     "evalue": "'set' object does not support item assignment",
     "output_type": "error",
     "traceback": [
      "\u001b[0;31m---------------------------------------------------------------------------\u001b[0m",
      "\u001b[0;31mTypeError\u001b[0m                                 Traceback (most recent call last)",
      "\u001b[1;32m/Users/lkc3-admin/Documents/GitHub/FDS-CourseOne_lkc/008_TU_Containers.ipynb Cell 117\u001b[0m line \u001b[0;36m1\n\u001b[0;32m----> <a href='vscode-notebook-cell:/Users/lkc3-admin/Documents/GitHub/FDS-CourseOne_lkc/008_TU_Containers.ipynb#Y224sZmlsZQ%3D%3D?line=0'>1</a>\u001b[0m myset[\u001b[39m2\u001b[39m] \u001b[39m=\u001b[39m \u001b[39m\"\u001b[39m\u001b[39mF\u001b[39m\u001b[39m\"\u001b[39m\n",
      "\u001b[0;31mTypeError\u001b[0m: 'set' object does not support item assignment"
     ]
    }
   ],
   "source": [
    "myset[2] = \"F\""
   ]
  },
  {
   "cell_type": "markdown",
   "id": "5894041c",
   "metadata": {},
   "source": [
    "You can make a set from a list.  Lets say, for example, people signed up for something on your organization's website, and their names were automatically stored in a list. But, for various reasons, some people signed up twice. "
   ]
  },
  {
   "cell_type": "code",
   "execution_count": 70,
   "id": "bb072ca0-b00d-47eb-aa79-0a1be4064cac",
   "metadata": {},
   "outputs": [
    {
     "data": {
      "text/plain": [
       "['John', 'Xie', 'Julia', 'Kat', 'Ahmed', 'John']"
      ]
     },
     "execution_count": 70,
     "metadata": {},
     "output_type": "execute_result"
    }
   ],
   "source": [
    "# A real list would be much longer, but...\n",
    "name_list = [\"John\", \"Xie\", \"Julia\", \"Kat\", \"Ahmed\", \"John\"]\n",
    "name_list"
   ]
  },
  {
   "cell_type": "code",
   "execution_count": 71,
   "id": "a8e73aa4",
   "metadata": {},
   "outputs": [
    {
     "name": "stdout",
     "output_type": "stream",
     "text": [
      "{'Xie', 'Julia', 'John', 'Ahmed', 'Kat'}\n"
     ]
    }
   ],
   "source": [
    "# Convert list to set\n",
    "name_set = set(name_list)\n",
    "print(name_set) "
   ]
  },
  {
   "cell_type": "markdown",
   "id": "c6f1add5",
   "metadata": {},
   "source": [
    "The duplicates are now removed! Also, compare the order of the list with the (arbitrary) order in which the members of set were printed."
   ]
  },
  {
   "cell_type": "markdown",
   "id": "f617dc63",
   "metadata": {},
   "source": [
    "Sets have some cool properties; they are the Python implementation of the \"sets\" you learned about in high school or college – remember Ven diagrams? – the overlapping circles with stuff in them? "
   ]
  },
  {
   "cell_type": "markdown",
   "id": "0ec404ab",
   "metadata": {},
   "source": [
    "#### Set operations"
   ]
  },
  {
   "cell_type": "markdown",
   "id": "b87090bc",
   "metadata": {},
   "source": [
    "Python has special operators for comparing two sets: \n",
    "\n",
    "| operator  | action  |\n",
    "|:----------:|:----------|\n",
    "|   `\\|`   |   union   |\n",
    "|   `& `    |   intersection   |\n",
    "|   `-`     |   difference   |\n",
    "|   `^`     |   symmetric difference   |"
   ]
  },
  {
   "cell_type": "markdown",
   "id": "78825e4d",
   "metadata": {},
   "source": [
    "Let's remind ourselves what `myset` and `myset2` contain:"
   ]
  },
  {
   "cell_type": "code",
   "execution_count": 69,
   "id": "f0d4767c",
   "metadata": {},
   "outputs": [
    {
     "name": "stdout",
     "output_type": "stream",
     "text": [
      "{'B', 'D', 'C', 'A'} \n",
      " {'D', 'C', 'E', 'K'}\n"
     ]
    }
   ],
   "source": [
    "print(myset, \"\\n\", myset2)\n"
   ]
  },
  {
   "cell_type": "markdown",
   "id": "bb5d37ac-6684-4818-b088-86b9c08b4ad7",
   "metadata": {},
   "source": [
    "Now we can check out (or remember for high school) what each of the set operators do."
   ]
  },
  {
   "cell_type": "markdown",
   "id": "ba9221c3",
   "metadata": {},
   "source": [
    "##### *Union* - all elements in either set"
   ]
  },
  {
   "cell_type": "code",
   "execution_count": 73,
   "id": "0db23019",
   "metadata": {},
   "outputs": [
    {
     "data": {
      "text/plain": [
       "{'A', 'B', 'C', 'D', 'E', 'K'}"
      ]
     },
     "execution_count": 73,
     "metadata": {},
     "output_type": "execute_result"
    }
   ],
   "source": [
    "myset | myset2"
   ]
  },
  {
   "cell_type": "markdown",
   "id": "2f62936e",
   "metadata": {},
   "source": [
    "##### *Intersection* - only elements in *both* sets"
   ]
  },
  {
   "cell_type": "code",
   "execution_count": 72,
   "id": "c2a92bf1-06d3-48c7-a72b-1eb105b52836",
   "metadata": {},
   "outputs": [
    {
     "data": {
      "text/plain": [
       "{'C', 'D'}"
      ]
     },
     "execution_count": 72,
     "metadata": {},
     "output_type": "execute_result"
    }
   ],
   "source": [
    "myset & myset2"
   ]
  },
  {
   "cell_type": "markdown",
   "id": "85339b3a",
   "metadata": {},
   "source": [
    "##### *Difference* - only elements in the first set but *not* the second set"
   ]
  },
  {
   "cell_type": "code",
   "execution_count": 74,
   "id": "8d31cb30-3d0f-4ea2-af53-711891828c9e",
   "metadata": {},
   "outputs": [
    {
     "data": {
      "text/plain": [
       "{'A', 'B'}"
      ]
     },
     "execution_count": 74,
     "metadata": {},
     "output_type": "execute_result"
    }
   ],
   "source": [
    "myset - myset2"
   ]
  },
  {
   "cell_type": "markdown",
   "id": "747dc609",
   "metadata": {},
   "source": [
    "##### *Symmetric Difference* - only elements that are in one set but *not* the other"
   ]
  },
  {
   "cell_type": "code",
   "execution_count": 76,
   "id": "9b98e11a",
   "metadata": {},
   "outputs": [
    {
     "data": {
      "text/plain": [
       "{'A', 'B', 'E', 'K'}"
      ]
     },
     "execution_count": 76,
     "metadata": {},
     "output_type": "execute_result"
    }
   ],
   "source": [
    "myset ^ myset2"
   ]
  },
  {
   "cell_type": "markdown",
   "id": "a4ceb57e",
   "metadata": {},
   "source": [
    "You might not use `sets` that frequently, but don't forget about them! Many people have fallen into the trap of writing code to compare `lists` when the task could have easly been accomplished by just comparing `sets`."
   ]
  },
  {
   "cell_type": "markdown",
   "id": "6522ed8b",
   "metadata": {},
   "source": [
    "### Python Dictionaries\n",
    "\n",
    "A dictionary is an ordered, changeable, collection of items but do not allow duplicates. Dictionaries are defined by pairs of variables where one of the two variables in the pair is generally thought of as a label, the other one as a value. Whereas lists are defined by `[]`, tuple are defined by `()`, dictionaries just liek sets are defined by `{}`. \n",
    "\n",
    "The structure of the content of dictionaries is differently organized than, lists, tuples and sets:"
   ]
  },
  {
   "cell_type": "code",
   "execution_count": null,
   "id": "577551f4",
   "metadata": {},
   "outputs": [],
   "source": [
    "mydictionary = {\n",
    "    \"apples\": 3, \n",
    "    \"oranges\": 5, \n",
    "    \"bananas\": 2, \n",
    "    \"pinapples\": 1}\n",
    "print(mydictionary)\n",
    "type(mydictionary)"
   ]
  },
  {
   "cell_type": "markdown",
   "id": "9b41d146",
   "metadata": {},
   "source": [
    "Dictionaries allow efficient and human friendly addressing of items. For example, we can recall how many organes we have in the dictionary by directly calling the oranges label and the corresponding value in the pair of values will be returned:"
   ]
  },
  {
   "cell_type": "code",
   "execution_count": null,
   "id": "bd709d64",
   "metadata": {},
   "outputs": [],
   "source": [
    "mydictionary[\"oranges\"]"
   ]
  },
  {
   "cell_type": "markdown",
   "id": "308c28c1",
   "metadata": {},
   "source": [
    "$\\color{blue}{\\text{Answer the following questions.}}$\n",
    "\n",
    "  - Use the cell below to write code that let you find out how many bananas we have in our container `mydictionary` of fruits?\n",
    "  [Report your answer here]"
   ]
  },
  {
   "cell_type": "code",
   "execution_count": null,
   "id": "ea34fa15",
   "metadata": {},
   "outputs": [],
   "source": []
  },
  {
   "cell_type": "markdown",
   "id": "24b260c5",
   "metadata": {},
   "source": [
    "### A few exercises as a reminder"
   ]
  },
  {
   "cell_type": "markdown",
   "id": "66e24530",
   "metadata": {},
   "source": [
    "$\\color{blue}{\\text{Answer the following questions.}}$\n",
    "\n",
    "  - Build a `List` of pets called `home`, where each pet name (a string) is followed by the number of pets I own and have at home (say (cats, 2, dogs, 1, etc)?\n",
    "  \n",
    "  [Show your list in the cell below]"
   ]
  },
  {
   "cell_type": "code",
   "execution_count": null,
   "id": "966bf323",
   "metadata": {},
   "outputs": [],
   "source": []
  },
  {
   "cell_type": "markdown",
   "id": "a3e5d154",
   "metadata": {},
   "source": [
    "  - Build a dictionary called `home_dict`, similar to the `home` list but using the features of the dictionary where a pet name can be associated to its correspoding number.\n",
    "  \n",
    "    [Show your dictionary in the cell below]"
   ]
  },
  {
   "cell_type": "code",
   "execution_count": null,
   "id": "f479bf45",
   "metadata": {},
   "outputs": [],
   "source": []
  },
  {
   "cell_type": "markdown",
   "id": "dee46bcf",
   "metadata": {},
   "source": [
    "  - Find the number of dogs in `home` and in `home_dict`.\n",
    "  \n",
    "    [Show your code in the cell below]"
   ]
  },
  {
   "cell_type": "code",
   "execution_count": null,
   "id": "6633a73e",
   "metadata": {},
   "outputs": [],
   "source": []
  },
  {
   "cell_type": "markdown",
   "id": "8d36562f",
   "metadata": {},
   "source": [
    " [Use this cell, to explain in your own words how you found the dog and the corresponding number of dogs in `home` first and in `home_dict` after that] \n",
    " \n",
    " "
   ]
  },
  {
   "cell_type": "markdown",
   "id": "2be116d5",
   "metadata": {},
   "source": [
    "### More practicing with using Python Lists"
   ]
  },
  {
   "cell_type": "markdown",
   "id": "3d75ecec",
   "metadata": {},
   "source": [
    "Although Lists, Containers, Tuple, and Dictionary are all interesting and important datatypes in python, we will use primarily Lists in thsi class. Below some additional material to practice making lists and accessing them."
   ]
  },
  {
   "cell_type": "markdown",
   "id": "c0099343",
   "metadata": {},
   "source": [
    "Lists in Python are just what they sound like, lists of things. We make them using `[square brackets]`."
   ]
  },
  {
   "cell_type": "code",
   "execution_count": null,
   "id": "42710c7c",
   "metadata": {},
   "outputs": [],
   "source": [
    "mylist = [1, 3, 5, 7, 11, 13]"
   ]
  },
  {
   "cell_type": "markdown",
   "id": "dd8cb115",
   "metadata": {},
   "source": [
    "A list is an extension of a regular (or \"scalar\") `variable`, which can only hold one thing at the time."
   ]
  },
  {
   "cell_type": "code",
   "execution_count": null,
   "id": "e80fe5f4",
   "metadata": {},
   "outputs": [],
   "source": [
    "notalist = 3.14"
   ]
  },
  {
   "cell_type": "code",
   "execution_count": null,
   "id": "73b16e77",
   "metadata": {},
   "outputs": [],
   "source": [
    "print(notalist)"
   ]
  },
  {
   "cell_type": "code",
   "execution_count": null,
   "id": "f72a6ca1",
   "metadata": {},
   "outputs": [],
   "source": [
    "print(mylist)"
   ]
  },
  {
   "cell_type": "markdown",
   "id": "f7ebceaf",
   "metadata": {},
   "source": [
    "Aside: If we're working with only numbers, then you can think of a regular variable as a \"scalar\" and a list as a \"vector\"."
   ]
  },
  {
   "cell_type": "markdown",
   "id": "8460dfde",
   "metadata": {},
   "source": [
    "Lists can, however, hold things besides numbers. For example, they can hold 'text'."
   ]
  },
  {
   "cell_type": "code",
   "execution_count": null,
   "id": "d4e6d26c",
   "metadata": {},
   "outputs": [],
   "source": [
    "mylist2 = ['this', 'is', 'a', 'list', 'of', 'words']"
   ]
  },
  {
   "cell_type": "code",
   "execution_count": null,
   "id": "e405f1a9",
   "metadata": {},
   "outputs": [],
   "source": [
    "mylist2"
   ]
  },
  {
   "cell_type": "markdown",
   "id": "73b9d62b",
   "metadata": {},
   "source": [
    "(Some people, even us, might casually call this a vector but that's technically not true.)"
   ]
  },
  {
   "cell_type": "markdown",
   "id": "4d11607f",
   "metadata": {},
   "source": [
    "In reality, lists can hold all sort of things, say numbers (scalars), 'text' and even other lists, and all at once."
   ]
  },
  {
   "cell_type": "code",
   "execution_count": null,
   "id": "6d48c6eb",
   "metadata": {},
   "outputs": [],
   "source": [
    "mylist3 = [1, 'one', [2, 3, 4]]"
   ]
  },
  {
   "cell_type": "code",
   "execution_count": null,
   "id": "c501bfbc",
   "metadata": {},
   "outputs": [],
   "source": [
    "mylist3"
   ]
  },
  {
   "cell_type": "markdown",
   "id": "7d4fc5e7",
   "metadata": {},
   "source": [
    "Note that this last list holds a list at index=2"
   ]
  },
  {
   "cell_type": "markdown",
   "id": "73428ff5",
   "metadata": {},
   "source": [
    "We can get elements of a list by using `index` values in square brackets."
   ]
  },
  {
   "cell_type": "code",
   "execution_count": null,
   "id": "0354066e",
   "metadata": {},
   "outputs": [],
   "source": [
    "mylist"
   ]
  },
  {
   "cell_type": "code",
   "execution_count": null,
   "id": "d1c7eec6",
   "metadata": {
    "scrolled": true
   },
   "outputs": [],
   "source": [
    "mylist[5]"
   ]
  },
  {
   "cell_type": "code",
   "execution_count": null,
   "id": "5087d5a3",
   "metadata": {},
   "outputs": [],
   "source": [
    "mylist3[2]"
   ]
  },
  {
   "cell_type": "markdown",
   "id": "8d0be1ae",
   "metadata": {},
   "source": [
    "**Python uses a 0-based indexing, not a 1-based indexing (the first value in container is indexed with the number 0). This means that the first value in a list is at index=0, not index=1. This is different than many other languages including R and MatLab!**"
   ]
  },
  {
   "cell_type": "markdown",
   "id": "2a97c258",
   "metadata": {},
   "source": [
    "We can address more than one element in a list by using the `:` (colon) operator."
   ]
  },
  {
   "cell_type": "code",
   "execution_count": null,
   "id": "0a06fd7b",
   "metadata": {},
   "outputs": [],
   "source": [
    "mylist[0:3]"
   ]
  },
  {
   "cell_type": "markdown",
   "id": "09ae6a64",
   "metadata": {},
   "source": [
    "We can read this as \"Give me all the elements in the interval between 0 **inclusive** to 3 **exclusive**.\"\n",
    "\n",
    "I know this is weird. But at least for any two indexes `a` and `b`, the number of elements you get back from `mylist[a,b]` is always equal to `b` minus `a`, so I guess that's good!"
   ]
  },
  {
   "cell_type": "markdown",
   "id": "97c3441e",
   "metadata": {},
   "source": [
    "We can get any consecutive hunk of elements using `:`."
   ]
  },
  {
   "cell_type": "code",
   "execution_count": null,
   "id": "24a6dbc5",
   "metadata": {},
   "outputs": [],
   "source": [
    "mylist[2:5]"
   ]
  },
  {
   "cell_type": "markdown",
   "id": "432eb54a",
   "metadata": {},
   "source": [
    "If you omit the indexes, Python will assume you want everything."
   ]
  },
  {
   "cell_type": "code",
   "execution_count": null,
   "id": "f32671ee",
   "metadata": {},
   "outputs": [],
   "source": [
    "mylist[:]"
   ]
  },
  {
   "cell_type": "markdown",
   "id": "3b28978b",
   "metadata": {},
   "source": [
    "That doesn't seem very useful... But, actually, it will turn out to be **really** useful later on, when we will start using numpy arrays!"
   ]
  },
  {
   "cell_type": "markdown",
   "id": "e8440369",
   "metadata": {},
   "source": [
    "If you just use one index, the `:` is assumed to mean \"from the beginning\" or \"to the end\". Like this:"
   ]
  },
  {
   "cell_type": "code",
   "execution_count": null,
   "id": "0da9410f",
   "metadata": {},
   "outputs": [],
   "source": [
    "mylist[:3] # from the beginning to 3"
   ]
  },
  {
   "cell_type": "markdown",
   "id": "0f27b36f",
   "metadata": {},
   "source": [
    "And this:"
   ]
  },
  {
   "cell_type": "code",
   "execution_count": null,
   "id": "36c50220",
   "metadata": {},
   "outputs": [],
   "source": [
    "mylist[3:] # from 3 to the end"
   ]
  },
  {
   "cell_type": "markdown",
   "id": "a82376cd",
   "metadata": {},
   "source": [
    "In addition to the `list[start:stop]` syntax, you can add a step after a second colon, as in `list[start:stop:step]`. This asks for all the element between `start` and `stop` but in steps of `step`, not necessarily consecutive elements. For example every other element:"
   ]
  },
  {
   "cell_type": "code",
   "execution_count": null,
   "id": "09e1cec1",
   "metadata": {},
   "outputs": [],
   "source": [
    "mylist[0:5:2] # get every other element"
   ]
  },
  {
   "cell_type": "markdown",
   "id": "fd25f983",
   "metadata": {},
   "source": [
    "As you've probably figured out, all our outputs above have been lists. So if we assign the output a name, it will be another list."
   ]
  },
  {
   "cell_type": "code",
   "execution_count": null,
   "id": "9f59d732",
   "metadata": {},
   "outputs": [],
   "source": [
    "every_other_one = mylist[0:-1:2] # could also do mylist[0::2]"
   ]
  },
  {
   "cell_type": "code",
   "execution_count": null,
   "id": "8e584a75",
   "metadata": {},
   "outputs": [],
   "source": [
    "every_other_one"
   ]
  },
  {
   "cell_type": "markdown",
   "id": "44125e74",
   "metadata": {},
   "source": [
    "See!"
   ]
  },
  {
   "cell_type": "markdown",
   "id": "707a58c5",
   "metadata": {},
   "source": [
    "If we want a group of elements that aren't evenly spaced, we'll need to specify the indexes \"by hand\"."
   ]
  },
  {
   "cell_type": "code",
   "execution_count": null,
   "id": "ed25cb5a",
   "metadata": {},
   "outputs": [],
   "source": [
    "anothernewlist = [mylist[1],mylist[2],mylist[4]]"
   ]
  },
  {
   "cell_type": "code",
   "execution_count": null,
   "id": "23094e01",
   "metadata": {},
   "outputs": [],
   "source": [
    "anothernewlist"
   ]
  },
  {
   "cell_type": "markdown",
   "id": "64f4fec3",
   "metadata": {},
   "source": [
    "So those are the basics of lists. They:\n",
    "\n",
    "* store a list of things (duh)\n",
    "* start at index zero\n",
    "* can be accessed using three things together:\n",
    "    - square brackets `[]`\n",
    "    - integer indexes (including negative \"start from the end\" indexes)\n",
    "    - a colon `:` (or two if you want a step value other than 1)\n",
    "    \n"
   ]
  },
  {
   "cell_type": "code",
   "execution_count": null,
   "id": "4ed2e42b",
   "metadata": {},
   "outputs": [],
   "source": [
    "letters = [2, 4,  3, 6, 5, 8, 11, 10, 9, 14, 13, 12, 7]\n",
    "# 'abcdefghijklmnopqrstuvwxyzABCDEFGHIJKLMNOPQRSTUVWXYZ'\n",
    "\n",
    "string_letters = str(letters)\n",
    "lists_letters = list(letters)\n",
    "tuples_letters = tuple(letters)\n",
    "sets_letters = set(letters)\n",
    "\n",
    "\n",
    "print(\"String: \", string_letters)\n",
    "print(\"Lists: \", lists_letters)\n",
    "print(\"Tuples: \", tuples_letters)\n",
    "print(\"Sets: \", sets_letters)"
   ]
  },
  {
   "cell_type": "code",
   "execution_count": null,
   "id": "0f6ab47a",
   "metadata": {},
   "outputs": [],
   "source": []
  }
 ],
 "metadata": {
  "kernelspec": {
   "display_name": "Python 3 (ipykernel)",
   "language": "python",
   "name": "python3"
  },
  "language_info": {
   "codemirror_mode": {
    "name": "ipython",
    "version": 3
   },
   "file_extension": ".py",
   "mimetype": "text/x-python",
   "name": "python",
   "nbconvert_exporter": "python",
   "pygments_lexer": "ipython3",
   "version": "3.8.17"
  }
 },
 "nbformat": 4,
 "nbformat_minor": 5
}
