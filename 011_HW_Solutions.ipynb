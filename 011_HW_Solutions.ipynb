{
 "cells": [
  {
   "cell_type": "code",
   "execution_count": null,
   "id": "43265b75-3649-4d91-83ff-17ad5ffcdb06",
   "metadata": {},
   "outputs": [],
   "source": []
  },
  {
   "cell_type": "markdown",
   "id": "cbcbafcb-fe35-4431-9d4e-7051f52c9934",
   "metadata": {},
   "source": [
    "Sometimes, you might want to use a `while` loop because you don't know when to stop looping ahead of time but, if a condition is met, you want to bail out of the loop immediately, without waiting for the loop to start at the top again. In these cases, we can use the `break` command.  \n",
    "\n",
    "Consider the following, where we ask the user to keep entering numbers until they're done, at which point they can hit the \"q\" key."
   ]
  },
  {
   "cell_type": "code",
   "execution_count": null,
   "id": "2cf032a6-4637-432f-ae10-ff9f81256d35",
   "metadata": {},
   "outputs": [],
   "source": [
    "user_input = []\n",
    "next = \"p\"\n",
    "while next != \"q\" :\n",
    "    next = input(\"Enter another number ('q' to quit): \\n\")\n",
    "    if next == \"q\" :\n",
    "        print(\"Thank you.\\n\")\n",
    "        #break\n",
    "    else :\n",
    "        user_input.append(next)\n",
    "\n",
    "print(user_input)\n",
    "    "
   ]
  }
 ],
 "metadata": {
  "kernelspec": {
   "display_name": "Python 3 (ipykernel)",
   "language": "python",
   "name": "python3"
  },
  "language_info": {
   "codemirror_mode": {
    "name": "ipython",
    "version": 3
   },
   "file_extension": ".py",
   "mimetype": "text/x-python",
   "name": "python",
   "nbconvert_exporter": "python",
   "pygments_lexer": "ipython3",
   "version": "3.8.17"
  }
 },
 "nbformat": 4,
 "nbformat_minor": 5
}
