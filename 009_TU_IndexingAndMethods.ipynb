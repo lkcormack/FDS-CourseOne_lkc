{
 "cells": [
  {
   "cell_type": "markdown",
   "id": "60242d2c",
   "metadata": {},
   "source": [
    "# Indexing and Container Methods"
   ]
  },
  {
   "cell_type": "markdown",
   "id": "4e05c6cf",
   "metadata": {},
   "source": [
    "### Learning Goals\n",
    "\n",
    "  - Indexing and slicing of \n",
    "    - strings\n",
    "    - lists\n",
    "    - tuples\n",
    "  - Python Object Methods"
   ]
  },
  {
   "cell_type": "markdown",
   "id": "1c655993-704e-49d4-b3ec-ca31ac281d06",
   "metadata": {},
   "source": [
    "---"
   ]
  },
  {
   "cell_type": "markdown",
   "id": "9b1bbe60-952f-45bf-a499-bbf44e320feb",
   "metadata": {},
   "source": [
    "Indexing in Python is *zero-based*. So what you might expect to be the first element of something is actually the \"zeroith\" element. The way to think about it is that the \"index\" is really an *offset* from the beginning of the container, i.e. the first element. So `mystring[1]` is saying \"Whatever is 1 element over from the beginning of the string\", which is a space (`' '`)."
   ]
  },
  {
   "cell_type": "markdown",
   "id": "9c110ccf-2fc3-4948-abb6-1b63dbc8853e",
   "metadata": {},
   "source": [
    "You can index from the end too. Try a `mystring[-1]`:"
   ]
  },
  {
   "cell_type": "code",
   "execution_count": 11,
   "id": "77a93322-7055-487f-a4c3-77f5321ed857",
   "metadata": {},
   "outputs": [
    {
     "data": {
      "text/plain": [
       "'s'"
      ]
     },
     "execution_count": 11,
     "metadata": {},
     "output_type": "execute_result"
    }
   ],
   "source": [
    "mystring[-1]"
   ]
  },
  {
   "cell_type": "markdown",
   "id": "ec3d07a3-7a20-4acf-9ea5-ed205b4488de",
   "metadata": {},
   "source": [
    "Wait, what happened there? Is indexing from the end one-based and indexing from the beggining is zero-based? Well, functionally \"yes\", but it actually makes sense and is consistent."
   ]
  },
  {
   "cell_type": "markdown",
   "id": "28a2c251-d37d-4b3f-8769-d6a052f30cf9",
   "metadata": {},
   "source": [
    "First, `-0` is the same as `0`:"
   ]
  },
  {
   "cell_type": "code",
   "execution_count": 20,
   "id": "351cdc87-2d0c-46e2-8d99-8b15fa72e6b5",
   "metadata": {},
   "outputs": [
    {
     "data": {
      "text/plain": [
       "True"
      ]
     },
     "execution_count": 20,
     "metadata": {},
     "output_type": "execute_result"
    }
   ],
   "source": [
    "-0 == 0"
   ]
  },
  {
   "cell_type": "markdown",
   "id": "2bafb9dc-7800-4860-aa62-6aac82dbd1f6",
   "metadata": {},
   "source": [
    "So if we do a `mystring[-0]`..."
   ]
  },
  {
   "cell_type": "code",
   "execution_count": 21,
   "id": "32bfe491-8118-4381-9b2f-50b15af61eb4",
   "metadata": {},
   "outputs": [
    {
     "data": {
      "text/plain": [
       "'a'"
      ]
     },
     "execution_count": 21,
     "metadata": {},
     "output_type": "execute_result"
    }
   ],
   "source": [
    "mystring[-0]"
   ]
  },
  {
   "cell_type": "markdown",
   "id": "40f78fff-dc21-4266-a225-235fe337d354",
   "metadata": {},
   "source": [
    "We get the first element, `a`, which makes sense; it's the same as `mystring[0]`. \n",
    "\n",
    "Now let's do a `len(mystring) - 1`:"
   ]
  },
  {
   "cell_type": "code",
   "execution_count": 15,
   "id": "aa3fb83d-8738-4aaa-8a21-790edd92d92c",
   "metadata": {},
   "outputs": [
    {
     "data": {
      "text/plain": [
       "23"
      ]
     },
     "execution_count": 15,
     "metadata": {},
     "output_type": "execute_result"
    }
   ],
   "source": [
    "len(mystring) - 1"
   ]
  },
  {
   "cell_type": "markdown",
   "id": "b8f370c0-26f2-403c-8297-c99481a95d61",
   "metadata": {},
   "source": [
    "Which corresponds to the *offset* of the last element. So now let's get the last element the \"long\" way:"
   ]
  },
  {
   "cell_type": "code",
   "execution_count": 16,
   "id": "d9ad8b63-d9d4-4ff7-a946-861036c14c1a",
   "metadata": {},
   "outputs": [
    {
     "data": {
      "text/plain": [
       "'s'"
      ]
     },
     "execution_count": 16,
     "metadata": {},
     "output_type": "execute_result"
    }
   ],
   "source": [
    "mystring[len(mystring) - 1]"
   ]
  },
  {
   "cell_type": "markdown",
   "id": "24e013f3-5de9-42ea-9059-c8fbeb245ebc",
   "metadata": {},
   "source": [
    "Which works just fine. But why do that when we can just do `mystring[-1]`?!"
   ]
  },
  {
   "cell_type": "code",
   "execution_count": 22,
   "id": "e79452b5-5856-46de-a0ec-9b6d2babbb03",
   "metadata": {},
   "outputs": [
    {
     "data": {
      "text/plain": [
       "'s'"
      ]
     },
     "execution_count": 22,
     "metadata": {},
     "output_type": "execute_result"
    }
   ],
   "source": [
    "mystring[-1]"
   ]
  },
  {
   "cell_type": "markdown",
   "id": "5b0e0f74-ce89-44d8-bc05-9301c9fe774c",
   "metadata": {},
   "source": [
    "#### Slicing"
   ]
  },
  {
   "cell_type": "markdown",
   "id": "5b71da32-0862-4e2c-8114-c4a19bed10d0",
   "metadata": {},
   "source": [
    "We'll do much more indexing as we go but, briefly, we can grab multiple elements by \"slicing\" using the `:` (colon) operator. Like this:"
   ]
  },
  {
   "cell_type": "code",
   "execution_count": 24,
   "id": "3a2cb886-a883-42e8-a65f-e32725e23eb4",
   "metadata": {},
   "outputs": [
    {
     "data": {
      "text/plain": [
       "'a sequence'"
      ]
     },
     "execution_count": 24,
     "metadata": {},
     "output_type": "execute_result"
    }
   ],
   "source": [
    "sub_str = mystring[0:10]\n",
    "sub_str"
   ]
  },
  {
   "cell_type": "markdown",
   "id": "4ad5d09c-865e-4e52-bf7c-6308a312a716",
   "metadata": {},
   "source": [
    "Which can be read as \"Start at offset 0 and finish at offset 10.\""
   ]
  },
  {
   "cell_type": "markdown",
   "id": "a23ae8b7-b4ab-493b-bc8b-849b09cc9091",
   "metadata": {},
   "source": [
    "We do *not* get the element at offset 10; we get what's up to but *not* including offset 10. "
   ]
  },
  {
   "cell_type": "code",
   "execution_count": 27,
   "id": "de59c76b-b58e-4fa0-bec3-43924f71b49c",
   "metadata": {},
   "outputs": [
    {
     "data": {
      "text/plain": [
       "' '"
      ]
     },
     "execution_count": 27,
     "metadata": {},
     "output_type": "execute_result"
    }
   ],
   "source": [
    "mystring[10]"
   ]
  },
  {
   "cell_type": "markdown",
   "id": "e81ae9e5-16c8-48b2-8bae-153eb2f86188",
   "metadata": {},
   "source": [
    "is a space. But if we look at the last element of `sub_str`:"
   ]
  },
  {
   "cell_type": "code",
   "execution_count": 28,
   "id": "ebdaea6c-cd2e-4fa0-809f-cdcf75fe2405",
   "metadata": {},
   "outputs": [
    {
     "data": {
      "text/plain": [
       "'e'"
      ]
     },
     "execution_count": 28,
     "metadata": {},
     "output_type": "execute_result"
    }
   ],
   "source": [
    "sub_str[-1]"
   ]
  },
  {
   "cell_type": "markdown",
   "id": "76577648-3ae7-4ffd-83df-b99e53821f91",
   "metadata": {},
   "source": [
    "it's an \"e\", and if we try this:"
   ]
  },
  {
   "cell_type": "code",
   "execution_count": 26,
   "id": "1364c44c-5296-4fe8-afc8-2344d44e7cdd",
   "metadata": {},
   "outputs": [
    {
     "ename": "IndexError",
     "evalue": "string index out of range",
     "output_type": "error",
     "traceback": [
      "\u001b[0;31m---------------------------------------------------------------------------\u001b[0m",
      "\u001b[0;31mIndexError\u001b[0m                                Traceback (most recent call last)",
      "Cell \u001b[0;32mIn[26], line 1\u001b[0m\n\u001b[0;32m----> 1\u001b[0m \u001b[43msub_str\u001b[49m\u001b[43m[\u001b[49m\u001b[38;5;241;43m10\u001b[39;49m\u001b[43m]\u001b[49m\n",
      "\u001b[0;31mIndexError\u001b[0m: string index out of range"
     ]
    }
   ],
   "source": [
    "sub_str[10]"
   ]
  },
  {
   "cell_type": "markdown",
   "id": "083e2a68-2c39-4a6e-b22b-bb6351710b93",
   "metadata": {},
   "source": [
    "We get an error telling us that there isn't anything at offset 10! But we *did* get 10 elements, which we can confirm by:"
   ]
  },
  {
   "cell_type": "code",
   "execution_count": 30,
   "id": "c679fdd0-51d7-4547-8ee8-cbbbfd44a163",
   "metadata": {},
   "outputs": [
    {
     "data": {
      "text/plain": [
       "10"
      ]
     },
     "execution_count": 30,
     "metadata": {},
     "output_type": "execute_result"
    }
   ],
   "source": [
    "len(sub_str)"
   ]
  },
  {
   "cell_type": "markdown",
   "id": "2e604527-1516-494d-84dc-8f7414539fb7",
   "metadata": {},
   "source": [
    "One way to think about this is to \n",
    " 1. think of the \"offsets\" as being just to the left of the corresponding letter in the string, and\n",
    " 2. read `mystring[start offset : end offset`] as giving you all the things that are to the right of \"start offset\" and to the left of \"end offset\"."
   ]
  },
  {
   "cell_type": "markdown",
   "id": "d2001df5-36e8-4c76-a0c1-dc0bb950eb1e",
   "metadata": {},
   "source": [
    "As we mentioned before, we've got *much* more indexing to go – it's a huge part of data science!"
   ]
  },
  {
   "cell_type": "code",
   "execution_count": 32,
   "id": "c2a5ef4d-2d8f-425d-94ce-a51f75fe7fc7",
   "metadata": {},
   "outputs": [
    {
     "ename": "TypeError",
     "evalue": "'str' object does not support item assignment",
     "output_type": "error",
     "traceback": [
      "\u001b[0;31m---------------------------------------------------------------------------\u001b[0m",
      "\u001b[0;31mTypeError\u001b[0m                                 Traceback (most recent call last)",
      "Cell \u001b[0;32mIn[32], line 1\u001b[0m\n\u001b[0;32m----> 1\u001b[0m \u001b[43mmystring\u001b[49m\u001b[43m[\u001b[49m\u001b[38;5;241;43m0\u001b[39;49m\u001b[43m]\u001b[49m \u001b[38;5;241m=\u001b[39m \u001b[38;5;124m'\u001b[39m\u001b[38;5;124m1\u001b[39m\u001b[38;5;124m'\u001b[39m\n",
      "\u001b[0;31mTypeError\u001b[0m: 'str' object does not support item assignment"
     ]
    }
   ],
   "source": [
    "mystring[0] = '1'"
   ]
  },
  {
   "cell_type": "markdown",
   "id": "3c6d45f8-0c73-448f-9acd-004aa4537d32",
   "metadata": {},
   "source": [
    "Instead, you need to make a new string, which you could do with minimal typing like this:"
   ]
  },
  {
   "cell_type": "code",
   "execution_count": 39,
   "id": "446da568-1371-4c80-ae25-cc516b5192ce",
   "metadata": {},
   "outputs": [
    {
     "data": {
      "text/plain": [
       "'1 sequence of characters'"
      ]
     },
     "execution_count": 39,
     "metadata": {},
     "output_type": "execute_result"
    }
   ],
   "source": [
    "new_str = '1' + mystring[1:]\n",
    "new_str"
   ]
  },
  {
   "cell_type": "markdown",
   "id": "c8b62dfa-cd5b-4b01-8927-af958c792e3f",
   "metadata": {},
   "source": [
    "Note that if you don't specify the number of elements after the `:`, Python interprets it as \"to the end\". Again, we're going to get lots of indexing practice as we go!"
   ]
  },
  {
   "cell_type": "code",
   "execution_count": 40,
   "id": "cbe015e9",
   "metadata": {},
   "outputs": [
    {
     "name": "stdout",
     "output_type": "stream",
     "text": [
      "[2, 3, 4, 5]\n"
     ]
    }
   ],
   "source": [
    "mylist = [2, 3, 4, 5] # this list contains 4 numbers\n",
    "print(mylist)"
   ]
  },
  {
   "cell_type": "markdown",
   "id": "650aee0c-7e93-4ae5-be1a-570aff3906a3",
   "metadata": {},
   "source": [
    "### *Methods* of Python objects"
   ]
  },
  {
   "cell_type": "markdown",
   "id": "6032a364",
   "metadata": {},
   "source": [
    "Anything that holds data in Python, be it an `int` (integer), `str` (string), `list`, `tuple`, etc., is an *object*. Objects can be thought of as boxes with a front, clear half in which you can see its values, and a back, opaque part that holds lots of valuable hidden things called \"methods\". Methods are verbs; they are actions that the objects can perform."
   ]
  },
  {
   "cell_type": "markdown",
   "id": "0edfd283-8a61-4551-9304-84580170ca30",
   "metadata": {},
   "source": [
    "So, for example, a list knows how to append something to the end of itself, you just have to tell it what to append. Like this:"
   ]
  },
  {
   "cell_type": "code",
   "execution_count": 30,
   "id": "3831cdcb",
   "metadata": {},
   "outputs": [
    {
     "data": {
      "text/plain": [
       "[10, 'ten', 'X', 1010, 4]"
      ]
     },
     "execution_count": 30,
     "metadata": {},
     "output_type": "execute_result"
    }
   ],
   "source": [
    "mylist.append(4) \n",
    "mylist"
   ]
  },
  {
   "cell_type": "markdown",
   "id": "936b8353-415c-4be6-8ae1-009fbdaab3ef",
   "metadata": {},
   "source": [
    "But you can't do this with tuples!"
   ]
  },
  {
   "cell_type": "code",
   "execution_count": 31,
   "id": "6aa706d4",
   "metadata": {
    "jupyter": {
     "source_hidden": true
    }
   },
   "outputs": [
    {
     "ename": "AttributeError",
     "evalue": "'tuple' object has no attribute 'append'",
     "output_type": "error",
     "traceback": [
      "\u001b[0;31m---------------------------------------------------------------------------\u001b[0m",
      "\u001b[0;31mAttributeError\u001b[0m                            Traceback (most recent call last)",
      "Cell \u001b[0;32mIn[31], line 1\u001b[0m\n\u001b[0;32m----> 1\u001b[0m \u001b[43mmytup\u001b[49m\u001b[38;5;241;43m.\u001b[39;49m\u001b[43mappend\u001b[49m(\u001b[38;5;241m4\u001b[39m)\n",
      "\u001b[0;31mAttributeError\u001b[0m: 'tuple' object has no attribute 'append'"
     ]
    }
   ],
   "source": [
    "mytup.append(4)    # fails"
   ]
  },
  {
   "cell_type": "markdown",
   "id": "34b98b65-a77e-4705-ab91-82869042b35f",
   "metadata": {},
   "source": [
    "Because tupples are immutable by definition, it wouldn't make any sense to have an `append` method; it would violate the very tuppleness of tuples!"
   ]
  },
  {
   "cell_type": "code",
   "execution_count": null,
   "id": "209c9607-9903-496a-82ae-71fe6ba73097",
   "metadata": {},
   "outputs": [],
   "source": []
  },
  {
   "cell_type": "code",
   "execution_count": null,
   "id": "51cbd293-4805-407f-afb8-e89b5fbf2dff",
   "metadata": {},
   "outputs": [],
   "source": []
  },
  {
   "cell_type": "code",
   "execution_count": null,
   "id": "39781539-b25e-4613-84e9-a9a3c6e7af97",
   "metadata": {},
   "outputs": [],
   "source": []
  },
  {
   "cell_type": "markdown",
   "id": "499b2f57",
   "metadata": {},
   "source": [
    "*note. You can explore all the other methods of a container (or any variable in Python) by typing: `<containerName>.` and then hit the `TAB` key on your keyboard.*  Don't forget the \"**.**\" after the name of your container!"
   ]
  },
  {
   "cell_type": "markdown",
   "id": "2504bf45",
   "metadata": {},
   "source": [
    "$\\color{blue}{\\text{Answer the following questions.}}$\n",
    "\n",
    "  - How many methods does a `Tuple` have?\n",
    "  [Report your answer here]\n",
    "  \n",
    "  - Which methods does a `List` have?\n",
    "  [Report your answer here]\n",
    "  "
   ]
  },
  {
   "cell_type": "markdown",
   "id": "24b260c5",
   "metadata": {},
   "source": [
    "### A few exercises as a reminder"
   ]
  },
  {
   "cell_type": "markdown",
   "id": "66e24530",
   "metadata": {},
   "source": [
    "$\\color{blue}{\\text{Answer the following questions.}}$\n",
    "\n",
    "  - Build a `List` of pets called `home`, where each pet name (a string) is followed by the number of pets I own and have at home (say (cats, 2, dogs, 1, etc)?\n",
    "  \n",
    "  [Show your list in the cell below]"
   ]
  },
  {
   "cell_type": "code",
   "execution_count": null,
   "id": "966bf323",
   "metadata": {},
   "outputs": [],
   "source": []
  },
  {
   "cell_type": "markdown",
   "id": "a3e5d154",
   "metadata": {},
   "source": [
    "  - Build a dictionary called `home_dict`, similar to the `home` list but using the features of the dictionary where a pet name can be associated to its correspoding number.\n",
    "  \n",
    "    [Show your dictionary in the cell below]"
   ]
  },
  {
   "cell_type": "code",
   "execution_count": null,
   "id": "f479bf45",
   "metadata": {},
   "outputs": [],
   "source": []
  },
  {
   "cell_type": "markdown",
   "id": "dee46bcf",
   "metadata": {},
   "source": [
    "  - Find the number of dogs in `home` and in `home_dict`.\n",
    "  \n",
    "    [Show your code in the cell below]"
   ]
  },
  {
   "cell_type": "code",
   "execution_count": null,
   "id": "6633a73e",
   "metadata": {},
   "outputs": [],
   "source": []
  },
  {
   "cell_type": "markdown",
   "id": "8d36562f",
   "metadata": {},
   "source": [
    " [Use this cell, to explain in your own words how you found the dog and the corresponding number of dogs in `home` first and in `home_dict` after that] \n",
    " \n",
    " "
   ]
  },
  {
   "cell_type": "markdown",
   "id": "2be116d5",
   "metadata": {},
   "source": [
    "### More practicing with using Python Lists"
   ]
  },
  {
   "cell_type": "markdown",
   "id": "3d75ecec",
   "metadata": {},
   "source": [
    "Although Lists, Containers, Tuple, and Dictionary are all interesting and important datatypes in python, we will use primarily Lists in thsi class. Below some additional material to practice making lists and accessing them."
   ]
  },
  {
   "cell_type": "markdown",
   "id": "c0099343",
   "metadata": {},
   "source": [
    "Lists in Python are just what they sound like, lists of things. We make them using `[square brackets]`."
   ]
  },
  {
   "cell_type": "code",
   "execution_count": null,
   "id": "42710c7c",
   "metadata": {},
   "outputs": [],
   "source": [
    "mylist = [1, 3, 5, 7, 11, 13]"
   ]
  },
  {
   "cell_type": "markdown",
   "id": "dd8cb115",
   "metadata": {},
   "source": [
    "A list is an extension of a regular (or \"scalar\") `variable`, which can only hold one thing at the time."
   ]
  },
  {
   "cell_type": "code",
   "execution_count": null,
   "id": "e80fe5f4",
   "metadata": {},
   "outputs": [],
   "source": [
    "notalist = 3.14"
   ]
  },
  {
   "cell_type": "code",
   "execution_count": null,
   "id": "73b16e77",
   "metadata": {},
   "outputs": [],
   "source": [
    "print(notalist)"
   ]
  },
  {
   "cell_type": "code",
   "execution_count": null,
   "id": "f72a6ca1",
   "metadata": {},
   "outputs": [],
   "source": [
    "print(mylist)"
   ]
  },
  {
   "cell_type": "markdown",
   "id": "f7ebceaf",
   "metadata": {},
   "source": [
    "Aside: If we're working with only numbers, then you can think of a regular variable as a \"scalar\" and a list as a \"vector\"."
   ]
  },
  {
   "cell_type": "markdown",
   "id": "8460dfde",
   "metadata": {},
   "source": [
    "Lists can, however, hold things besides numbers. For example, they can hold 'text'."
   ]
  },
  {
   "cell_type": "code",
   "execution_count": null,
   "id": "d4e6d26c",
   "metadata": {},
   "outputs": [],
   "source": [
    "mylist2 = ['this', 'is', 'a', 'list', 'of', 'words']"
   ]
  },
  {
   "cell_type": "code",
   "execution_count": null,
   "id": "e405f1a9",
   "metadata": {},
   "outputs": [],
   "source": [
    "mylist2"
   ]
  },
  {
   "cell_type": "markdown",
   "id": "73b9d62b",
   "metadata": {},
   "source": [
    "(Some people, even us, might casually call this a vector but that's technically not true.)"
   ]
  },
  {
   "cell_type": "markdown",
   "id": "4d11607f",
   "metadata": {},
   "source": [
    "In reality, lists can hold all sort of things, say numbers (scalars), 'text' and even other lists, and all at once."
   ]
  },
  {
   "cell_type": "code",
   "execution_count": null,
   "id": "6d48c6eb",
   "metadata": {},
   "outputs": [],
   "source": [
    "mylist3 = [1, 'one', [2, 3, 4]]"
   ]
  },
  {
   "cell_type": "code",
   "execution_count": null,
   "id": "c501bfbc",
   "metadata": {},
   "outputs": [],
   "source": [
    "mylist3"
   ]
  },
  {
   "cell_type": "markdown",
   "id": "7d4fc5e7",
   "metadata": {},
   "source": [
    "Note that this last list holds a list at index=2"
   ]
  },
  {
   "cell_type": "markdown",
   "id": "73428ff5",
   "metadata": {},
   "source": [
    "We can get elements of a list by using `index` values in square brackets."
   ]
  },
  {
   "cell_type": "code",
   "execution_count": null,
   "id": "0354066e",
   "metadata": {},
   "outputs": [],
   "source": [
    "mylist"
   ]
  },
  {
   "cell_type": "code",
   "execution_count": null,
   "id": "d1c7eec6",
   "metadata": {
    "scrolled": true
   },
   "outputs": [],
   "source": [
    "mylist[5]"
   ]
  },
  {
   "cell_type": "code",
   "execution_count": null,
   "id": "5087d5a3",
   "metadata": {},
   "outputs": [],
   "source": [
    "mylist3[2]"
   ]
  },
  {
   "cell_type": "markdown",
   "id": "8d0be1ae",
   "metadata": {},
   "source": [
    "**Python uses a 0-based indexing, not a 1-based indexing (the first value in container is indexed with the number 0). This means that the first value in a list is at index=0, not index=1. This is different than many other languages including R and MatLab!**"
   ]
  },
  {
   "cell_type": "markdown",
   "id": "2a97c258",
   "metadata": {},
   "source": [
    "We can address more than one element in a list by using the `:` (colon) operator."
   ]
  },
  {
   "cell_type": "code",
   "execution_count": null,
   "id": "0a06fd7b",
   "metadata": {},
   "outputs": [],
   "source": [
    "mylist[0:3]"
   ]
  },
  {
   "cell_type": "markdown",
   "id": "09ae6a64",
   "metadata": {},
   "source": [
    "We can read this as \"Give me all the elements in the interval between 0 **inclusive** to 3 **exclusive**.\"\n",
    "\n",
    "I know this is weird. But at least for any two indexes `a` and `b`, the number of elements you get back from `mylist[a,b]` is always equal to `b` minus `a`, so I guess that's good!"
   ]
  },
  {
   "cell_type": "markdown",
   "id": "97c3441e",
   "metadata": {},
   "source": [
    "We can get any consecutive hunk of elements using `:`."
   ]
  },
  {
   "cell_type": "code",
   "execution_count": null,
   "id": "24a6dbc5",
   "metadata": {},
   "outputs": [],
   "source": [
    "mylist[2:5]"
   ]
  },
  {
   "cell_type": "markdown",
   "id": "432eb54a",
   "metadata": {},
   "source": [
    "If you omit the indexes, Python will assume you want everything."
   ]
  },
  {
   "cell_type": "code",
   "execution_count": null,
   "id": "f32671ee",
   "metadata": {},
   "outputs": [],
   "source": [
    "mylist[:]"
   ]
  },
  {
   "cell_type": "markdown",
   "id": "3b28978b",
   "metadata": {},
   "source": [
    "That doesn't seem very useful... But, actually, it will turn out to be **really** useful later on, when we will start using numpy arrays!"
   ]
  },
  {
   "cell_type": "markdown",
   "id": "e8440369",
   "metadata": {},
   "source": [
    "If you just use one index, the `:` is assumed to mean \"from the beginning\" or \"to the end\". Like this:"
   ]
  },
  {
   "cell_type": "code",
   "execution_count": null,
   "id": "0da9410f",
   "metadata": {},
   "outputs": [],
   "source": [
    "mylist[:3] # from the beginning to 3"
   ]
  },
  {
   "cell_type": "markdown",
   "id": "0f27b36f",
   "metadata": {},
   "source": [
    "And this:"
   ]
  },
  {
   "cell_type": "code",
   "execution_count": null,
   "id": "36c50220",
   "metadata": {},
   "outputs": [],
   "source": [
    "mylist[3:] # from 3 to the end"
   ]
  },
  {
   "cell_type": "markdown",
   "id": "a82376cd",
   "metadata": {},
   "source": [
    "In addition to the `list[start:stop]` syntax, you can add a step after a second colon, as in `list[start:stop:step]`. This asks for all the element between `start` and `stop` but in steps of `step`, not necessarily consecutive elements. For example every other element:"
   ]
  },
  {
   "cell_type": "code",
   "execution_count": null,
   "id": "09e1cec1",
   "metadata": {},
   "outputs": [],
   "source": [
    "mylist[0:5:2] # get every other element"
   ]
  },
  {
   "cell_type": "markdown",
   "id": "fd25f983",
   "metadata": {},
   "source": [
    "As you've probably figured out, all our outputs above have been lists. So if we assign the output a name, it will be another list."
   ]
  },
  {
   "cell_type": "code",
   "execution_count": null,
   "id": "9f59d732",
   "metadata": {},
   "outputs": [],
   "source": [
    "every_other_one = mylist[0:-1:2] # could also do mylist[0::2]"
   ]
  },
  {
   "cell_type": "code",
   "execution_count": null,
   "id": "8e584a75",
   "metadata": {},
   "outputs": [],
   "source": [
    "every_other_one"
   ]
  },
  {
   "cell_type": "markdown",
   "id": "44125e74",
   "metadata": {},
   "source": [
    "See!"
   ]
  },
  {
   "cell_type": "markdown",
   "id": "707a58c5",
   "metadata": {},
   "source": [
    "If we want a group of elements that aren't evenly spaced, we'll need to specify the indexes \"by hand\"."
   ]
  },
  {
   "cell_type": "code",
   "execution_count": null,
   "id": "ed25cb5a",
   "metadata": {},
   "outputs": [],
   "source": [
    "anothernewlist = [mylist[1],mylist[2],mylist[4]]"
   ]
  },
  {
   "cell_type": "code",
   "execution_count": null,
   "id": "23094e01",
   "metadata": {},
   "outputs": [],
   "source": [
    "anothernewlist"
   ]
  },
  {
   "cell_type": "markdown",
   "id": "64f4fec3",
   "metadata": {},
   "source": [
    "So those are the basics of lists. They:\n",
    "\n",
    "* store a list of things (duh)\n",
    "* start at index zero\n",
    "* can be accessed using three things together:\n",
    "    - square brackets `[]`\n",
    "    - integer indexes (including negative \"start from the end\" indexes)\n",
    "    - a colon `:` (or two if you want a step value other than 1)\n",
    "    \n"
   ]
  },
  {
   "cell_type": "code",
   "execution_count": null,
   "id": "4ed2e42b",
   "metadata": {},
   "outputs": [],
   "source": [
    "letters = [2, 4,  3, 6, 5, 8, 11, 10, 9, 14, 13, 12, 7]\n",
    "# 'abcdefghijklmnopqrstuvwxyzABCDEFGHIJKLMNOPQRSTUVWXYZ'\n",
    "\n",
    "string_letters = str(letters)\n",
    "lists_letters = list(letters)\n",
    "tuples_letters = tuple(letters)\n",
    "sets_letters = set(letters)\n",
    "\n",
    "\n",
    "print(\"String: \", string_letters)\n",
    "print(\"Lists: \", lists_letters)\n",
    "print(\"Tuples: \", tuples_letters)\n",
    "print(\"Sets: \", sets_letters)"
   ]
  },
  {
   "cell_type": "code",
   "execution_count": null,
   "id": "0f6ab47a",
   "metadata": {},
   "outputs": [],
   "source": []
  }
 ],
 "metadata": {
  "kernelspec": {
   "display_name": "Python 3 (ipykernel)",
   "language": "python",
   "name": "python3"
  },
  "language_info": {
   "codemirror_mode": {
    "name": "ipython",
    "version": 3
   },
   "file_extension": ".py",
   "mimetype": "text/x-python",
   "name": "python",
   "nbconvert_exporter": "python",
   "pygments_lexer": "ipython3",
   "version": "3.8.17"
  }
 },
 "nbformat": 4,
 "nbformat_minor": 5
}
