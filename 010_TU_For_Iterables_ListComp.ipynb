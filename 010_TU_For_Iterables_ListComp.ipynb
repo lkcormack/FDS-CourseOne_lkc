{
 "cells": [
  {
   "cell_type": "markdown",
   "id": "f567993e",
   "metadata": {
    "editable": true,
    "slideshow": {
     "slide_type": ""
    },
    "tags": []
   },
   "source": [
    "# Basic control flow in Python I: For Loops, iterables, and list comprehension"
   ]
  },
  {
   "cell_type": "markdown",
   "id": "bd0941ea",
   "metadata": {},
   "source": [
    "## Learning outcomes:\n",
    " - Understand and use `for` loops in Python\n",
    " - using iterables\n",
    " - the `range()` function\n",
    " - List comprehension"
   ]
  },
  {
   "cell_type": "markdown",
   "id": "7cebc1af",
   "metadata": {
    "editable": true,
    "slideshow": {
     "slide_type": ""
    },
    "tags": []
   },
   "source": [
    "Imagine a simple action you probably take almost every day: walking into a building and going to a specific room, like an office or a classroom. \n",
    "\n",
    "This seems like such a simple thing, but if we think about how we might make a robot do this action, we would quickly see that it actually breaks down in to a lot of discreet mini-actions, many of which are themselves composed of mini-mini-actions, and so on... Just scratching the surface, we might have something like this:\n",
    "\n",
    "  - Walk to the door\n",
    "  - *If* the door *is* closed *then* open the door\n",
    "  - Walk through the door\n",
    "  - Continue walking *for* 10 more steps to the elevator\n",
    "  - *If* the elevator door *is not* open, press the button\n",
    "  - *While* the door is not open, wait\n",
    "  - Enter the elevator\n",
    "  - *If* the button for your floor *is not* lit, press the button\n",
    "  \n",
    "Etc., etc., etc.\n",
    "\n",
    "Any relatively useful computer program is going to need to make decisions based on circumstances, and repeat some operations until a critereon is met, just like the instructions above. In fact, the words in *italics* above are also words we use in Python to do more complex tasks. The aspect of computer programming that allows for \"decision making\" is called **Control Flow**."
   ]
  },
  {
   "cell_type": "markdown",
   "id": "5fc8610c",
   "metadata": {
    "editable": true,
    "slideshow": {
     "slide_type": ""
    },
    "tags": []
   },
   "source": [
    "## Control flow"
   ]
  },
  {
   "cell_type": "markdown",
   "id": "3653a714",
   "metadata": {},
   "source": [
    "**Control flow** is using a set of commands available in a programming language to control the flow of information processing, just like the instructions above control your navigation."
   ]
  },
  {
   "cell_type": "markdown",
   "id": "30775168",
   "metadata": {},
   "source": [
    "Control flow is core to all computer programming, not just Python. Over the next few tutorials, we will look at the main elements of control flow. These include\n",
    "\n",
    "* `for` and `while` loops\n",
    "* conditional tests and Boolean logic\n",
    "* `if`/`elif`/`else` branching\n",
    "* `in` and `not in` keywords\n",
    "\n",
    "We will explore these things using fairly simple examples (that will also give us practice with indexing, operators, Python lists, etc). Later, we will see how useful these core elements are when they are combined!"
   ]
  },
  {
   "cell_type": "markdown",
   "id": "3cc791e3-e7e7-40e6-89dc-8fe7dc24e46a",
   "metadata": {},
   "source": [
    "In this tutorial, we'll cover for loops (including the `range()` function and list comprehension) and decision making using `if`."
   ]
  },
  {
   "cell_type": "markdown",
   "id": "e628e270",
   "metadata": {},
   "source": [
    "## Loops"
   ]
  },
  {
   "cell_type": "markdown",
   "id": "f15e14bf",
   "metadata": {},
   "source": [
    "Things in life can be repetitive. \n",
    "\n",
    "Often, we need to repeat an entire, long, process over when only small changes are needed. For example, most of us follow the same exact routine every morning (shower/brush teeth/shave/make up/whatever) even though the only thing that has changed is one little number on a calendar. The same is true for computational tasks; a teacher might need to go through the exact same steps to compute a grade for each student, or a data scientist might need to go through the exact same steps to create a plot for several different but identically-structured data sets.\n",
    "\n",
    "Such repetitive tasks are very boring for humans (and bored humans tend to make mistakes!). While computers can't brush our teeth yet (still waiting for those tarter-eating nanobots!), they can help with reapeating calculations over and over using ***loops***.\n",
    "\n",
    "There are two kinds of loops. There are\n",
    "\n",
    "* `for` loops, which run a calculation *for* a pre-determined number of times\n",
    "* `while` loops, which run a calculation *while* some critereon is met\n",
    "\n",
    "We'll start with `for` loops here. We'll cover `while` loops after we've learned a few other useful things."
   ]
  },
  {
   "cell_type": "markdown",
   "id": "8effb84d",
   "metadata": {},
   "source": [
    "## 'For' loops"
   ]
  },
  {
   "cell_type": "markdown",
   "id": "2b47311d-8e7c-4a59-a1f4-4db630f7e7e1",
   "metadata": {},
   "source": []
  },
  {
   "cell_type": "markdown",
   "id": "ce9f1a92-9255-4a6c-9843-a6caa109b16d",
   "metadata": {},
   "source": [
    "### Looping over a range of values\n",
    "\n",
    "Python has a handy dandy function to create values for `for` loops called `range()`. A `range()` serves up a sequence of numbers perfectly suited to feeding a hungry `for` loop. By default, the range starts at zero and increments by one. Like this:"
   ]
  },
  {
   "cell_type": "code",
   "execution_count": null,
   "id": "c7eb967c-fb4e-429c-b907-a82eaef3f990",
   "metadata": {},
   "outputs": [],
   "source": [
    "for i in range(5) :\n",
    "    print(i)"
   ]
  },
  {
   "cell_type": "markdown",
   "id": "b879bd9c-3649-4c75-a5fd-6e18cce3dd32",
   "metadata": {},
   "source": [
    "But you can change this by providing a start and a stop, or even a start, stop and step."
   ]
  },
  {
   "cell_type": "code",
   "execution_count": null,
   "id": "bf2ee1b8-4934-41f7-8b8b-88ad330607d9",
   "metadata": {},
   "outputs": [],
   "source": [
    "for i in range(2, 11) :\n",
    "    print(i)"
   ]
  },
  {
   "cell_type": "code",
   "execution_count": null,
   "id": "60ca8c2c-f6c2-4855-91e2-856c05421664",
   "metadata": {},
   "outputs": [],
   "source": [
    "for i in range(2, 9, 2) :\n",
    "    print(i)\n",
    "print('Who do we appreciate?')"
   ]
  },
  {
   "cell_type": "markdown",
   "id": "2b5c5bb6-356a-4d2b-8ac4-6196dc844a56",
   "metadata": {},
   "source": [
    "Note that a range does not make a list!"
   ]
  },
  {
   "cell_type": "code",
   "execution_count": null,
   "id": "370d3011-ada2-4e1f-9245-3b095bb2cedd",
   "metadata": {},
   "outputs": [],
   "source": [
    "a = range(5)\n",
    "a"
   ]
  },
  {
   "cell_type": "code",
   "execution_count": null,
   "id": "f255e567-f705-4f57-a928-2da5251fa825",
   "metadata": {},
   "outputs": [],
   "source": [
    "type(a)"
   ]
  },
  {
   "cell_type": "markdown",
   "id": "9e6e49d0-80c3-43d5-b73e-ed584e83b86f",
   "metadata": {},
   "source": [
    "Rather, a `range()` can be thought a little machine that spits out numbers for a `for` loop!"
   ]
  },
  {
   "cell_type": "markdown",
   "id": "3d53d699-dda4-4240-8d03-f7257e03abee",
   "metadata": {},
   "source": [
    "$\\color{blue}{\\text{Complete the following exercise.}}$\n",
    "\n",
    "  - Write a `for` loop to compute the cube of the first 10 odd numbers starting from 11, use `range()` to create the number. Print each value and a message when the loop is finished.\n",
    "  \n",
    "  [Use the cell below to show your code]\n"
   ]
  },
  {
   "cell_type": "code",
   "execution_count": null,
   "id": "34dc0ab9-bdd3-4bed-abca-ed3d5da74661",
   "metadata": {},
   "outputs": [],
   "source": []
  },
  {
   "cell_type": "markdown",
   "id": "320f5e50-9efb-452a-821c-7676c1c4e137",
   "metadata": {},
   "source": [
    "### Looping over a list"
   ]
  },
  {
   "cell_type": "markdown",
   "id": "680b3a98",
   "metadata": {},
   "source": [
    "The `for` loop will be your workhorse for a lot of tasks. "
   ]
  },
  {
   "cell_type": "markdown",
   "id": "83e7d5e7",
   "metadata": {},
   "source": [
    "Let's run this very simple `for` loop, and then we'll look at it and dissect it."
   ]
  },
  {
   "cell_type": "code",
   "execution_count": null,
   "id": "5b995534",
   "metadata": {},
   "outputs": [],
   "source": [
    "myNewList = [1, 2, 3, 4, 5]\n",
    "for i in myNewList :\n",
    "    print(i)"
   ]
  },
  {
   "cell_type": "markdown",
   "id": "5684dda6",
   "metadata": {},
   "source": [
    "The first line, `myNewList = [1, 2, 3, 4, 5]`, creates a Python ***list*** of numbers. A list in Python is a kind of ***iterable***, which is a Python object that will automatically spit out its values one-at-a-time if it's put in a `for` loop."
   ]
  },
  {
   "cell_type": "markdown",
   "id": "7ceac915",
   "metadata": {},
   "source": [
    "The next line, `for i in myNewList:`, sets up the for loop. It says that:\n",
    "\n",
    "* each value in myNewList (the iterable) will be assigned to the variable `i` in turn\n",
    "* every ***indented*** line under this line is executed with each value of `i` in turn\n",
    "\n",
    "The third line self-explanitory; we are just printing the values of `i` to confirm that `i` is, in fact, getting assigned each value of `myNewList` in turn.\n",
    "\n",
    "(The use of `i` here is by convention only. You can use anything, like `Phredrick` even, as the name of your looping variable. But, just like having numpy nicknamed np, the use of `i` will generally make your code more readable to others, including future you!)"
   ]
  },
  {
   "cell_type": "markdown",
   "id": "e3f35b4e",
   "metadata": {},
   "source": [
    "Also, note the indentation in the lines following the `for` loop line is key. As described above that indentention is the syntax that defines the block of conde that is part of the \n",
    "\n",
    "Python was designed from the ground up to be a very human readable programming language. Appropriate indentation helps make code pretty and readable. As such, Python enforces its use in certain circumstances, like inside a `for` loop. The indentation tells Python \"Yep, this line is inside the `for` loop.\" and the end of indentation tells Python (and you) \"Okay, now we're back outside the `for` loop.\"\n",
    "\n",
    "Four spaces, that is the number of spaces Python expects in a `for` loop block of code. \n",
    "\n",
    "In most other programming languages, we are encouraged to indent our code to make it pretty. In Python, indentation is actually a part of the language!"
   ]
  },
  {
   "cell_type": "markdown",
   "id": "e6691857",
   "metadata": {},
   "source": [
    "Let's take a look the anatomy of a `for` loop:\n",
    "\n",
    "The code block starts with the word `for`, the a variable, often `i`, `k`, or `j` (not to be cofunded with `j` from the complex numbers). This variable is be used as an index (hence the `i`), the holder of the current element's index in a list of elements. After that word `in` is used to indicate that the next variable  contains the list of elements to iterate over. Finaly, the sentence is closed with `:`\n",
    "\n",
    "```\n",
    "for i in list_of_values :    \n",
    "```"
   ]
  },
  {
   "cell_type": "markdown",
   "id": "ca5876ba",
   "metadata": {},
   "source": [
    "After, that first line a block of operations follow, operations that are iterated over for each value in the `list_of_values`. This block of operations needs to be indented by 4-spaces, as per Python Syntax.\n",
    "\n",
    "Let's look at a fully executable example. Let's experiment with this by computing the square root of some numbers. This `for` loop should run as expected. Let's make a Python `list` with `int` values in it:"
   ]
  },
  {
   "cell_type": "code",
   "execution_count": null,
   "id": "729a61f6",
   "metadata": {},
   "outputs": [],
   "source": [
    "input_list = [1, 2, 3, 4, 5]"
   ]
  },
  {
   "cell_type": "markdown",
   "id": "c8017dbb",
   "metadata": {},
   "source": [
    "Let's then run the `for` loop, print out the current squre root and print out when the `for` loop has ended:"
   ]
  },
  {
   "cell_type": "code",
   "execution_count": null,
   "id": "6c8206ff",
   "metadata": {},
   "outputs": [],
   "source": [
    "for i in input_list :    \n",
    "    root = i**0.5  # remember, the double splat, \"**\", means \"raise to the power of\"\n",
    "    print('The square root of ', i, ' is ', root)\n",
    "print('Now the loop is over.')"
   ]
  },
  {
   "cell_type": "markdown",
   "id": "b22c87d9",
   "metadata": {},
   "source": [
    "A good test for how important is indentention is to try the same code without indentation:"
   ]
  },
  {
   "cell_type": "code",
   "execution_count": null,
   "id": "fbb08e9e",
   "metadata": {},
   "outputs": [],
   "source": [
    "for i in input_list :    \n",
    "root = i**0.5  # remember, the double splat, \"**\", means \"raise to the power of\"\n",
    "print('The square root of ', i, ' is ', root)\n",
    "print('Now the loop is over.')"
   ]
  },
  {
   "cell_type": "markdown",
   "id": "a5738408",
   "metadata": {},
   "source": [
    "Oops! Python barfs because the indentation – an integral part of the code – is wrong."
   ]
  },
  {
   "cell_type": "markdown",
   "id": "eab8d350",
   "metadata": {},
   "source": [
    "Even if we try to make our intent clear with blank lines, the indentation determines what is in the loop or not. Below, it looks like we want the second print to be outside the loop..."
   ]
  },
  {
   "cell_type": "code",
   "execution_count": null,
   "id": "a46eb55e",
   "metadata": {
    "scrolled": true
   },
   "outputs": [],
   "source": [
    "aList = [0, 1, 2, 3, 4, 5, 6, 7, 8, 9]\n",
    "for i in aList :    \n",
    "    root = i**0.5\n",
    "    print('The square root of ', i, ' is ', root)\n",
    "\n",
    "    print('Now the loop is over.')"
   ]
  },
  {
   "cell_type": "markdown",
   "id": "ea68aab6",
   "metadata": {},
   "source": [
    "... but it's not – the indentation makes it part of the `for` loop. Above, we have just wrongly added `print('Now the loop is over.')` to the `for` loop code block, by simply increasing the indentation."
   ]
  },
  {
   "cell_type": "markdown",
   "id": "ce15f7c6",
   "metadata": {},
   "source": [
    "And because indentation is SO important, we can't indent willy-nilly just because we feel like it:"
   ]
  },
  {
   "cell_type": "code",
   "execution_count": null,
   "id": "b6882e72",
   "metadata": {},
   "outputs": [],
   "source": [
    "aList = [0, 1, 2, 3, 4, 5, 6, 7, 8, 9]\n",
    "for i in aList :    \n",
    "    root = i**0.5\n",
    "print('The square root of ', i, ' is ', root)\n",
    "\n",
    "    print('Now the loop is over.')"
   ]
  },
  {
   "cell_type": "markdown",
   "id": "fbdae2c2",
   "metadata": {},
   "source": [
    "Okay, let's go back to our working version. It's nice and pretty and it's clear what's in the loop and what's not."
   ]
  },
  {
   "cell_type": "code",
   "execution_count": null,
   "id": "c233ad1a",
   "metadata": {},
   "outputs": [],
   "source": [
    "aList = [0, 1, 2, 3, 4, 5, 6, 7, 8, 9]\n",
    "for i in aList :    \n",
    "    root = i**0.5  # the double splat, \"**\", is \"raise to the power of\"\n",
    "    print('The square root of ', i, ' is ', root)\n",
    "\n",
    "print('Now the loop is over.')"
   ]
  },
  {
   "cell_type": "markdown",
   "id": "559a095a",
   "metadata": {},
   "source": [
    "$\\color{blue}{\\text{Complete the following exercise.}}$\n",
    "\n",
    "  - Write a `for` loop to compute the square of the first few even numbers.\n",
    "  \n",
    "  [Use the cell below to show your code]\n"
   ]
  },
  {
   "cell_type": "code",
   "execution_count": null,
   "id": "c8d888d0",
   "metadata": {},
   "outputs": [],
   "source": [
    "myEvens = [2, 4, 6, 8, 10]"
   ]
  },
  {
   "cell_type": "markdown",
   "id": "60c9f2bd",
   "metadata": {},
   "source": [
    "Note that when you hit return after typing the `for ... :` line, Python indented the next line automatically for you. How nice! But sometimes you'll want to go back and edit a `for` loop, or add lines to one, etc. So...\n",
    "\n",
    "**Important!** When you have to indent code manually, use ***4 spaces*** to indent! Do not use a tab, do not use 3 spaces, do not use 5 spaces, ***use 4 spaces***. This is one thing that Python can be really mean about.\n",
    "\n",
    "When you become a master coder, you can experiment with this. But don't come running back to me crying when the Python gods smite you and leave you all alone out in the cold having to pick up the pieces of the tattered shambles of your former life."
   ]
  }
 ],
 "metadata": {
  "kernelspec": {
   "display_name": "Python 3 (ipykernel)",
   "language": "python",
   "name": "python3"
  },
  "language_info": {
   "codemirror_mode": {
    "name": "ipython",
    "version": 3
   },
   "file_extension": ".py",
   "mimetype": "text/x-python",
   "name": "python",
   "nbconvert_exporter": "python",
   "pygments_lexer": "ipython3",
   "version": "3.8.17"
  }
 },
 "nbformat": 4,
 "nbformat_minor": 5
}
