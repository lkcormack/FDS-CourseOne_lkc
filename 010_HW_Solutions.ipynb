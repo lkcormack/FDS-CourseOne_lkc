{
 "cells": [
  {
   "cell_type": "code",
   "execution_count": 23,
   "id": "cf7bf584-1605-434f-b5a1-d7bf64015dcc",
   "metadata": {
    "tags": []
   },
   "outputs": [],
   "source": [
    "nep = [\"able\", \"was\", \"I\", \"ere\", \"I\", \"saw\", \"elba\"]"
   ]
  },
  {
   "cell_type": "code",
   "execution_count": 24,
   "id": "a59b7809-7488-45d8-8a91-f6f9a5e1d88d",
   "metadata": {
    "tags": []
   },
   "outputs": [
    {
     "name": "stdout",
     "output_type": "stream",
     "text": [
      "['able', 'was', 'I', 'ere', 'I', 'saw', 'elba']\n"
     ]
    }
   ],
   "source": [
    "print(nep)"
   ]
  },
  {
   "cell_type": "code",
   "execution_count": 25,
   "id": "28f78845-fab5-4547-bb7e-6b6921675164",
   "metadata": {
    "tags": []
   },
   "outputs": [],
   "source": [
    "revNep = nep.copy()"
   ]
  },
  {
   "cell_type": "code",
   "execution_count": 28,
   "id": "f057870b-999a-425e-b6db-79d2c2842702",
   "metadata": {
    "tags": []
   },
   "outputs": [],
   "source": [
    "revNep.reverse()"
   ]
  },
  {
   "cell_type": "code",
   "execution_count": 29,
   "id": "94b17161-ed29-4abd-8713-364c0aecd321",
   "metadata": {
    "tags": []
   },
   "outputs": [
    {
     "data": {
      "text/plain": [
       "['elba', 'saw', 'I', 'ere', 'I', 'was', 'able']"
      ]
     },
     "execution_count": 29,
     "metadata": {},
     "output_type": "execute_result"
    }
   ],
   "source": [
    "revNep"
   ]
  },
  {
   "cell_type": "code",
   "execution_count": 37,
   "id": "110a13ef-0f97-4ad9-88a9-44281dcaca3a",
   "metadata": {
    "tags": []
   },
   "outputs": [],
   "source": [
    "newNep = []\n",
    "for thisStr in revNep :\n",
    "    thisLen = len(thisStr)\n",
    "    tmpStr = \"\"\n",
    "    for j in range(thisLen) :\n",
    "        tmpStr = tmpStr + thisStr[-(j+1)]\n",
    "        \n",
    "    newNep.append(tmpStr)\n",
    "    "
   ]
  },
  {
   "cell_type": "code",
   "execution_count": 38,
   "id": "d5d12c4e-7760-4478-b417-09fa6e8d0fea",
   "metadata": {
    "tags": []
   },
   "outputs": [
    {
     "data": {
      "text/plain": [
       "['able', 'was', 'I', 'ere', 'I', 'saw', 'elba']"
      ]
     },
     "execution_count": 38,
     "metadata": {},
     "output_type": "execute_result"
    }
   ],
   "source": [
    "newNep"
   ]
  },
  {
   "cell_type": "code",
   "execution_count": 22,
   "id": "6b15f2e3-25ae-4825-8335-382bf9aa1b55",
   "metadata": {
    "tags": []
   },
   "outputs": [
    {
     "data": {
      "text/plain": [
       "4"
      ]
     },
     "execution_count": 22,
     "metadata": {},
     "output_type": "execute_result"
    }
   ],
   "source": [
    "thisLen"
   ]
  },
  {
   "cell_type": "code",
   "execution_count": null,
   "id": "5532a5ba-387d-45cc-b183-b54034ba9188",
   "metadata": {},
   "outputs": [],
   "source": []
  }
 ],
 "metadata": {
  "kernelspec": {
   "display_name": "Python 3 (ipykernel)",
   "language": "python",
   "name": "python3"
  },
  "language_info": {
   "codemirror_mode": {
    "name": "ipython",
    "version": 3
   },
   "file_extension": ".py",
   "mimetype": "text/x-python",
   "name": "python",
   "nbconvert_exporter": "python",
   "pygments_lexer": "ipython3",
   "version": "3.8.17"
  }
 },
 "nbformat": 4,
 "nbformat_minor": 5
}
