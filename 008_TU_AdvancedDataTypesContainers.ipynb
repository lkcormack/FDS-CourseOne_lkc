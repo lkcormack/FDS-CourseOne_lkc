{
 "cells": [
  {
   "cell_type": "markdown",
   "id": "60242d2c",
   "metadata": {},
   "source": [
    "# Introduction to Advanced Python Data Types"
   ]
  },
  {
   "cell_type": "markdown",
   "id": "4e05c6cf",
   "metadata": {},
   "source": [
    "### Learning Goals\n",
    "\n",
    "  - Advanced python data types\n",
    "  - The concept of data container\n",
    "  - Python Containers\n",
    "    - Lists\n",
    "    - Strings\n",
    "    - Tuples\n",
    "    - Dictionaries\n",
    "    - Sets"
   ]
  },
  {
   "cell_type": "markdown",
   "id": "520d3e76",
   "metadata": {},
   "source": [
    "In the previous tutorial we have focussed the simple data types in python, `int`, `float`, `complex`, `bool`, and `str`. In general, these simple variables types store individual variable values (e.g, a = 10). The complex number type (b = 2 + 2j) is sort of exception, as it stores 2 values, a point on the \"complex plane\", but it's still considered a \"number\".\n",
    "\n",
    "If you look back at the previous turorial, `str` (strings) are a little bit different. They can store multiple characters all at once. For example:"
   ]
  },
  {
   "cell_type": "code",
   "execution_count": 5,
   "id": "432900fb",
   "metadata": {},
   "outputs": [
    {
     "name": "stdout",
     "output_type": "stream",
     "text": [
      "this string contains five words (and 7 spaces)\n"
     ]
    }
   ],
   "source": [
    "mystring = 'this string contains five words (and 7 spaces)'\n",
    "print(mystring)"
   ]
  },
  {
   "cell_type": "markdown",
   "id": "980a2088-036b-49eb-b552-fe02bd2d7714",
   "metadata": {},
   "source": [
    "We can even look inside our string using \"indexing\" (much more on this in the weeks and months to follow). We index using square brackets `[ ]` so, for example, try this:"
   ]
  },
  {
   "cell_type": "code",
   "execution_count": 6,
   "id": "8305dada-c73c-4797-a968-01a7d1483809",
   "metadata": {},
   "outputs": [
    {
     "data": {
      "text/plain": [
       "'s'"
      ]
     },
     "execution_count": 6,
     "metadata": {},
     "output_type": "execute_result"
    }
   ],
   "source": [
    "mystring[3]"
   ]
  },
  {
   "cell_type": "markdown",
   "id": "96daffab",
   "metadata": {},
   "source": [
    "Python Strings are a type of [*container*](https://en.wikipedia.org/wiki/Container_(abstract_data_type)). Containers are data types that can contain multiple objects. Whereas a variable has a name, like `a`, attached to a single value, like `2`, containers contain multiple values and often (as we will see later) contain variables of different types (`int` and `str` etc). "
   ]
  },
  {
   "cell_type": "markdown",
   "id": "2787dc52-9510-4f73-99d7-5aaa624e20d6",
   "metadata": {},
   "source": [
    "Because containers hold multiple things, they have *length*, which we can get with the `len()` function."
   ]
  },
  {
   "cell_type": "code",
   "execution_count": null,
   "id": "a4d1ed25",
   "metadata": {},
   "outputs": [],
   "source": [
    "len(mystring)"
   ]
  },
  {
   "cell_type": "markdown",
   "id": "f75b21d0",
   "metadata": {},
   "source": [
    "Containers are one of the major ways Python offers to work with data. Later on, we will learn about specialized containers for data science, like (the [Pandas DataFrame](https://pandas.pydata.org/docs/reference/api/pandas.DataFrame.html)). \n",
    "\n",
    "First, however, we will learn about the built-in Python containers: *strings*, *lists*, *dictionaries*, *tuples*, and *sets*. Of these, the first 3 are used most often, so we'll focus on those."
   ]
  },
  {
   "cell_type": "markdown",
   "id": "36908f04",
   "metadata": {},
   "source": [
    "### Python Strings"
   ]
  },
  {
   "cell_type": "markdown",
   "id": "dca9bc75-5e44-4da6-aec5-0ca5fa46c83c",
   "metadata": {},
   "source": [
    "As we saw above, a string is a sequence of characters, generally a human-readable chunk of text."
   ]
  },
  {
   "cell_type": "code",
   "execution_count": 7,
   "id": "bafe567d-ddb6-4523-b7a6-c3f3b6ba00cf",
   "metadata": {},
   "outputs": [],
   "source": [
    "mystring = 'a sequence of characters'"
   ]
  },
  {
   "cell_type": "markdown",
   "id": "f4707627-09c1-4e8e-84b0-370dbc59fe35",
   "metadata": {},
   "source": [
    "Because it's a *sequence* (that is, because, the characters have an *order*, unlike the letters in a Scrabble bag), we can pluck out individual characters or \"elements\" by indexing, as we saw briefly above."
   ]
  },
  {
   "cell_type": "code",
   "execution_count": 8,
   "id": "89d1405b-6f7d-45de-ab8c-199dd4f03262",
   "metadata": {},
   "outputs": [
    {
     "data": {
      "text/plain": [
       "'e'"
      ]
     },
     "execution_count": 8,
     "metadata": {},
     "output_type": "execute_result"
    }
   ],
   "source": [
    "mystring[6]"
   ]
  },
  {
   "cell_type": "markdown",
   "id": "cd463bac-1143-4f31-8019-ce20ef41d5d6",
   "metadata": {},
   "source": [
    "There is no such thing as a \"character\" type or `chr` in Python, so a single element of a string is still a string:"
   ]
  },
  {
   "cell_type": "code",
   "execution_count": 18,
   "id": "548f38c8-91f1-471d-a8eb-ddd24d4db692",
   "metadata": {},
   "outputs": [
    {
     "data": {
      "text/plain": [
       "str"
      ]
     },
     "execution_count": 18,
     "metadata": {},
     "output_type": "execute_result"
    }
   ],
   "source": [
    "a_char = mystring[6]\n",
    "type(a_char)"
   ]
  },
  {
   "cell_type": "markdown",
   "id": "189a976a-1846-4ec5-b1ec-95adcc892582",
   "metadata": {},
   "source": [
    "And since it's still a string, it still has a length:"
   ]
  },
  {
   "cell_type": "code",
   "execution_count": 19,
   "id": "482349a8-7bb1-4a02-8dbd-d05c173b0fec",
   "metadata": {},
   "outputs": [
    {
     "data": {
      "text/plain": [
       "1"
      ]
     },
     "execution_count": 19,
     "metadata": {},
     "output_type": "execute_result"
    }
   ],
   "source": [
    "len(a_char)"
   ]
  },
  {
   "cell_type": "markdown",
   "id": "5a686331-a7f6-4ef7-b248-aeb28ce82f04",
   "metadata": {},
   "source": [
    "---"
   ]
  },
  {
   "cell_type": "markdown",
   "id": "d593c5a0-ca10-49ce-8a2d-54bb97831300",
   "metadata": {},
   "source": [
    "In the cell below, try a `mystring[1]`"
   ]
  },
  {
   "cell_type": "code",
   "execution_count": 9,
   "id": "dedcf091-5e53-47b2-a66b-3fbfa166b016",
   "metadata": {},
   "outputs": [
    {
     "data": {
      "text/plain": [
       "' '"
      ]
     },
     "execution_count": 9,
     "metadata": {},
     "output_type": "execute_result"
    }
   ],
   "source": []
  },
  {
   "cell_type": "markdown",
   "id": "02eceb5f-a3ed-4209-9806-a169d8ad1fe1",
   "metadata": {},
   "source": [
    "Was that what you expected?"
   ]
  },
  {
   "cell_type": "markdown",
   "id": "9b1bbe60-952f-45bf-a499-bbf44e320feb",
   "metadata": {},
   "source": [
    "Indexing in Python is *zero-based*. So what you might expect to be the first element of something is actually the \"zeroith\" element. The way to think about it is that the \"index\" is really an *offset* from the beginning of the container, i.e. the first element. So `mystring[1]` is saying \"Whatever is 1 element over from the beginning of the string\", which is a space (`' '`)."
   ]
  },
  {
   "cell_type": "markdown",
   "id": "9c110ccf-2fc3-4948-abb6-1b63dbc8853e",
   "metadata": {},
   "source": [
    "You can index from the end too. Try a `mystring[-1]`:"
   ]
  },
  {
   "cell_type": "code",
   "execution_count": 11,
   "id": "77a93322-7055-487f-a4c3-77f5321ed857",
   "metadata": {},
   "outputs": [
    {
     "data": {
      "text/plain": [
       "'s'"
      ]
     },
     "execution_count": 11,
     "metadata": {},
     "output_type": "execute_result"
    }
   ],
   "source": [
    "mystring[-1]"
   ]
  },
  {
   "cell_type": "markdown",
   "id": "ec3d07a3-7a20-4acf-9ea5-ed205b4488de",
   "metadata": {},
   "source": [
    "Wait, what happened there? Is indexing from the end one-based and indexing from the beggining is zero-based? Well, functionally \"yes\", but it actually makes sense and is consistent."
   ]
  },
  {
   "cell_type": "markdown",
   "id": "28a2c251-d37d-4b3f-8769-d6a052f30cf9",
   "metadata": {},
   "source": [
    "First, `-0` is the same as `0`:"
   ]
  },
  {
   "cell_type": "code",
   "execution_count": 20,
   "id": "351cdc87-2d0c-46e2-8d99-8b15fa72e6b5",
   "metadata": {},
   "outputs": [
    {
     "data": {
      "text/plain": [
       "True"
      ]
     },
     "execution_count": 20,
     "metadata": {},
     "output_type": "execute_result"
    }
   ],
   "source": [
    "-0 == 0"
   ]
  },
  {
   "cell_type": "markdown",
   "id": "2bafb9dc-7800-4860-aa62-6aac82dbd1f6",
   "metadata": {},
   "source": [
    "So if we do a `mystring[-0]`..."
   ]
  },
  {
   "cell_type": "code",
   "execution_count": 21,
   "id": "32bfe491-8118-4381-9b2f-50b15af61eb4",
   "metadata": {},
   "outputs": [
    {
     "data": {
      "text/plain": [
       "'a'"
      ]
     },
     "execution_count": 21,
     "metadata": {},
     "output_type": "execute_result"
    }
   ],
   "source": [
    "mystring[-0]"
   ]
  },
  {
   "cell_type": "markdown",
   "id": "40f78fff-dc21-4266-a225-235fe337d354",
   "metadata": {},
   "source": [
    "We get the first element, `a`, which makes sense; it's the same as `mystring[0]`. \n",
    "\n",
    "Now let's do a `len(mystring) - 1`:"
   ]
  },
  {
   "cell_type": "code",
   "execution_count": 15,
   "id": "aa3fb83d-8738-4aaa-8a21-790edd92d92c",
   "metadata": {},
   "outputs": [
    {
     "data": {
      "text/plain": [
       "23"
      ]
     },
     "execution_count": 15,
     "metadata": {},
     "output_type": "execute_result"
    }
   ],
   "source": [
    "len(mystring) - 1"
   ]
  },
  {
   "cell_type": "markdown",
   "id": "b8f370c0-26f2-403c-8297-c99481a95d61",
   "metadata": {},
   "source": [
    "Which corresponds to the *offset* of the last element. So now let's get the last element the \"long\" way:"
   ]
  },
  {
   "cell_type": "code",
   "execution_count": 16,
   "id": "d9ad8b63-d9d4-4ff7-a946-861036c14c1a",
   "metadata": {},
   "outputs": [
    {
     "data": {
      "text/plain": [
       "'s'"
      ]
     },
     "execution_count": 16,
     "metadata": {},
     "output_type": "execute_result"
    }
   ],
   "source": [
    "mystring[len(mystring) - 1]"
   ]
  },
  {
   "cell_type": "markdown",
   "id": "24e013f3-5de9-42ea-9059-c8fbeb245ebc",
   "metadata": {},
   "source": [
    "Which works just fine. But why do that when we can just do `mystring[-1]`?!"
   ]
  },
  {
   "cell_type": "code",
   "execution_count": 22,
   "id": "e79452b5-5856-46de-a0ec-9b6d2babbb03",
   "metadata": {},
   "outputs": [
    {
     "data": {
      "text/plain": [
       "'s'"
      ]
     },
     "execution_count": 22,
     "metadata": {},
     "output_type": "execute_result"
    }
   ],
   "source": [
    "mystring[-1]"
   ]
  },
  {
   "cell_type": "markdown",
   "id": "5b71da32-0862-4e2c-8114-c4a19bed10d0",
   "metadata": {},
   "source": [
    "We'll do much more indexing as we go but, briefly, we can grab multiple elements by \"slicing\" using the `:` (colon) operator. Like this:"
   ]
  },
  {
   "cell_type": "code",
   "execution_count": 24,
   "id": "3a2cb886-a883-42e8-a65f-e32725e23eb4",
   "metadata": {},
   "outputs": [
    {
     "data": {
      "text/plain": [
       "'a sequence'"
      ]
     },
     "execution_count": 24,
     "metadata": {},
     "output_type": "execute_result"
    }
   ],
   "source": [
    "sub_str = mystring[0:10]\n",
    "sub_str"
   ]
  },
  {
   "cell_type": "markdown",
   "id": "4ad5d09c-865e-4e52-bf7c-6308a312a716",
   "metadata": {},
   "source": [
    "Which can be read as \"Start at offset 0 and give me 10 elements.\""
   ]
  },
  {
   "cell_type": "markdown",
   "id": "a23ae8b7-b4ab-493b-bc8b-849b09cc9091",
   "metadata": {},
   "source": [
    "Notice that means that we do *not* get the element at offset 10, so"
   ]
  },
  {
   "cell_type": "code",
   "execution_count": 27,
   "id": "de59c76b-b58e-4fa0-bec3-43924f71b49c",
   "metadata": {},
   "outputs": [
    {
     "data": {
      "text/plain": [
       "' '"
      ]
     },
     "execution_count": 27,
     "metadata": {},
     "output_type": "execute_result"
    }
   ],
   "source": [
    "mystring[10]"
   ]
  },
  {
   "cell_type": "markdown",
   "id": "e81ae9e5-16c8-48b2-8bae-153eb2f86188",
   "metadata": {},
   "source": [
    "is a space. But if we look at the last element of `sub_str`:"
   ]
  },
  {
   "cell_type": "code",
   "execution_count": 28,
   "id": "ebdaea6c-cd2e-4fa0-809f-cdcf75fe2405",
   "metadata": {},
   "outputs": [
    {
     "data": {
      "text/plain": [
       "'e'"
      ]
     },
     "execution_count": 28,
     "metadata": {},
     "output_type": "execute_result"
    }
   ],
   "source": [
    "sub_str[-1]"
   ]
  },
  {
   "cell_type": "markdown",
   "id": "76577648-3ae7-4ffd-83df-b99e53821f91",
   "metadata": {},
   "source": [
    "it's an \"e\", and if we try this:"
   ]
  },
  {
   "cell_type": "code",
   "execution_count": 26,
   "id": "1364c44c-5296-4fe8-afc8-2344d44e7cdd",
   "metadata": {},
   "outputs": [
    {
     "ename": "IndexError",
     "evalue": "string index out of range",
     "output_type": "error",
     "traceback": [
      "\u001b[0;31m---------------------------------------------------------------------------\u001b[0m",
      "\u001b[0;31mIndexError\u001b[0m                                Traceback (most recent call last)",
      "Cell \u001b[0;32mIn[26], line 1\u001b[0m\n\u001b[0;32m----> 1\u001b[0m \u001b[43msub_str\u001b[49m\u001b[43m[\u001b[49m\u001b[38;5;241;43m10\u001b[39;49m\u001b[43m]\u001b[49m\n",
      "\u001b[0;31mIndexError\u001b[0m: string index out of range"
     ]
    }
   ],
   "source": [
    "sub_str[10]"
   ]
  },
  {
   "cell_type": "markdown",
   "id": "083e2a68-2c39-4a6e-b22b-bb6351710b93",
   "metadata": {},
   "source": [
    "We get an error telling us that there isn't anything at offset 10! But we *did* get 10 elements, which we can confirm by:"
   ]
  },
  {
   "cell_type": "code",
   "execution_count": 30,
   "id": "c679fdd0-51d7-4547-8ee8-cbbbfd44a163",
   "metadata": {},
   "outputs": [
    {
     "data": {
      "text/plain": [
       "10"
      ]
     },
     "execution_count": 30,
     "metadata": {},
     "output_type": "execute_result"
    }
   ],
   "source": [
    "len(sub_str)"
   ]
  },
  {
   "cell_type": "markdown",
   "id": "d2001df5-36e8-4c76-a0c1-dc0bb950eb1e",
   "metadata": {},
   "source": [
    "As we mentioned before, we've got *much* more indexing to go – it's a huge part of data science!"
   ]
  },
  {
   "cell_type": "markdown",
   "id": "ac984f07-b7f5-4f54-a397-94b6b916c877",
   "metadata": {},
   "source": [
    "One final thing about strings is that they are *immutable* – so once you create one, you cannot change it. So, for example, if you wanted a string that said \"1 sequence of characters\", you cannot do this:"
   ]
  },
  {
   "cell_type": "code",
   "execution_count": 32,
   "id": "c2a5ef4d-2d8f-425d-94ce-a51f75fe7fc7",
   "metadata": {},
   "outputs": [
    {
     "ename": "TypeError",
     "evalue": "'str' object does not support item assignment",
     "output_type": "error",
     "traceback": [
      "\u001b[0;31m---------------------------------------------------------------------------\u001b[0m",
      "\u001b[0;31mTypeError\u001b[0m                                 Traceback (most recent call last)",
      "Cell \u001b[0;32mIn[32], line 1\u001b[0m\n\u001b[0;32m----> 1\u001b[0m \u001b[43mmystring\u001b[49m\u001b[43m[\u001b[49m\u001b[38;5;241;43m0\u001b[39;49m\u001b[43m]\u001b[49m \u001b[38;5;241m=\u001b[39m \u001b[38;5;124m'\u001b[39m\u001b[38;5;124m1\u001b[39m\u001b[38;5;124m'\u001b[39m\n",
      "\u001b[0;31mTypeError\u001b[0m: 'str' object does not support item assignment"
     ]
    }
   ],
   "source": [
    "mystring[0] = '1'"
   ]
  },
  {
   "cell_type": "markdown",
   "id": "3c6d45f8-0c73-448f-9acd-004aa4537d32",
   "metadata": {},
   "source": [
    "Instead, you need to make a new string, which you could do with minimal typing like this:"
   ]
  },
  {
   "cell_type": "code",
   "execution_count": 39,
   "id": "446da568-1371-4c80-ae25-cc516b5192ce",
   "metadata": {},
   "outputs": [
    {
     "data": {
      "text/plain": [
       "'1 sequence of characters'"
      ]
     },
     "execution_count": 39,
     "metadata": {},
     "output_type": "execute_result"
    }
   ],
   "source": [
    "new_str = '1' + mystring[1:]\n",
    "new_str"
   ]
  },
  {
   "cell_type": "markdown",
   "id": "c8b62dfa-cd5b-4b01-8927-af958c792e3f",
   "metadata": {},
   "source": [
    "Note that if you don't specify the number of elements after the `:`, Python interprets it as \"to the end\". Again, we're going to get lots of indexing practice as we go!"
   ]
  },
  {
   "cell_type": "markdown",
   "id": "ea7d8165-c982-4c8d-84e2-9a7f71f72826",
   "metadata": {},
   "source": [
    "### Python Lists"
   ]
  },
  {
   "cell_type": "markdown",
   "id": "abce074b-6fab-41fd-a93a-f857ec4e130d",
   "metadata": {},
   "source": [
    "#### Lists are containers of indexed, ordered and *mutable* data. "
   ]
  },
  {
   "cell_type": "markdown",
   "id": "517a47dc",
   "metadata": {},
   "source": [
    "They can be used to contain multiple elements of *any* kind. Lists are created by writing a set of values inside square brakets:"
   ]
  },
  {
   "cell_type": "code",
   "execution_count": 40,
   "id": "cbe015e9",
   "metadata": {},
   "outputs": [
    {
     "name": "stdout",
     "output_type": "stream",
     "text": [
      "[2, 3, 4, 5]\n"
     ]
    }
   ],
   "source": [
    "mylist = [2, 3, 4, 5] # this list contains 4 numbers\n",
    "print(mylist)"
   ]
  },
  {
   "cell_type": "markdown",
   "id": "fef24b5a",
   "metadata": {},
   "source": [
    "#### Lists can contain elements of any type"
   ]
  },
  {
   "cell_type": "code",
   "execution_count": 41,
   "id": "3bfc1391",
   "metadata": {},
   "outputs": [
    {
     "name": "stdout",
     "output_type": "stream",
     "text": [
      "[10, 4, 2, 5]\n"
     ]
    },
    {
     "data": {
      "text/plain": [
       "list"
      ]
     },
     "execution_count": 41,
     "metadata": {},
     "output_type": "execute_result"
    }
   ],
   "source": [
    "list_of_int = [10, 4, 2, 5]                                  # This list contains integers\n",
    "print(list_of_int)\n",
    "type(list_of_int)"
   ]
  },
  {
   "cell_type": "code",
   "execution_count": 55,
   "id": "7e6efb4d",
   "metadata": {},
   "outputs": [
    {
     "name": "stdout",
     "output_type": "stream",
     "text": [
      "[2.3, 4.3, 5.5, 6.1]\n"
     ]
    },
    {
     "data": {
      "text/plain": [
       "list"
      ]
     },
     "execution_count": 55,
     "metadata": {},
     "output_type": "execute_result"
    }
   ],
   "source": [
    "list_of_float = [2.3, 4.3, 5.5, 6.1]                         # This list contains floating numbers\n",
    "print(list_of_float)\n",
    "type(list_of_float)"
   ]
  },
  {
   "cell_type": "code",
   "execution_count": 56,
   "id": "b4480ede",
   "metadata": {},
   "outputs": [
    {
     "name": "stdout",
     "output_type": "stream",
     "text": [
      "[True, False, True, True]\n"
     ]
    },
    {
     "data": {
      "text/plain": [
       "list"
      ]
     },
     "execution_count": 56,
     "metadata": {},
     "output_type": "execute_result"
    }
   ],
   "source": [
    "list_of_boolean = [True, False, True, True]                  # This list contains boolean values \n",
    "print(list_of_boolean)\n",
    "type(list_of_boolean)"
   ]
  },
  {
   "cell_type": "code",
   "execution_count": 45,
   "id": "57ed7169",
   "metadata": {},
   "outputs": [
    {
     "name": "stdout",
     "output_type": "stream",
     "text": [
      "['this', 'is', 'a', 'list', 'of', 'strings']\n"
     ]
    },
    {
     "data": {
      "text/plain": [
       "list"
      ]
     },
     "execution_count": 45,
     "metadata": {},
     "output_type": "execute_result"
    }
   ],
   "source": [
    "list_of_strings = ['this', 'is', 'a', 'list','of','strings'] # This list contains strings\n",
    "print(list_of_strings)\n",
    "type(list_of_strings)"
   ]
  },
  {
   "cell_type": "markdown",
   "id": "892510ca-b037-44ee-a01f-344178ec912f",
   "metadata": {},
   "source": [
    "---"
   ]
  },
  {
   "cell_type": "markdown",
   "id": "5a6c4997",
   "metadata": {},
   "source": [
    "In the cell below, see if Python will let you create a list with elements of *different types*:"
   ]
  },
  {
   "cell_type": "code",
   "execution_count": null,
   "id": "12af1cb4-1397-44ab-a81b-22ef0dc3da45",
   "metadata": {},
   "outputs": [],
   "source": []
  },
  {
   "cell_type": "markdown",
   "id": "f9952d9b-f7e7-4e78-8965-53d9dedf267a",
   "metadata": {},
   "source": [
    "---"
   ]
  },
  {
   "cell_type": "markdown",
   "id": "8aaba4a9-432c-4156-addc-0b5399291a13",
   "metadata": {},
   "source": [
    "#### Lists are mutable"
   ]
  },
  {
   "cell_type": "markdown",
   "id": "021faa9d-c7c8-4907-816c-52ec2da6e658",
   "metadata": {},
   "source": [
    "As mentioned in passing above, unlike strings, a list is *mutable*, meaning that we can change the elements if you want:"
   ]
  },
  {
   "cell_type": "code",
   "execution_count": 59,
   "id": "ea77e825-1278-4bd1-8f35-76ecbde44f69",
   "metadata": {},
   "outputs": [
    {
     "data": {
      "text/plain": [
       "[True, False, True, False]"
      ]
     },
     "execution_count": 59,
     "metadata": {},
     "output_type": "execute_result"
    }
   ],
   "source": [
    "list_of_boolean[3] = False\n",
    "list_of_boolean"
   ]
  },
  {
   "cell_type": "markdown",
   "id": "6b53e1ec-a1e8-473a-a0b3-8145a363ee2b",
   "metadata": {},
   "source": [
    "#### Lists can contain lists"
   ]
  },
  {
   "cell_type": "markdown",
   "id": "80724e80",
   "metadata": {},
   "source": [
    "Finally (for now), one crucial thing about lists is that *lists can contain lists!* So if we do the following:"
   ]
  },
  {
   "cell_type": "code",
   "execution_count": 49,
   "id": "cf255880-631f-469f-a09a-a9e9b41d06ed",
   "metadata": {},
   "outputs": [
    {
     "data": {
      "text/plain": [
       "[[1, 2, 3], [4, 5, 6], [7, 8, 9]]"
      ]
     },
     "execution_count": 49,
     "metadata": {},
     "output_type": "execute_result"
    }
   ],
   "source": [
    "multi_list = [[1, 2, 3], [4, 5, 6], [7, 8, 9]]\n",
    "multi_list"
   ]
  },
  {
   "cell_type": "markdown",
   "id": "70ee6ccb-49f3-478c-a90c-a7b293285e8f",
   "metadata": {},
   "source": [
    "Now `multi_list` is a list of lists; we can get the first list like this:"
   ]
  },
  {
   "cell_type": "code",
   "execution_count": 51,
   "id": "7385fc36-cd42-4fad-b973-da6f660e32fd",
   "metadata": {},
   "outputs": [
    {
     "data": {
      "text/plain": [
       "[1, 2, 3]"
      ]
     },
     "execution_count": 51,
     "metadata": {},
     "output_type": "execute_result"
    }
   ],
   "source": [
    "multi_list[0]"
   ]
  },
  {
   "cell_type": "markdown",
   "id": "65290c20-9760-419f-a510-fd7255fea3dc",
   "metadata": {},
   "source": [
    "Now, what if we wanted the 2nd element of the first list? We could do it using a \"temporary variable\" like this:"
   ]
  },
  {
   "cell_type": "code",
   "execution_count": 52,
   "id": "a8c118c8-093b-4f94-96bb-1ba963b8084f",
   "metadata": {},
   "outputs": [
    {
     "data": {
      "text/plain": [
       "2"
      ]
     },
     "execution_count": 52,
     "metadata": {},
     "output_type": "execute_result"
    }
   ],
   "source": [
    "tmp = multi_list[0]\n",
    "tmp[1]"
   ]
  },
  {
   "cell_type": "markdown",
   "id": "0e33f016-9575-4cc2-a3a0-6eeed4b1b29d",
   "metadata": {},
   "source": [
    "But Python lets us do this in one go like this:"
   ]
  },
  {
   "cell_type": "code",
   "execution_count": 53,
   "id": "345b7c3f-f894-442d-8ae1-11a9d25e5017",
   "metadata": {},
   "outputs": [
    {
     "data": {
      "text/plain": [
       "2"
      ]
     },
     "execution_count": 53,
     "metadata": {},
     "output_type": "execute_result"
    }
   ],
   "source": [
    "multi_list[0][1]"
   ]
  },
  {
   "cell_type": "markdown",
   "id": "e0c53609-21ac-4851-baa0-d277e4d052b8",
   "metadata": {},
   "source": [
    "#### A list of lists can be thought of as a table or matrix"
   ]
  },
  {
   "cell_type": "markdown",
   "id": "3ce6e59c-b134-4895-b50a-83faf91bdc70",
   "metadata": {},
   "source": [
    "Now, here's a really cool thing: we could think of our list of lists as being laid out in a table (or like a spreadsheet) like this:"
   ]
  },
  {
   "cell_type": "markdown",
   "id": "b013faa1-3d37-4929-bb0b-69e7a8b7953f",
   "metadata": {},
   "source": [
    "|  multi_list | Column 1  | Column 2  | Column 3  |\n",
    "|:----------|:----------|:----------|:----------|\n",
    "| **Row 1** |   1    |   2    |   3    |\n",
    "| **Row 2** |   4    |   5    |   6    |\n",
    "| **Row 3** |   7    |   8    |   9    |\n"
   ]
  },
  {
   "cell_type": "markdown",
   "id": "41b8f7ef-89c8-48a4-a899-d36e932d41dc",
   "metadata": {},
   "source": [
    "in which every ***row*** is one of the lists in `multi_list`!"
   ]
  },
  {
   "cell_type": "markdown",
   "id": "83750297-27c7-48c9-b1a5-1fac7115dcca",
   "metadata": {},
   "source": [
    "So now we can think of, say, this:"
   ]
  },
  {
   "cell_type": "code",
   "execution_count": 54,
   "id": "92aa7d90-91d0-4bac-b159-ba52e2639259",
   "metadata": {},
   "outputs": [
    {
     "data": {
      "text/plain": [
       "6"
      ]
     },
     "execution_count": 54,
     "metadata": {},
     "output_type": "execute_result"
    }
   ],
   "source": [
    "multi_list[1][2]"
   ]
  },
  {
   "cell_type": "markdown",
   "id": "72d5732f-b9f8-446a-bcad-ebc64bdcaf0b",
   "metadata": {},
   "source": [
    "As specifing the row and column indexes, like  \n",
    "`multi_list[row index = 1][column index = 2]`"
   ]
  },
  {
   "cell_type": "markdown",
   "id": "cfb8faa1",
   "metadata": {},
   "source": [
    "### Python Tuple\n",
    "\n",
    "Tuples are ordered collections of data. They are similar to lists but immuatable. Whereas you can add new elements to a previously defined lists you cannot do that with Tuples.\n",
    "\n",
    "Tuples are defined with parenthesis:"
   ]
  },
  {
   "cell_type": "code",
   "execution_count": null,
   "id": "b022386e",
   "metadata": {},
   "outputs": [],
   "source": [
    "mytuple = (9,4,5)\n",
    "print(mytuple)\n",
    "type(mytuple)"
   ]
  },
  {
   "cell_type": "markdown",
   "id": "1bc26300",
   "metadata": {},
   "source": [
    "$\\color{blue}{\\text{Answer the following questions.}}$\n",
    "\n",
    "  - Can you create a Tuple with different types of variable in it?\n",
    "  [Use the cell below to create a list containing different types of variables and the following one to describe the result of the experiment in your own words]"
   ]
  },
  {
   "cell_type": "code",
   "execution_count": null,
   "id": "b1512dd6",
   "metadata": {},
   "outputs": [],
   "source": []
  },
  {
   "cell_type": "markdown",
   "id": "72119485",
   "metadata": {},
   "source": [
    "[Describe the results of the experiment above here:]\n",
    "\n"
   ]
  },
  {
   "cell_type": "markdown",
   "id": "1e619d02-74ac-4d8b-8d1e-9e8c958ff31c",
   "metadata": {},
   "source": [
    "### Add something about indexing tuples"
   ]
  },
  {
   "cell_type": "markdown",
   "id": "434d109c",
   "metadata": {},
   "source": [
    "Lists and Tuple differ in a variety of ways. The most noticble one is that lists are mutable, tuple are immutable. This means that, we can add elements to a list but not a tuple (in the example we will use the method `.append` to attempt to add elements to a list and a tuple):"
   ]
  },
  {
   "cell_type": "code",
   "execution_count": null,
   "id": "63f91a90",
   "metadata": {},
   "outputs": [],
   "source": [
    "mylist = [1,2,3] # this list has three elements\n",
    "print(mylist)\n",
    "type(mylist)"
   ]
  },
  {
   "cell_type": "markdown",
   "id": "6032a364",
   "metadata": {},
   "source": [
    "Now, we attempt to add a forth element to the list (using `.append()`)"
   ]
  },
  {
   "cell_type": "code",
   "execution_count": null,
   "id": "3831cdcb",
   "metadata": {},
   "outputs": [],
   "source": [
    "mylist.append(4) \n",
    "print(mylist)\n",
    "type(mylist)"
   ]
  },
  {
   "cell_type": "code",
   "execution_count": null,
   "id": "6aa706d4",
   "metadata": {},
   "outputs": [],
   "source": [
    "mytuple = (1,2,3)\n",
    "print(mytuple)\n",
    "type(mytuple)"
   ]
  },
  {
   "cell_type": "markdown",
   "id": "193524b7",
   "metadata": {},
   "source": [
    "Now, we attempt to add a forth element to the tuple"
   ]
  },
  {
   "cell_type": "code",
   "execution_count": null,
   "id": "97b35ac1",
   "metadata": {},
   "outputs": [],
   "source": [
    "mytuple.append(4) # it does not work"
   ]
  },
  {
   "cell_type": "markdown",
   "id": "499b2f57",
   "metadata": {},
   "source": [
    "*note. You can explore all the other methods of a container (or any variable in Python) by typing: `<containerName>.` and then hit the `TAB` key on your keyboard.*  Don't forget the \"**.**\" after the name of your container!"
   ]
  },
  {
   "cell_type": "markdown",
   "id": "2504bf45",
   "metadata": {},
   "source": [
    "$\\color{blue}{\\text{Answer the following questions.}}$\n",
    "\n",
    "  - How many methods does a `Tuple` have?\n",
    "  [Report your answer here]\n",
    "  \n",
    "  - Which methods does a `List` have?\n",
    "  [Report your answer here]\n",
    "  "
   ]
  },
  {
   "cell_type": "markdown",
   "id": "43e1ebe5",
   "metadata": {},
   "source": [
    "### Python Set\n",
    "\n",
    "A set is defined as an unordered, unidexed and immutable collection of items. Whereas lists are defined by `[]`, tuple are defined by `()`, sets are defined by `{}`."
   ]
  },
  {
   "cell_type": "code",
   "execution_count": 62,
   "id": "460998dd",
   "metadata": {},
   "outputs": [
    {
     "name": "stdout",
     "output_type": "stream",
     "text": [
      "{'B', 'D', 'C', 'A'}\n"
     ]
    },
    {
     "data": {
      "text/plain": [
       "set"
      ]
     },
     "execution_count": 62,
     "metadata": {},
     "output_type": "execute_result"
    }
   ],
   "source": [
    "myset = {\"A\", \"B\", \"C\", \"D\"}\n",
    "print(myset)\n",
    "type(myset)"
   ]
  },
  {
   "cell_type": "markdown",
   "id": "f10a65da",
   "metadata": {},
   "source": [
    "Unordered means that items in the set do not have an assigned order, so they cannot be indexed: "
   ]
  },
  {
   "cell_type": "code",
   "execution_count": 63,
   "id": "c592826c",
   "metadata": {},
   "outputs": [
    {
     "ename": "TypeError",
     "evalue": "'set' object is not subscriptable",
     "output_type": "error",
     "traceback": [
      "\u001b[0;31m---------------------------------------------------------------------------\u001b[0m",
      "\u001b[0;31mTypeError\u001b[0m                                 Traceback (most recent call last)",
      "Cell \u001b[0;32mIn[63], line 1\u001b[0m\n\u001b[0;32m----> 1\u001b[0m \u001b[43mmyset\u001b[49m\u001b[43m[\u001b[49m\u001b[38;5;241;43m1\u001b[39;49m\u001b[43m]\u001b[49m\n",
      "\u001b[0;31mTypeError\u001b[0m: 'set' object is not subscriptable"
     ]
    }
   ],
   "source": [
    "myset[1]"
   ]
  },
  {
   "cell_type": "code",
   "execution_count": null,
   "id": "bd3cb201-6cf1-4af6-8b12-ac169bc056b4",
   "metadata": {},
   "outputs": [],
   "source": []
  },
  {
   "cell_type": "markdown",
   "id": "db55c5cc",
   "metadata": {},
   "source": [
    "This is means also that a set is immutable and elements cannot be replaced:"
   ]
  },
  {
   "cell_type": "code",
   "execution_count": null,
   "id": "acf15a3c",
   "metadata": {},
   "outputs": [],
   "source": [
    "myset{2} = \"F\""
   ]
  },
  {
   "cell_type": "markdown",
   "id": "b566cc7d",
   "metadata": {},
   "source": [
    "This is different from Tuple and Lists:"
   ]
  },
  {
   "cell_type": "code",
   "execution_count": null,
   "id": "992c4b96",
   "metadata": {},
   "outputs": [],
   "source": [
    "mylist = [\"A\",\"B\",\"C\",\"D\"]\n",
    "print(mylist[2])"
   ]
  },
  {
   "cell_type": "code",
   "execution_count": null,
   "id": "e848ec4a",
   "metadata": {},
   "outputs": [],
   "source": [
    "mylist[3] = \"F\"\n",
    "print(mylist)"
   ]
  },
  {
   "cell_type": "markdown",
   "id": "626791fd",
   "metadata": {},
   "source": [
    "$\\color{blue}{\\text{Answer the following questions.}}$\n",
    "\n",
    "  - In the line above I changed the element of `mylist` indexed by the number `3`, why did that operation change the last element in the list?\n",
    "  [Report your answer here]\n",
    "  "
   ]
  },
  {
   "cell_type": "markdown",
   "id": "f617dc63",
   "metadata": {},
   "source": [
    "Sets have some cool properties, similar to the \"sets\" you might have studied in highschool or college. We can perform union operations with sets. \n",
    "\n",
    "Ok so let's remind ourselves what `myset` contained:"
   ]
  },
  {
   "cell_type": "code",
   "execution_count": null,
   "id": "f0d4767c",
   "metadata": {},
   "outputs": [],
   "source": [
    "print(myset)"
   ]
  },
  {
   "cell_type": "markdown",
   "id": "29ba0366",
   "metadata": {},
   "source": [
    "Now let's create a new set (`myset2`) with numbers in it, and then construct the union of `myset` and `myset2`, we will save the union set in a variable called `myset3`:"
   ]
  },
  {
   "cell_type": "code",
   "execution_count": null,
   "id": "1bf691db",
   "metadata": {},
   "outputs": [],
   "source": [
    "myset2 = {'E', 'F', 'G'}\n",
    "print(myset2)\n",
    "myset3 = {}\n",
    "myset3 = myset.union(myset2)\n",
    "print(myset3)"
   ]
  },
  {
   "cell_type": "markdown",
   "id": "9d243f10",
   "metadata": {},
   "source": [
    "$\\color{blue}{\\text{Answer the following questions.}}$\n",
    "\n",
    "  - can you repeate the same union experiment with lists? For example, can you take the list `mylist`  create a second one called `mylist2` containing other elements (your pick) and create a third list `mylist3` that is the union of mylist` and `mylist2`?\n",
    "  \n",
    "  [Use the cell below to try the experiment]\n",
    "  \n",
    "  [Report your verbal description of the results of the experiment here.]\n",
    "  "
   ]
  },
  {
   "cell_type": "code",
   "execution_count": null,
   "id": "a8e73aa4",
   "metadata": {},
   "outputs": [],
   "source": []
  },
  {
   "cell_type": "code",
   "execution_count": null,
   "id": "c2a92bf1-06d3-48c7-a72b-1eb105b52836",
   "metadata": {},
   "outputs": [],
   "source": []
  },
  {
   "cell_type": "code",
   "execution_count": null,
   "id": "8d31cb30-3d0f-4ea2-af53-711891828c9e",
   "metadata": {},
   "outputs": [],
   "source": []
  },
  {
   "cell_type": "markdown",
   "id": "b8c465bd",
   "metadata": {},
   "source": [
    "$\\color{blue}{\\text{Answer the following questions.}}$\n",
    "\n",
    "  - can `lists` or `sets` contain a mixture of different data types, say letters, float numbers and integers? Attempt to make a list containing letters, float numbers and integers call it `myWonderList`, show its result using `print()`, then also make a set containing letters, float numbers and integers, call it `myWonderSet`, show its result using `print()`:\n",
    "\n",
    "  [Use the cell below to implement the experiment]\n",
    "  \n",
    "  [Report your verbal description of the results of the experiment here.]\n",
    "  "
   ]
  },
  {
   "cell_type": "code",
   "execution_count": null,
   "id": "7ed0071f",
   "metadata": {},
   "outputs": [],
   "source": []
  },
  {
   "cell_type": "markdown",
   "id": "bb5d37ac-6684-4818-b088-86b9c08b4ad7",
   "metadata": {},
   "source": [
    "set from a list"
   ]
  },
  {
   "cell_type": "code",
   "execution_count": 64,
   "id": "bb072ca0-b00d-47eb-aa79-0a1be4064cac",
   "metadata": {},
   "outputs": [
    {
     "name": "stdout",
     "output_type": "stream",
     "text": [
      "{1, 2, 3, 4, 5, 6, 7, 8}\n"
     ]
    }
   ],
   "source": [
    "# List with duplicates\n",
    "my_list = [1, 2, 3, 4, 4, 4, 5, 6, 6, 7, 8, 8, 8]\n",
    "\n",
    "# Convert list to set\n",
    "my_set = set(my_list)\n",
    "\n",
    "print(my_set)  # Output: {1, 2, 3, 4, 5, 6, 7, 8}\n"
   ]
  },
  {
   "cell_type": "markdown",
   "id": "6522ed8b",
   "metadata": {},
   "source": [
    "### Python Dictionaries\n",
    "\n",
    "A dictionary is an ordered, changeable, collection of items but do not allow duplicates. Dictionaries are defined by pairs of variables where one of the two variables in the pair is generally thought of as a label, the other one as a value. Whereas lists are defined by `[]`, tuple are defined by `()`, dictionaries just liek sets are defined by `{}`. \n",
    "\n",
    "The structure of the content of dictionaries is differently organized than, lists, tuples and sets:"
   ]
  },
  {
   "cell_type": "code",
   "execution_count": null,
   "id": "577551f4",
   "metadata": {},
   "outputs": [],
   "source": [
    "mydictionary = {\n",
    "    \"apples\": 3, \n",
    "    \"oranges\": 5, \n",
    "    \"bananas\": 2, \n",
    "    \"pinapples\": 1}\n",
    "print(mydictionary)\n",
    "type(mydictionary)"
   ]
  },
  {
   "cell_type": "markdown",
   "id": "9b41d146",
   "metadata": {},
   "source": [
    "Dictionaries allow efficient and human friendly addressing of items. For example, we can recall how many organes we have in the dictionary by directly calling the oranges label and the corresponding value in the pair of values will be returned:"
   ]
  },
  {
   "cell_type": "code",
   "execution_count": null,
   "id": "bd709d64",
   "metadata": {},
   "outputs": [],
   "source": [
    "mydictionary[\"oranges\"]"
   ]
  },
  {
   "cell_type": "markdown",
   "id": "308c28c1",
   "metadata": {},
   "source": [
    "$\\color{blue}{\\text{Answer the following questions.}}$\n",
    "\n",
    "  - Use the cell below to write code that let you find out how many bananas we have in our container `mydictionary` of fruits?\n",
    "  [Report your answer here]"
   ]
  },
  {
   "cell_type": "code",
   "execution_count": null,
   "id": "ea34fa15",
   "metadata": {},
   "outputs": [],
   "source": []
  },
  {
   "cell_type": "markdown",
   "id": "24b260c5",
   "metadata": {},
   "source": [
    "### A few exercises as a reminder"
   ]
  },
  {
   "cell_type": "markdown",
   "id": "66e24530",
   "metadata": {},
   "source": [
    "$\\color{blue}{\\text{Answer the following questions.}}$\n",
    "\n",
    "  - Build a `List` of pets called `home`, where each pet name (a string) is followed by the number of pets I own and have at home (say (cats, 2, dogs, 1, etc)?\n",
    "  \n",
    "  [Show your list in the cell below]"
   ]
  },
  {
   "cell_type": "code",
   "execution_count": null,
   "id": "966bf323",
   "metadata": {},
   "outputs": [],
   "source": []
  },
  {
   "cell_type": "markdown",
   "id": "a3e5d154",
   "metadata": {},
   "source": [
    "  - Build a dictionary called `home_dict`, similar to the `home` list but using the features of the dictionary where a pet name can be associated to its correspoding number.\n",
    "  \n",
    "    [Show your dictionary in the cell below]"
   ]
  },
  {
   "cell_type": "code",
   "execution_count": null,
   "id": "f479bf45",
   "metadata": {},
   "outputs": [],
   "source": []
  },
  {
   "cell_type": "markdown",
   "id": "dee46bcf",
   "metadata": {},
   "source": [
    "  - Find the number of dogs in `home` and in `home_dict`.\n",
    "  \n",
    "    [Show your code in the cell below]"
   ]
  },
  {
   "cell_type": "code",
   "execution_count": null,
   "id": "6633a73e",
   "metadata": {},
   "outputs": [],
   "source": []
  },
  {
   "cell_type": "markdown",
   "id": "8d36562f",
   "metadata": {},
   "source": [
    " [Use this cell, to explain in your own words how you found the dog and the corresponding number of dogs in `home` first and in `home_dict` after that] \n",
    " \n",
    " "
   ]
  },
  {
   "cell_type": "markdown",
   "id": "2be116d5",
   "metadata": {},
   "source": [
    "### More practicing with using Python Lists"
   ]
  },
  {
   "cell_type": "markdown",
   "id": "3d75ecec",
   "metadata": {},
   "source": [
    "Although Lists, Containers, Tuple, and Dictionary are all interesting and important datatypes in python, we will use primarily Lists in thsi class. Below some additional material to practice making lists and accessing them."
   ]
  },
  {
   "cell_type": "markdown",
   "id": "c0099343",
   "metadata": {},
   "source": [
    "Lists in Python are just what they sound like, lists of things. We make them using `[square brackets]`."
   ]
  },
  {
   "cell_type": "code",
   "execution_count": null,
   "id": "42710c7c",
   "metadata": {},
   "outputs": [],
   "source": [
    "mylist = [1, 3, 5, 7, 11, 13]"
   ]
  },
  {
   "cell_type": "markdown",
   "id": "dd8cb115",
   "metadata": {},
   "source": [
    "A list is an extension of a regular (or \"scalar\") `variable`, which can only hold one thing at the time."
   ]
  },
  {
   "cell_type": "code",
   "execution_count": null,
   "id": "e80fe5f4",
   "metadata": {},
   "outputs": [],
   "source": [
    "notalist = 3.14"
   ]
  },
  {
   "cell_type": "code",
   "execution_count": null,
   "id": "73b16e77",
   "metadata": {},
   "outputs": [],
   "source": [
    "print(notalist)"
   ]
  },
  {
   "cell_type": "code",
   "execution_count": null,
   "id": "f72a6ca1",
   "metadata": {},
   "outputs": [],
   "source": [
    "print(mylist)"
   ]
  },
  {
   "cell_type": "markdown",
   "id": "f7ebceaf",
   "metadata": {},
   "source": [
    "Aside: If we're working with only numbers, then you can think of a regular variable as a \"scalar\" and a list as a \"vector\"."
   ]
  },
  {
   "cell_type": "markdown",
   "id": "8460dfde",
   "metadata": {},
   "source": [
    "Lists can, however, hold things besides numbers. For example, they can hold 'text'."
   ]
  },
  {
   "cell_type": "code",
   "execution_count": null,
   "id": "d4e6d26c",
   "metadata": {},
   "outputs": [],
   "source": [
    "mylist2 = ['this', 'is', 'a', 'list', 'of', 'words']"
   ]
  },
  {
   "cell_type": "code",
   "execution_count": null,
   "id": "e405f1a9",
   "metadata": {},
   "outputs": [],
   "source": [
    "mylist2"
   ]
  },
  {
   "cell_type": "markdown",
   "id": "73b9d62b",
   "metadata": {},
   "source": [
    "(Some people, even us, might casually call this a vector but that's technically not true.)"
   ]
  },
  {
   "cell_type": "markdown",
   "id": "4d11607f",
   "metadata": {},
   "source": [
    "In reality, lists can hold all sort of things, say numbers (scalars), 'text' and even other lists, and all at once."
   ]
  },
  {
   "cell_type": "code",
   "execution_count": null,
   "id": "6d48c6eb",
   "metadata": {},
   "outputs": [],
   "source": [
    "mylist3 = [1, 'one', [2, 3, 4]]"
   ]
  },
  {
   "cell_type": "code",
   "execution_count": null,
   "id": "c501bfbc",
   "metadata": {},
   "outputs": [],
   "source": [
    "mylist3"
   ]
  },
  {
   "cell_type": "markdown",
   "id": "7d4fc5e7",
   "metadata": {},
   "source": [
    "Note that this last list holds a list at index=2"
   ]
  },
  {
   "cell_type": "markdown",
   "id": "73428ff5",
   "metadata": {},
   "source": [
    "We can get elements of a list by using `index` values in square brackets."
   ]
  },
  {
   "cell_type": "code",
   "execution_count": null,
   "id": "0354066e",
   "metadata": {},
   "outputs": [],
   "source": [
    "mylist"
   ]
  },
  {
   "cell_type": "code",
   "execution_count": null,
   "id": "d1c7eec6",
   "metadata": {
    "scrolled": true
   },
   "outputs": [],
   "source": [
    "mylist[5]"
   ]
  },
  {
   "cell_type": "code",
   "execution_count": null,
   "id": "5087d5a3",
   "metadata": {},
   "outputs": [],
   "source": [
    "mylist3[2]"
   ]
  },
  {
   "cell_type": "markdown",
   "id": "8d0be1ae",
   "metadata": {},
   "source": [
    "**Python uses a 0-based indexing, not a 1-based indexing (the first value in container is indexed with the number 0). This means that the first value in a list is at index=0, not index=1. This is different than many other languages including R and MatLab!**"
   ]
  },
  {
   "cell_type": "markdown",
   "id": "2a97c258",
   "metadata": {},
   "source": [
    "We can address more than one element in a list by using the `:` (colon) operator."
   ]
  },
  {
   "cell_type": "code",
   "execution_count": null,
   "id": "0a06fd7b",
   "metadata": {},
   "outputs": [],
   "source": [
    "mylist[0:3]"
   ]
  },
  {
   "cell_type": "markdown",
   "id": "09ae6a64",
   "metadata": {},
   "source": [
    "We can read this as \"Give me all the elements in the interval between 0 **inclusive** to 3 **exclusive**.\"\n",
    "\n",
    "I know this is weird. But at least for any two indexes `a` and `b`, the number of elements you get back from `mylist[a,b]` is always equal to `b` minus `a`, so I guess that's good!"
   ]
  },
  {
   "cell_type": "markdown",
   "id": "97c3441e",
   "metadata": {},
   "source": [
    "We can get any consecutive hunk of elements using `:`."
   ]
  },
  {
   "cell_type": "code",
   "execution_count": null,
   "id": "24a6dbc5",
   "metadata": {},
   "outputs": [],
   "source": [
    "mylist[2:5]"
   ]
  },
  {
   "cell_type": "markdown",
   "id": "432eb54a",
   "metadata": {},
   "source": [
    "If you omit the indexes, Python will assume you want everything."
   ]
  },
  {
   "cell_type": "code",
   "execution_count": null,
   "id": "f32671ee",
   "metadata": {},
   "outputs": [],
   "source": [
    "mylist[:]"
   ]
  },
  {
   "cell_type": "markdown",
   "id": "3b28978b",
   "metadata": {},
   "source": [
    "That doesn't seem very useful... But, actually, it will turn out to be **really** useful later on, when we will start using numpy arrays!"
   ]
  },
  {
   "cell_type": "markdown",
   "id": "e8440369",
   "metadata": {},
   "source": [
    "If you just use one index, the `:` is assumed to mean \"from the beginning\" or \"to the end\". Like this:"
   ]
  },
  {
   "cell_type": "code",
   "execution_count": null,
   "id": "0da9410f",
   "metadata": {},
   "outputs": [],
   "source": [
    "mylist[:3] # from the beginning to 3"
   ]
  },
  {
   "cell_type": "markdown",
   "id": "0f27b36f",
   "metadata": {},
   "source": [
    "And this:"
   ]
  },
  {
   "cell_type": "code",
   "execution_count": null,
   "id": "36c50220",
   "metadata": {},
   "outputs": [],
   "source": [
    "mylist[3:] # from 3 to the end"
   ]
  },
  {
   "cell_type": "markdown",
   "id": "a82376cd",
   "metadata": {},
   "source": [
    "In addition to the `list[start:stop]` syntax, you can add a step after a second colon, as in `list[start:stop:step]`. This asks for all the element between `start` and `stop` but in steps of `step`, not necessarily consecutive elements. For example every other element:"
   ]
  },
  {
   "cell_type": "code",
   "execution_count": null,
   "id": "09e1cec1",
   "metadata": {},
   "outputs": [],
   "source": [
    "mylist[0:5:2] # get every other element"
   ]
  },
  {
   "cell_type": "markdown",
   "id": "fd25f983",
   "metadata": {},
   "source": [
    "As you've probably figured out, all our outputs above have been lists. So if we assign the output a name, it will be another list."
   ]
  },
  {
   "cell_type": "code",
   "execution_count": null,
   "id": "9f59d732",
   "metadata": {},
   "outputs": [],
   "source": [
    "every_other_one = mylist[0:-1:2] # could also do mylist[0::2]"
   ]
  },
  {
   "cell_type": "code",
   "execution_count": null,
   "id": "8e584a75",
   "metadata": {},
   "outputs": [],
   "source": [
    "every_other_one"
   ]
  },
  {
   "cell_type": "markdown",
   "id": "44125e74",
   "metadata": {},
   "source": [
    "See!"
   ]
  },
  {
   "cell_type": "markdown",
   "id": "707a58c5",
   "metadata": {},
   "source": [
    "If we want a group of elements that aren't evenly spaced, we'll need to specify the indexes \"by hand\"."
   ]
  },
  {
   "cell_type": "code",
   "execution_count": null,
   "id": "ed25cb5a",
   "metadata": {},
   "outputs": [],
   "source": [
    "anothernewlist = [mylist[1],mylist[2],mylist[4]]"
   ]
  },
  {
   "cell_type": "code",
   "execution_count": null,
   "id": "23094e01",
   "metadata": {},
   "outputs": [],
   "source": [
    "anothernewlist"
   ]
  },
  {
   "cell_type": "markdown",
   "id": "64f4fec3",
   "metadata": {},
   "source": [
    "So those are the basics of lists. They:\n",
    "\n",
    "* store a list of things (duh)\n",
    "* start at index zero\n",
    "* can be accessed using three things together:\n",
    "    - square brackets `[]`\n",
    "    - integer indexes (including negative \"start from the end\" indexes)\n",
    "    - a colon `:` (or two if you want a step value other than 1)\n",
    "    \n"
   ]
  },
  {
   "cell_type": "code",
   "execution_count": null,
   "id": "4ed2e42b",
   "metadata": {},
   "outputs": [],
   "source": [
    "letters = [2, 4,  3, 6, 5, 8, 11, 10, 9, 14, 13, 12, 7]\n",
    "# 'abcdefghijklmnopqrstuvwxyzABCDEFGHIJKLMNOPQRSTUVWXYZ'\n",
    "\n",
    "string_letters = str(letters)\n",
    "lists_letters = list(letters)\n",
    "tuples_letters = tuple(letters)\n",
    "sets_letters = set(letters)\n",
    "\n",
    "\n",
    "print(\"String: \", string_letters)\n",
    "print(\"Lists: \", lists_letters)\n",
    "print(\"Tuples: \", tuples_letters)\n",
    "print(\"Sets: \", sets_letters)"
   ]
  },
  {
   "cell_type": "code",
   "execution_count": null,
   "id": "0f6ab47a",
   "metadata": {},
   "outputs": [],
   "source": []
  }
 ],
 "metadata": {
  "kernelspec": {
   "display_name": "Python 3 (ipykernel)",
   "language": "python",
   "name": "python3"
  },
  "language_info": {
   "codemirror_mode": {
    "name": "ipython",
    "version": 3
   },
   "file_extension": ".py",
   "mimetype": "text/x-python",
   "name": "python",
   "nbconvert_exporter": "python",
   "pygments_lexer": "ipython3",
   "version": "3.8.17"
  }
 },
 "nbformat": 4,
 "nbformat_minor": 5
}
