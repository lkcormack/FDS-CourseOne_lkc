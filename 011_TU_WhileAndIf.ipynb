{
 "cells": [
  {
   "cell_type": "markdown",
   "id": "4ee24606",
   "metadata": {
    "editable": true,
    "slideshow": {
     "slide_type": ""
    },
    "tags": []
   },
   "source": [
    "# Basic control flow in Python II: Logic, `if`, and `while`"
   ]
  },
  {
   "cell_type": "markdown",
   "id": "9643a583",
   "metadata": {},
   "source": [
    "### Learning outcomes:\n",
    " - Learn more about  control flow in python\n",
    " - Comparisons and Logical operators\n",
    " - `if`, `else` statements\n",
    " - `while` loops"
   ]
  },
  {
   "cell_type": "markdown",
   "id": "2918365b",
   "metadata": {},
   "source": [
    "Last time, we covered `for` loops, which allow us to repeat an action a fixed number of times. This time, we'll cover some other aspects of control flow that allow computer programs to be more flexible and therefore more powerful."
   ]
  },
  {
   "cell_type": "markdown",
   "id": "17249da9",
   "metadata": {},
   "source": [
    "Recall our little scenario from the last tutorial:\n",
    "\n",
    "  - Walk to the door\n",
    "  - ***If*** the door ***is*** closed, open the door\n",
    "  - Walk through the door\n",
    "  - Continue walking ***for*** 10 more steps to the elevator\n",
    "  - ***If*** the elevator door ***is not*** open, press the button\n",
    "  - ***While*** the door is not open, wait\n",
    "  - Enter the elevator\n",
    "  - ***If*** the button for your floor *is not* lit, press the button"
   ]
  },
  {
   "cell_type": "markdown",
   "id": "c816084e",
   "metadata": {},
   "source": [
    "Notice we had a `for` in there, but we had some other stuff too, like `while` and `if` and logical tests like (effictively) `door != open` and `door == closed`. It's these things we wil cover today and, when we're finished, we will have a fairly complete \"control flow toolbox\" at our disposal."
   ]
  },
  {
   "cell_type": "markdown",
   "id": "a38d572b",
   "metadata": {},
   "source": [
    "### Control flow: Logical Tests and Boolean Operators"
   ]
  },
  {
   "cell_type": "markdown",
   "id": "d62720d2",
   "metadata": {},
   "source": [
    "Believe it or not, everything that happens on your phone or computer comes down to lots – **LOTS** – of little decisions based on one or two inputs that can be either \"True\" or \"False\", and an output that can also be \"True\" or \"False\". \n",
    "\n",
    "Seriously, everything on any digitial device – from Tik Tok videos to your Python code – comes down to a whole bunch of truths and falsehoods (ones and zeros) that are themselves the result of decisions based on other truths and falsehoods. The \"decision makers\" are actual physical (but teeny teeny tiny) devices that are combinations of things called [*transistors*](https://en.wikipedia.org/wiki/Transistor). The transistor is important that the 3 folks that built the first working one were awarded the Nobel Prize in Physics. \n",
    "\n",
    "Two are the primary operations performed by transistors:\n",
    "\n",
    "* ***Comparison*** operations like `==` (equals) and `>` (greater than) that yield `True` or `False`\n",
    "* ***Logical*** operations that use ***Boolean logic***, which compares two logical inputs and returns `True` or `False` like  `A and B` (`True` only if both A and B are `True`) and `A or B` (`True` if either A or B – or both – are `True`).\n",
    "\n",
    "Let's play with this. It might seem a bit silly and obvious now, but the power of logical tests will reveal itself soon."
   ]
  },
  {
   "cell_type": "markdown",
   "id": "97244a25",
   "metadata": {},
   "source": [
    "### Comparison operators\n",
    "\n",
    "These are operators that test a single value. Imagine wanting to ask, whether the number of lives a cat has ([which is 9 in the U.S., but only 7 in Italy and 6 according to Arabic tradition](https://en.wikipedia.org/wiki/Cat#Superstitions_and_rituals)) is different than the number of lives of [Schrödinger's cat](https://en.wikipedia.org/wiki/Schr%C3%B6dinger%27s_cat) has. This would involve testing 2 numbers for perhaps:\n",
    "\n",
    "* equality `==`\n",
    "* inequality `!=`\n",
    "* greater than `>`\n",
    "* less than `<`\n",
    "* greater than or equal to `>=`\n",
    "* less than or equal to `<=`"
   ]
  },
  {
   "cell_type": "markdown",
   "id": "40148ae3",
   "metadata": {},
   "source": [
    "Let's set a variable `x` to 11. (Most amps only go up to 10, but our amp, `x`, goes up to 11!)"
   ]
  },
  {
   "cell_type": "code",
   "execution_count": 1,
   "id": "6d8b3d4f",
   "metadata": {},
   "outputs": [
    {
     "data": {
      "text/plain": [
       "11"
      ]
     },
     "execution_count": 1,
     "metadata": {},
     "output_type": "execute_result"
    }
   ],
   "source": [
    "x = 11\n",
    "x"
   ]
  },
  {
   "cell_type": "markdown",
   "id": "5378f9ef",
   "metadata": {},
   "source": [
    "Now let's do some logical tests on our variable `x`. Let's see if `x` is less than `42`."
   ]
  },
  {
   "cell_type": "code",
   "execution_count": 2,
   "id": "c8841a2d",
   "metadata": {},
   "outputs": [
    {
     "data": {
      "text/plain": [
       "True"
      ]
     },
     "execution_count": 2,
     "metadata": {},
     "output_type": "execute_result"
    }
   ],
   "source": [
    "x < 42"
   ]
  },
  {
   "cell_type": "markdown",
   "id": "6f72847c",
   "metadata": {},
   "source": [
    "---"
   ]
  },
  {
   "cell_type": "markdown",
   "id": "70f3a756",
   "metadata": {},
   "source": [
    "Use the code cell below to test if `x` is greater than `42`."
   ]
  },
  {
   "cell_type": "code",
   "execution_count": null,
   "id": "391f5de7",
   "metadata": {},
   "outputs": [],
   "source": []
  },
  {
   "cell_type": "markdown",
   "id": "aa68f2fc",
   "metadata": {},
   "source": [
    "---"
   ]
  },
  {
   "cell_type": "markdown",
   "id": "61ba2cac",
   "metadata": {},
   "source": [
    "We can also test for equality. Is `x` equal to `42`?"
   ]
  },
  {
   "cell_type": "code",
   "execution_count": null,
   "id": "788198b2",
   "metadata": {},
   "outputs": [],
   "source": [
    "x == 42"
   ]
  },
  {
   "cell_type": "markdown",
   "id": "85c23215",
   "metadata": {},
   "source": [
    "Finally, we can test for *inequality*. (We test whether it is true that x is *not* equal to a specific number). "
   ]
  },
  {
   "cell_type": "code",
   "execution_count": null,
   "id": "c6149376",
   "metadata": {},
   "outputs": [],
   "source": [
    "x != 42"
   ]
  },
  {
   "cell_type": "markdown",
   "id": "8e839816",
   "metadata": {},
   "source": [
    "The exclamation point here means \"not\", so the experession `x != 42` can be read as \"is x not equal to 42?\"\n",
    "\n",
    "And the answer is \"That's `True`! The variable `x` is not equal to 42!\""
   ]
  },
  {
   "cell_type": "markdown",
   "id": "b3659874",
   "metadata": {},
   "source": [
    "---"
   ]
  },
  {
   "cell_type": "markdown",
   "id": "6f2ac065",
   "metadata": {},
   "source": [
    "In the code cell below, test to see if `x` is 11."
   ]
  },
  {
   "cell_type": "code",
   "execution_count": null,
   "id": "de832c9a",
   "metadata": {},
   "outputs": [],
   "source": []
  },
  {
   "cell_type": "markdown",
   "id": "fb5f5999-af4a-4644-8915-9874aeef620c",
   "metadata": {},
   "source": [
    "Now test `x` to see if it's not 11."
   ]
  },
  {
   "cell_type": "code",
   "execution_count": null,
   "id": "3fe4402d-e905-4c64-a76e-fb8b762feb00",
   "metadata": {},
   "outputs": [],
   "source": []
  },
  {
   "cell_type": "markdown",
   "id": "93d10eb2",
   "metadata": {},
   "source": [
    "---"
   ]
  },
  {
   "cell_type": "markdown",
   "id": "ce9b435d",
   "metadata": {},
   "source": [
    "As you might have noticed, all these operations are *built in.* This means that we did not have to import any specific package to access the operations. Python provides these operations as they are core functionality, the bread and butter of most users, or better said, of most programmers. Like you!"
   ]
  },
  {
   "cell_type": "markdown",
   "id": "a40d4dd6-fb9c-498a-ae65-d11e337075e9",
   "metadata": {},
   "source": [
    "### Combining comparison operators"
   ]
  },
  {
   "cell_type": "markdown",
   "id": "25ed8782-1404-4182-bc2c-97a0ea990ed3",
   "metadata": {},
   "source": [
    "You can make tests arbitratily complex by combining logical tests. For example, let's make 4 variables:"
   ]
  },
  {
   "cell_type": "code",
   "execution_count": 4,
   "id": "e3d3b155-95da-4c8d-a2d2-03c78ad98a56",
   "metadata": {},
   "outputs": [],
   "source": [
    "a, b, c, d = 1, 2, 3, 4"
   ]
  },
  {
   "cell_type": "markdown",
   "id": "5172d29f-63cf-4982-9b84-04c8d2c3b38d",
   "metadata": {},
   "source": [
    "Now we can test if **two** conditions are **both** `True`:"
   ]
  },
  {
   "cell_type": "code",
   "execution_count": 5,
   "id": "167da86b-9867-470f-b65c-794e239fe916",
   "metadata": {},
   "outputs": [
    {
     "data": {
      "text/plain": [
       "True"
      ]
     },
     "execution_count": 5,
     "metadata": {},
     "output_type": "execute_result"
    }
   ],
   "source": [
    "a < b and b < c"
   ]
  },
  {
   "cell_type": "code",
   "execution_count": 7,
   "id": "958f41bb-dd69-45d6-865e-9a952c96f495",
   "metadata": {},
   "outputs": [
    {
     "data": {
      "text/plain": [
       "False"
      ]
     },
     "execution_count": 7,
     "metadata": {},
     "output_type": "execute_result"
    }
   ],
   "source": [
    "a < b and b < a"
   ]
  },
  {
   "cell_type": "markdown",
   "id": "aacb530a-8278-44b1-a3e3-769490102ced",
   "metadata": {},
   "source": [
    "Or we can see if **either** are `True`:"
   ]
  },
  {
   "cell_type": "code",
   "execution_count": 10,
   "id": "d26e92c7-4b51-47e1-b75a-d88cde121bac",
   "metadata": {},
   "outputs": [
    {
     "data": {
      "text/plain": [
       "True"
      ]
     },
     "execution_count": 10,
     "metadata": {},
     "output_type": "execute_result"
    }
   ],
   "source": [
    "a < b or b < c"
   ]
  },
  {
   "cell_type": "code",
   "execution_count": 11,
   "id": "230c0b87-18cf-4e35-9eaa-ac585276dcaa",
   "metadata": {},
   "outputs": [
    {
     "data": {
      "text/plain": [
       "True"
      ]
     },
     "execution_count": 11,
     "metadata": {},
     "output_type": "execute_result"
    }
   ],
   "source": [
    "a < b or b < a"
   ]
  },
  {
   "cell_type": "markdown",
   "id": "0416d346-065f-4a0a-85aa-2291154e57e6",
   "metadata": {},
   "source": [
    "(Make sure and compare the last two code cells and their outputs with the two before them."
   ]
  },
  {
   "cell_type": "markdown",
   "id": "d39decad-4c45-4c7a-a937-d003b3547231",
   "metadata": {},
   "source": [
    "Believe it or not, we just did the first steps of building your smartphone! Or your laptop! One transitor did the left test, another did the right test, and a third transistor did the middle one (`and` or `or`). Everything your phone or computer does is just a vast, vast combination of operations like these."
   ]
  },
  {
   "cell_type": "markdown",
   "id": "aabc4068-378a-4bd4-aae5-3a4d1f1e2978",
   "metadata": {},
   "source": [
    "To make thing really interesting, we can toggle `False` and `True` values with `not`:"
   ]
  },
  {
   "cell_type": "code",
   "execution_count": 13,
   "id": "f2e00e3f-4260-4ddc-b6a2-b63efc21e5dc",
   "metadata": {},
   "outputs": [
    {
     "data": {
      "text/plain": [
       "True"
      ]
     },
     "execution_count": 13,
     "metadata": {},
     "output_type": "execute_result"
    }
   ],
   "source": [
    "a < b"
   ]
  },
  {
   "cell_type": "code",
   "execution_count": 15,
   "id": "079ea565-3e63-42e9-a0d0-80bec68af5af",
   "metadata": {},
   "outputs": [
    {
     "data": {
      "text/plain": [
       "False"
      ]
     },
     "execution_count": 15,
     "metadata": {},
     "output_type": "execute_result"
    }
   ],
   "source": [
    "not a < b"
   ]
  },
  {
   "cell_type": "code",
   "execution_count": 17,
   "id": "029e99a6-74ac-4829-bcdc-c0f1372c7c2e",
   "metadata": {},
   "outputs": [
    {
     "data": {
      "text/plain": [
       "True"
      ]
     },
     "execution_count": 17,
     "metadata": {},
     "output_type": "execute_result"
    }
   ],
   "source": [
    "not not a < b  # don't do this in real code!"
   ]
  },
  {
   "cell_type": "markdown",
   "id": "1451ea87-4802-4c59-9f10-b59b1c9436df",
   "metadata": {},
   "source": [
    "You can use parenthesis to group things. Notice the difference between:"
   ]
  },
  {
   "cell_type": "code",
   "execution_count": 25,
   "id": "0f9d2aca-3510-4388-bd69-df224096144d",
   "metadata": {},
   "outputs": [
    {
     "data": {
      "text/plain": [
       "True"
      ]
     },
     "execution_count": 25,
     "metadata": {},
     "output_type": "execute_result"
    }
   ],
   "source": [
    "not b < a or a < b"
   ]
  },
  {
   "cell_type": "markdown",
   "id": "07624f42-1abd-45be-8d58-cd3f6c76171a",
   "metadata": {},
   "source": [
    "and:"
   ]
  },
  {
   "cell_type": "code",
   "execution_count": 26,
   "id": "83e961cc-30f4-4d34-8e30-0f5e6975204f",
   "metadata": {},
   "outputs": [
    {
     "data": {
      "text/plain": [
       "False"
      ]
     },
     "execution_count": 26,
     "metadata": {},
     "output_type": "execute_result"
    }
   ],
   "source": [
    "not (b < a or a < b)"
   ]
  },
  {
   "cell_type": "markdown",
   "id": "c6f0a4e6-986f-429c-8526-67aa55b2c707",
   "metadata": {},
   "source": [
    "You can also use parentheses just to make things more clear (human readable), even if you don't need them:"
   ]
  },
  {
   "cell_type": "code",
   "execution_count": 27,
   "id": "db1566e8-318c-4977-9d05-f34d16227d84",
   "metadata": {},
   "outputs": [
    {
     "data": {
      "text/plain": [
       "True"
      ]
     },
     "execution_count": 27,
     "metadata": {},
     "output_type": "execute_result"
    }
   ],
   "source": [
    "not (b < a) or (a < b)"
   ]
  },
  {
   "cell_type": "markdown",
   "id": "fdb1ea31-8cc9-4891-8366-b9ce40e7dfb6",
   "metadata": {},
   "source": [
    "Okay, so logical tests are fundemental blah.. blah... but how do we really use them in code? One **huge** use of logical tests is to *branch* code execution using the `if`."
   ]
  },
  {
   "cell_type": "markdown",
   "id": "7019bb28",
   "metadata": {},
   "source": [
    "### Control flow: `if`, (`elif`), (`else`) statements"
   ]
  },
  {
   "cell_type": "markdown",
   "id": "ded2ac3c",
   "metadata": {},
   "source": [
    "Fundamental to any programming language is the ability to express conditional statements such as `if` something is `True`, then do this. Or, `if` something is `True`, then do this, `else` do that. These are basic building blocks of coding, as they allow controlling the flow of the the program, making branch to different code depending on the conditions met.  In life, you might say \"I can eat my cake only if I went out for a run today. In code, you might want to say \"`if` an input is not zero, divide it into some other number, `else` `print(\"You can't divide by zero, silly!`)."
   ]
  },
  {
   "cell_type": "markdown",
   "id": "2148c428",
   "metadata": {},
   "source": [
    "Here are some simple examples. First, we'll test whether a number you input is \"big\". Run it once with a number greater than 100, then again with a number less than 100. "
   ]
  },
  {
   "cell_type": "code",
   "execution_count": 20,
   "id": "5e091f9e-c744-4ad4-9539-ce60e0d29cc1",
   "metadata": {},
   "outputs": [
    {
     "name": "stdin",
     "output_type": "stream",
     "text": [
      "Give me a number!\n",
      " 100\n"
     ]
    }
   ],
   "source": [
    "a_big_number = 100\n",
    "\n",
    "x = input(\"Give me a number!\\n\")\n",
    "x = int(x)\n",
    "\n",
    "if x > a_big_number :\n",
    "    print('Yes, it is a big number!')"
   ]
  },
  {
   "cell_type": "markdown",
   "id": "60a20ab1-9f5d-4432-bf04-10a4bab9a118",
   "metadata": {},
   "source": [
    "That's great for a \"big\" number, but not so satisfying for a \"small\" number, huh? Let's rectify this by adding an `else`:"
   ]
  },
  {
   "cell_type": "code",
   "execution_count": 21,
   "id": "766b0b79",
   "metadata": {},
   "outputs": [
    {
     "name": "stdin",
     "output_type": "stream",
     "text": [
      "Give me a number!\n",
      " 67\n"
     ]
    },
    {
     "name": "stdout",
     "output_type": "stream",
     "text": [
      "Nope, small!\n"
     ]
    }
   ],
   "source": [
    "a_big_number = 100\n",
    "\n",
    "x = input(\"Give me a number!\\n\")\n",
    "x = int(x)\n",
    "\n",
    "if x > a_big_number :\n",
    "    print('Yes, it is a big number!')\n",
    "else :\n",
    "    print('Nope, small!')"
   ]
  },
  {
   "cell_type": "markdown",
   "id": "9194602b-71e0-47d7-afc3-96a6c745adff",
   "metadata": {},
   "source": [
    "Let's make sure we understand what's going on here. The first thing that happens when the `if` line is reached is\n",
    "```\n",
    "x > a_big_number\n",
    "```\n",
    "is evaluated. It can only evaluate to `True` or `False` (1 or 0); those are the only alternatives. If it evaluates to `True`, then whatever is (indented!) in the `if` block is evaluated. Otherwise, code execution falls to the the `else`, and whatever is in that block (indented!) gets evaluated instead."
   ]
  },
  {
   "cell_type": "markdown",
   "id": "133dea2b",
   "metadata": {},
   "source": [
    "We can even add another test using the `elif` (\"else if\") statement. Here, we ask for a tempurature, and say what that tempurature is like in a normal place."
   ]
  },
  {
   "cell_type": "code",
   "execution_count": 22,
   "id": "0341c2e5",
   "metadata": {},
   "outputs": [
    {
     "name": "stdin",
     "output_type": "stream",
     "text": [
      "Give me a tempurature (in F)! 89\n"
     ]
    },
    {
     "name": "stdout",
     "output_type": "stream",
     "text": [
      "Just right!\n"
     ]
    }
   ],
   "source": [
    "test_temp = input(\"Give me a tempurature (in F)!\")\n",
    "test_temp = int(test_temp)\n",
    "\n",
    "if test_temp >= 90 :\n",
    "    print('Too hot!')\n",
    "elif test_temp <= 50 :\n",
    "    print('Too cold!')\n",
    "else :\n",
    "    print('Just right!')"
   ]
  },
  {
   "cell_type": "markdown",
   "id": "905d8af8-1ebd-40df-8bd5-85af6f392a7b",
   "metadata": {},
   "source": [
    "And we can modify that code to say what that tempurature is like in Austin, Texas."
   ]
  },
  {
   "cell_type": "code",
   "execution_count": null,
   "id": "45f57b6e-d3d4-49c0-a60c-69a33cecffd4",
   "metadata": {},
   "outputs": [],
   "source": [
    "test_temp = input(\"Give me a tempurature (in F)!\")\n",
    "test_temp = int(test_temp)\n",
    "\n",
    "if test_temp >= 110 :\n",
    "    print('Too hot!')\n",
    "elif test_temp <= 75 :\n",
    "    print('Too cold!')\n",
    "else :\n",
    "    print('Just right!')"
   ]
  },
  {
   "cell_type": "markdown",
   "id": "3d064e4c-2605-421a-9bdc-199edf214ebc",
   "metadata": {},
   "source": [
    "We can (and should) make the threshold \"high\" and \"low\" tempuratures variables, so we can change them easily:"
   ]
  },
  {
   "cell_type": "code",
   "execution_count": 28,
   "id": "b06dd350-f546-430c-9b43-ccd50f6bb1bc",
   "metadata": {},
   "outputs": [
    {
     "name": "stdin",
     "output_type": "stream",
     "text": [
      "Give me a tempurature (in F)! 34\n"
     ]
    },
    {
     "name": "stdout",
     "output_type": "stream",
     "text": [
      "Too cold!\n"
     ]
    }
   ],
   "source": [
    "too_hot, too_cold = 110, 75\n",
    "\n",
    "test_temp = input(\"Give me a tempurature (in F)!\")\n",
    "test_temp = int(test_temp)\n",
    "\n",
    "if test_temp >= too_hot :\n",
    "    print('Too hot!')\n",
    "elif test_temp <= too_cold :\n",
    "    print('Too cold!')\n",
    "else :\n",
    "    print('Just right!')"
   ]
  },
  {
   "cell_type": "markdown",
   "id": "ba8c4f05-a23f-4a35-a9cc-42b6e8ef9633",
   "metadata": {},
   "source": [
    "---"
   ]
  },
  {
   "cell_type": "markdown",
   "id": "69874195-6b6b-46e8-af98-e73ecc187272",
   "metadata": {},
   "source": [
    "In the cell below, write a little program that \n",
    "\n",
    "1. Asks the user what city they are in, and\n",
    "2. If it's \"Austin\", make the threshold temperatures relatively high, but if it's any other answer, make the threshold temperatues relatively low\n",
    "3. Asks the user for a tempurature\n",
    "4. Responds whether it's too hot, too cold, or all good."
   ]
  },
  {
   "cell_type": "code",
   "execution_count": null,
   "id": "cd956da6-3f6f-473c-b8d2-6b41a3c649f8",
   "metadata": {},
   "outputs": [],
   "source": []
  },
  {
   "cell_type": "markdown",
   "id": "8d59c3c0-455a-4114-b060-1cac5e93de21",
   "metadata": {},
   "source": [
    "---"
   ]
  },
  {
   "cell_type": "markdown",
   "id": "94c6a0ad",
   "metadata": {},
   "source": [
    "`If, then` statements can be combined with logical operators also and help manage complex decisions in a matter of a few lines:"
   ]
  },
  {
   "cell_type": "code",
   "execution_count": 32,
   "id": "3399b7bc-dd42-488b-9121-7727c005b4a4",
   "metadata": {},
   "outputs": [
    {
     "name": "stdin",
     "output_type": "stream",
     "text": [
      "What's the current tempurature? 98\n"
     ]
    },
    {
     "name": "stdout",
     "output_type": "stream",
     "text": [
      "Too cold! I will drive or take the bus.\n"
     ]
    }
   ],
   "source": [
    "current_temp = int(input(\"What's the current tempurature?\"))\n",
    "                   \n",
    "if not ((current_temp >= 90) or (current_temp <= 50)) : \n",
    "    print('I will ride my bike to school!')\n",
    "else :\n",
    "    print('Too cold! I will drive or take the bus.') "
   ]
  },
  {
   "cell_type": "markdown",
   "id": "2e399675-481e-46de-b8e1-1ef700aaec06",
   "metadata": {},
   "source": [
    "Here's an example where `not` is useful (you may have been wondering...). With the `not`, the `if` line reads \"If it's not too hot or too cold\". That's something you might say to a friend. But without the not, the spoken equivalent is a bit more awkward and forced. Code that is \"Pythonic\" is code that's natural to read!"
   ]
  },
  {
   "cell_type": "markdown",
   "id": "feba47f1",
   "metadata": {},
   "source": [
    "Again, all these operations are *built in* this means that we did not have to import any specific package. Python provides these basic operations as they are the bread and butter of most users, or better said, of most programmers, like you."
   ]
  },
  {
   "cell_type": "markdown",
   "id": "3e6453f8",
   "metadata": {},
   "source": [
    "---"
   ]
  },
  {
   "cell_type": "markdown",
   "id": "f82c4f24-0a37-4fa5-894b-c31dc4e0d451",
   "metadata": {},
   "source": [
    "### Control flow: 'while' loops"
   ]
  },
  {
   "cell_type": "markdown",
   "id": "c874ab6b-38ef-4e00-a13d-df7df5f0ff1f",
   "metadata": {},
   "source": [
    "In the last tutorial, we talked about `for` loops. A `for` loop is excellent if we know exactly how many times we need to iterate (go through the loop).\n",
    "\n",
    "Sometimes, though we do not know the exact number of items we are iterating over, or alternatively, we want to iterate until a certain condition is met (for instead of iterating until the end of a list of numbers we want to iterate while a number is less than another).\n",
    "\n",
    "In cases when the end condition for a loop can't be easily established before entering the loop, the `while` loop is used."
   ]
  },
  {
   "cell_type": "markdown",
   "id": "17fc6f85-b9fb-453a-a413-8423cd3fc3fa",
   "metadata": {},
   "source": [
    "Let's write a little guessing game:"
   ]
  },
  {
   "cell_type": "code",
   "execution_count": 35,
   "id": "7a084dec-57f1-4f93-8c72-eeb5f23f98ea",
   "metadata": {},
   "outputs": [
    {
     "name": "stdin",
     "output_type": "stream",
     "text": [
      "Guess a number between 40 and 45!\n",
      " 34\n"
     ]
    },
    {
     "name": "stdout",
     "output_type": "stream",
     "text": [
      "Sorry, try again!\n",
      "\n"
     ]
    },
    {
     "name": "stdin",
     "output_type": "stream",
     "text": [
      "Guess a number between 40 and 45!\n",
      " 42\n"
     ]
    },
    {
     "name": "stdout",
     "output_type": "stream",
     "text": [
      "That's the answer!\n"
     ]
    }
   ],
   "source": [
    "ans = 42\n",
    "guess = int(input(\"Guess a number between 40 and 45!\\n\"))\n",
    "\n",
    "while guess != ans :\n",
    "    print(\"Sorry, try again!\\n\")\n",
    "    guess = int(input(\"Guess a number between 40 and 45!\\n\"))\n",
    "\n",
    "print(\"That's the answer!\")"
   ]
  },
  {
   "cell_type": "markdown",
   "id": "9c32ea6f-b21b-4c32-a90a-4ed8d3b9b610",
   "metadata": {},
   "source": [
    "Here, we don't know how long to loop, *because we don't know how many guesses it will take to get the answer right*. So we need to end our looping – our iterations – after some *criterion* is met."
   ]
  },
  {
   "cell_type": "markdown",
   "id": "10b94c80-9584-46df-8b05-97cfc6e12066",
   "metadata": {},
   "source": [
    "Not that the syntax of the `while` loop is similar to that of the `for` loop, except that `while` *tests a logical condition* to decide whether to keep running or not. If the condition is `True`, we loop again, but the first time it evaluates to `False`, we break out of the loop and fall down to the next code below the loop."
   ]
  },
  {
   "cell_type": "markdown",
   "id": "a334956a-26c4-4862-acf4-1bada3690a69",
   "metadata": {},
   "source": [
    "---"
   ]
  },
  {
   "cell_type": "markdown",
   "id": "7e88262f-7898-491c-a86d-f948afeaf928",
   "metadata": {},
   "source": []
  },
  {
   "cell_type": "code",
   "execution_count": null,
   "id": "2e48b855-1e08-49c5-993c-8714a3e85da5",
   "metadata": {},
   "outputs": [],
   "source": []
  },
  {
   "cell_type": "markdown",
   "id": "475dcbf7-3567-4fd7-9765-6495f0daedb0",
   "metadata": {},
   "source": [
    "---"
   ]
  },
  {
   "cell_type": "markdown",
   "id": "c02c0ee2-dd38-4bc9-b375-dbb7720ec6ff",
   "metadata": {},
   "source": [
    "`while` loops also provide a convenient way to specify conditions explicitly. For example, we can use the word `break` to literally break out of a `while` loop, if a condition is met. For example, we can exit (or `break` out of) a `while` loop if a value reaches a certain threshold:"
   ]
  },
  {
   "cell_type": "code",
   "execution_count": null,
   "id": "d5fee577-8a5e-4239-8a4d-ae0b871e548c",
   "metadata": {},
   "outputs": [],
   "source": [
    "# here we break the loop (using the break command) \n",
    "# if the counter is equal to a certain exit value\n",
    "counter = 1\n",
    "exit_val = 6\n",
    "while counter < 1000:\n",
    "  print('The counter is',counter,'The exit value is', exit_val)\n",
    "  if counter == exit_val :\n",
    "    print('The condition was met',counter,'==', exit_val, ', we exit the loop...')\n",
    "    break\n",
    "  counter += 1"
   ]
  },
  {
   "cell_type": "markdown",
   "id": "06486f57-c8f2-47a5-9706-b3bbf82e4e62",
   "metadata": {},
   "source": [
    "The code above, is similar to the one previously used one, yet, the `while` loop is terminated when a condition is met. \n",
    "\n",
    "The condition is that the counter becomes less than an `exit_val` variable (`6`). the condition is tested using the `if` syntax (`if` is an important word in python for flow control that we will explore more later).\n"
   ]
  },
  {
   "cell_type": "markdown",
   "id": "6031ff2b-ac54-4212-98ff-919ed97062a5",
   "metadata": {},
   "source": [
    "$\\color{blue}{\\text{Complete the following exercise.}}$\n",
    "\n",
    "  - Write a `while` loop to multiply the first 10 numbers starting at 0, but exit the look if the output of the multiplication is more than 50 . Print each value and a message when breaking out of the loop.\n",
    "  \n",
    "  [Use the cell below to show your code]\n"
   ]
  },
  {
   "cell_type": "code",
   "execution_count": null,
   "id": "c35c0176-cd0c-4f56-ae7e-8667731a404b",
   "metadata": {},
   "outputs": [],
   "source": []
  },
  {
   "cell_type": "markdown",
   "id": "7d4f8e2d-36eb-4f7f-8ed5-dc11387ffc9e",
   "metadata": {},
   "source": [
    "In some cases, we can set a condition to be met but instead of breaking out of the while loop we can decide to continue. For example, below we use the word `continue` instead of the word `break`, in this"
   ]
  },
  {
   "cell_type": "code",
   "execution_count": null,
   "id": "5bbb2764-f8de-40ea-a6b9-704ff3418404",
   "metadata": {},
   "outputs": [],
   "source": [
    "# here we continue the loop (using the continue command) \n",
    "# if the counter is equal to a certain value\n",
    "counter = 0\n",
    "val = 6\n",
    "while counter < 10 :\n",
    "   counter += 1\n",
    "   if counter == val :\n",
    "    print('The condition was met',counter,'==', val, ', but we continue...')\n",
    "    continue\n",
    "   print('The counter is',counter,'The value is', val)"
   ]
  },
  {
   "cell_type": "markdown",
   "id": "8c8af34d-ac6b-4ac5-a892-2e38ff262990",
   "metadata": {},
   "source": [
    "In reality, we could have used the `brake` command also in combination with a `for` loop. So, the situations where a while and for loop diverge are limited. Yet, one or the other are often times preferable, especially for clarity of programming style (e.g., your colleagues reading your code will be happier, if you write simple, easy to read code)."
   ]
  },
  {
   "cell_type": "markdown",
   "id": "be2ac9dc-9e43-4921-95f9-c716c09ee08e",
   "metadata": {},
   "source": [
    "Below one last example with the `while` loop. The loop offers the ability to end with an `else` just like an `if` statement. "
   ]
  },
  {
   "cell_type": "code",
   "execution_count": null,
   "id": "ab4f7311-209e-4939-803e-d860b322a22c",
   "metadata": {},
   "outputs": [],
   "source": [
    "counter = 0\n",
    "while counter < 10 :\n",
    "    print(\"We write INSIDE becuase we are inside the while loop.\")\n",
    "    counter = counter + 1\n",
    "else :\n",
    "    print(\"We write END because we have exited the while loop and are inside the else statement\")"
   ]
  },
  {
   "cell_type": "markdown",
   "id": "d65e27c4-6ae8-4805-b93e-a10b724949cb",
   "metadata": {},
   "source": [
    "$\\color{blue}{\\text{Complete the following exercise.}}$\n",
    "\n",
    "  - Write the same code twice and compare the complexity of the code\n",
    "\n",
    "    ```\n",
    "    LIST = [101, 102, 103, 104, 105, 106, 107, 108, 109, 110]\n",
    "    A = 0\n",
    "    for B in LIST :    \n",
    "        OUT = B + LIST[A] \n",
    "        print('The current sum at element ', B, ' is ', OUT, '(A is',A,')')\n",
    "        A = A+1\n",
    "    ```\n",
    "\n",
    "   Complete the code above and rewrite it as a `while` loop.\n",
    "  \n",
    "  [Use the cell below to show your code.]\n"
   ]
  },
  {
   "cell_type": "code",
   "execution_count": null,
   "id": "2ad78a25-3ff8-4b20-b418-330527743649",
   "metadata": {},
   "outputs": [],
   "source": []
  },
  {
   "cell_type": "markdown",
   "id": "3edb0f5e-13fe-48f3-8a8a-e2bf15536edb",
   "metadata": {},
   "source": [
    "[Use this cell to describe in your own words which code seems to be more complex and why]"
   ]
  },
  {
   "cell_type": "code",
   "execution_count": null,
   "id": "170b6c29-ccab-4d37-a5f0-467e8f58ffa1",
   "metadata": {},
   "outputs": [],
   "source": []
  }
 ],
 "metadata": {
  "kernelspec": {
   "display_name": "Python 3 (ipykernel)",
   "language": "python",
   "name": "python3"
  },
  "language_info": {
   "codemirror_mode": {
    "name": "ipython",
    "version": 3
   },
   "file_extension": ".py",
   "mimetype": "text/x-python",
   "name": "python",
   "nbconvert_exporter": "python",
   "pygments_lexer": "ipython3",
   "version": "3.8.17"
  }
 },
 "nbformat": 4,
 "nbformat_minor": 5
}
