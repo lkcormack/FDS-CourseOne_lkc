{
 "cells": [
  {
   "cell_type": "markdown",
   "id": "4ee24606",
   "metadata": {
    "editable": true,
    "slideshow": {
     "slide_type": ""
    },
    "tags": []
   },
   "source": [
    "# Basic control flow in Python II: Logic, `if`, and `while`"
   ]
  },
  {
   "cell_type": "markdown",
   "id": "9643a583",
   "metadata": {},
   "source": [
    "### Learning outcomes:\n",
    " - Learn more about  control flow in python\n",
    " - Comparisons and Logical operators\n",
    " - `if`, `else` statements\n",
    " - `while` loops"
   ]
  },
  {
   "cell_type": "markdown",
   "id": "2918365b",
   "metadata": {},
   "source": [
    "Last time, we covered `for` loops, which allow us to repeat an action a fixed number of times. This time, we'll cover some other aspects of control flow that allow computer programs to be more flexible and therefore more powerful."
   ]
  },
  {
   "cell_type": "markdown",
   "id": "17249da9",
   "metadata": {},
   "source": [
    "Recall our little scenario from the last tutorial:\n",
    "\n",
    "  - Walk to the door\n",
    "  - ***If*** the door ***is*** closed, open the door\n",
    "  - Walk through the door\n",
    "  - Continue walking ***for*** 10 more steps to the elevator\n",
    "  - ***If*** the elevator door ***is not*** open, press the button\n",
    "  - ***While*** the door is not open, wait\n",
    "  - Enter the elevator\n",
    "  - ***If*** the button for your floor *is not* lit, press the button"
   ]
  },
  {
   "cell_type": "markdown",
   "id": "c816084e",
   "metadata": {},
   "source": [
    "Notice we had a `for` in there, but we had some other stuff too, like `while` and `if` and logical tests like (effictively) `door != open` and `door == closed`. It's these things we wil cover today and, when we're finished, we will have a fairly complete \"control flow toolbox\" at our disposal."
   ]
  },
  {
   "cell_type": "markdown",
   "id": "a38d572b",
   "metadata": {},
   "source": [
    "### Control flow: Logical Tests and Boolean Operators"
   ]
  },
  {
   "cell_type": "markdown",
   "id": "d62720d2",
   "metadata": {},
   "source": [
    "Believe it or not, everything that happens on your phone or computer comes down to lots – **LOTS** – of little decisions based on one or two inputs that can be either \"True\" or \"False\", and an output that can also be \"True\" or \"False\". \n",
    "\n",
    "Seriously, everything on any digitial device – from Tik Tok videos to your Python code – comes down to a whole bunch of truths and falsehoods (ones and zeros) that are themselves the result of decisions based on other truths and falsehoods. The \"decision makers\" are actual physical (but teeny teeny tiny) devices that are combinations of things called [*transistors*](https://en.wikipedia.org/wiki/Transistor). The transistor is important that the 3 folks that built the first working one were awarded the Nobel Prize in Physics. \n",
    "\n",
    "Two are the primary operations performed by transistors:\n",
    "\n",
    "* ***Comparison*** operations like `==` (equals) and `>` (greater than) that yield `True` or `False`\n",
    "* ***Logical*** operations that use ***Boolean logic***, which compares two logical inputs and returns `True` or `False` like  `A and B` (`True` only if both A and B are `True`) and `A or B` (`True` if either A or B – or both – are `True`).\n",
    "\n",
    "Let's play with this. It might seem a bit silly and obvious now, but the power of logical tests will reveal itself soon."
   ]
  },
  {
   "cell_type": "markdown",
   "id": "97244a25",
   "metadata": {},
   "source": [
    "### Comparison operators\n",
    "\n",
    "These are operators that test a single value. Imagine wanting to ask, whether the number of lives a cat has ([which is 9 in the U.S., but only 7 in Italy and 6 according to Arabic tradition](https://en.wikipedia.org/wiki/Cat#Superstitions_and_rituals)) is different than the number of lives of [Schrödinger's cat](https://en.wikipedia.org/wiki/Schr%C3%B6dinger%27s_cat) has. This would involve testing 2 numbers for perhaps:\n",
    "\n",
    "* equality `==`\n",
    "* inequality `!=`\n",
    "* greater than `>`\n",
    "* less than `<`\n",
    "* greater than or equal to `>=`\n",
    "* less than or equal to `<=`"
   ]
  },
  {
   "cell_type": "markdown",
   "id": "40148ae3",
   "metadata": {},
   "source": [
    "Let's set a variable `x` to 11. (Most amps only go up to 10, but our amp, `x`, goes up to 11!)"
   ]
  },
  {
   "cell_type": "code",
   "execution_count": 1,
   "id": "6d8b3d4f",
   "metadata": {},
   "outputs": [
    {
     "data": {
      "text/plain": [
       "11"
      ]
     },
     "execution_count": 1,
     "metadata": {},
     "output_type": "execute_result"
    }
   ],
   "source": [
    "x = 11\n",
    "x"
   ]
  },
  {
   "cell_type": "markdown",
   "id": "5378f9ef",
   "metadata": {},
   "source": [
    "Now let's do some logical tests on our variable `x`. Let's see if `x` is less than `42`."
   ]
  },
  {
   "cell_type": "code",
   "execution_count": 2,
   "id": "c8841a2d",
   "metadata": {},
   "outputs": [
    {
     "data": {
      "text/plain": [
       "True"
      ]
     },
     "execution_count": 2,
     "metadata": {},
     "output_type": "execute_result"
    }
   ],
   "source": [
    "x < 42"
   ]
  },
  {
   "cell_type": "markdown",
   "id": "6f72847c",
   "metadata": {},
   "source": [
    "---"
   ]
  },
  {
   "cell_type": "markdown",
   "id": "70f3a756",
   "metadata": {},
   "source": [
    "Use the code cell below to test if `x` is greater than `42`."
   ]
  },
  {
   "cell_type": "code",
   "execution_count": null,
   "id": "391f5de7",
   "metadata": {},
   "outputs": [],
   "source": []
  },
  {
   "cell_type": "markdown",
   "id": "aa68f2fc",
   "metadata": {},
   "source": [
    "---"
   ]
  },
  {
   "cell_type": "markdown",
   "id": "61ba2cac",
   "metadata": {},
   "source": [
    "We can also test for equality. Is `x` equal to `42`?"
   ]
  },
  {
   "cell_type": "code",
   "execution_count": null,
   "id": "788198b2",
   "metadata": {},
   "outputs": [],
   "source": [
    "x == 42"
   ]
  },
  {
   "cell_type": "markdown",
   "id": "85c23215",
   "metadata": {},
   "source": [
    "Finally, we can test for *inequality*. (We test whether it is true that x is *not* equal to a specific number). "
   ]
  },
  {
   "cell_type": "code",
   "execution_count": null,
   "id": "c6149376",
   "metadata": {},
   "outputs": [],
   "source": [
    "x != 42"
   ]
  },
  {
   "cell_type": "markdown",
   "id": "8e839816",
   "metadata": {},
   "source": [
    "The exclamation point here means \"not\", so the experession `x != 42` can be read as \"is x not equal to 42?\"\n",
    "\n",
    "And the answer is \"That's `True`! The variable `x` is not equal to 42!\""
   ]
  },
  {
   "cell_type": "markdown",
   "id": "b3659874",
   "metadata": {},
   "source": [
    "---"
   ]
  },
  {
   "cell_type": "markdown",
   "id": "6f2ac065",
   "metadata": {},
   "source": [
    "In the code cell below, test to see if `x` is 11."
   ]
  },
  {
   "cell_type": "code",
   "execution_count": null,
   "id": "de832c9a",
   "metadata": {},
   "outputs": [],
   "source": []
  },
  {
   "cell_type": "markdown",
   "id": "fb5f5999-af4a-4644-8915-9874aeef620c",
   "metadata": {},
   "source": [
    "Now test `x` to see if it's not 11."
   ]
  },
  {
   "cell_type": "code",
   "execution_count": null,
   "id": "3fe4402d-e905-4c64-a76e-fb8b762feb00",
   "metadata": {},
   "outputs": [],
   "source": []
  },
  {
   "cell_type": "markdown",
   "id": "93d10eb2",
   "metadata": {},
   "source": [
    "---"
   ]
  },
  {
   "cell_type": "markdown",
   "id": "ce9b435d",
   "metadata": {},
   "source": [
    "As you might have noticed, all these operations are *built in.* This means that we did not have to import any specific package to access the operations. Python provides these operations as they are core functionality, the bread and butter of most users, or better said, of most programmers. Like you!"
   ]
  },
  {
   "cell_type": "markdown",
   "id": "a40d4dd6-fb9c-498a-ae65-d11e337075e9",
   "metadata": {},
   "source": [
    "### Combining comparison operators"
   ]
  },
  {
   "cell_type": "markdown",
   "id": "25ed8782-1404-4182-bc2c-97a0ea990ed3",
   "metadata": {},
   "source": [
    "You can make tests arbitratily complex by combining logical tests. For example, let's make 4 variables:"
   ]
  },
  {
   "cell_type": "code",
   "execution_count": 4,
   "id": "e3d3b155-95da-4c8d-a2d2-03c78ad98a56",
   "metadata": {},
   "outputs": [],
   "source": [
    "a, b, c, d = 1, 2, 3, 4"
   ]
  },
  {
   "cell_type": "markdown",
   "id": "5172d29f-63cf-4982-9b84-04c8d2c3b38d",
   "metadata": {},
   "source": [
    "Now we can test if **two** conditions are **both** `True`:"
   ]
  },
  {
   "cell_type": "code",
   "execution_count": 5,
   "id": "167da86b-9867-470f-b65c-794e239fe916",
   "metadata": {},
   "outputs": [
    {
     "data": {
      "text/plain": [
       "True"
      ]
     },
     "execution_count": 5,
     "metadata": {},
     "output_type": "execute_result"
    }
   ],
   "source": [
    "a < b and b < c"
   ]
  },
  {
   "cell_type": "code",
   "execution_count": 7,
   "id": "958f41bb-dd69-45d6-865e-9a952c96f495",
   "metadata": {},
   "outputs": [
    {
     "data": {
      "text/plain": [
       "False"
      ]
     },
     "execution_count": 7,
     "metadata": {},
     "output_type": "execute_result"
    }
   ],
   "source": [
    "a < b and b < a"
   ]
  },
  {
   "cell_type": "markdown",
   "id": "aacb530a-8278-44b1-a3e3-769490102ced",
   "metadata": {},
   "source": [
    "Or we can see if **either** are `True`:"
   ]
  },
  {
   "cell_type": "code",
   "execution_count": 10,
   "id": "d26e92c7-4b51-47e1-b75a-d88cde121bac",
   "metadata": {},
   "outputs": [
    {
     "data": {
      "text/plain": [
       "True"
      ]
     },
     "execution_count": 10,
     "metadata": {},
     "output_type": "execute_result"
    }
   ],
   "source": [
    "a < b or b < c"
   ]
  },
  {
   "cell_type": "code",
   "execution_count": 11,
   "id": "230c0b87-18cf-4e35-9eaa-ac585276dcaa",
   "metadata": {},
   "outputs": [
    {
     "data": {
      "text/plain": [
       "True"
      ]
     },
     "execution_count": 11,
     "metadata": {},
     "output_type": "execute_result"
    }
   ],
   "source": [
    "a < b or b < a"
   ]
  },
  {
   "cell_type": "markdown",
   "id": "0416d346-065f-4a0a-85aa-2291154e57e6",
   "metadata": {},
   "source": [
    "(Make sure and compare the last two code cells and their outputs with the two before them."
   ]
  },
  {
   "cell_type": "markdown",
   "id": "d39decad-4c45-4c7a-a937-d003b3547231",
   "metadata": {},
   "source": [
    "Believe it or not, we just did the first steps of building your smartphone! Or your laptop! One transitor did the left test, another did the right test, and a third transistor did the middle one (`and` or `or`). Everything your phone or computer does is just a vast, vast combination of operations like these."
   ]
  },
  {
   "cell_type": "markdown",
   "id": "aabc4068-378a-4bd4-aae5-3a4d1f1e2978",
   "metadata": {},
   "source": [
    "To make thing really interesting, we can toggle `False` and `True` values with `not`:"
   ]
  },
  {
   "cell_type": "code",
   "execution_count": 13,
   "id": "f2e00e3f-4260-4ddc-b6a2-b63efc21e5dc",
   "metadata": {},
   "outputs": [
    {
     "data": {
      "text/plain": [
       "True"
      ]
     },
     "execution_count": 13,
     "metadata": {},
     "output_type": "execute_result"
    }
   ],
   "source": [
    "a < b"
   ]
  },
  {
   "cell_type": "code",
   "execution_count": 15,
   "id": "079ea565-3e63-42e9-a0d0-80bec68af5af",
   "metadata": {},
   "outputs": [
    {
     "data": {
      "text/plain": [
       "False"
      ]
     },
     "execution_count": 15,
     "metadata": {},
     "output_type": "execute_result"
    }
   ],
   "source": [
    "not a < b"
   ]
  },
  {
   "cell_type": "code",
   "execution_count": 17,
   "id": "029e99a6-74ac-4829-bcdc-c0f1372c7c2e",
   "metadata": {},
   "outputs": [
    {
     "data": {
      "text/plain": [
       "True"
      ]
     },
     "execution_count": 17,
     "metadata": {},
     "output_type": "execute_result"
    }
   ],
   "source": [
    "not not a < b  # don't do this in real code!"
   ]
  },
  {
   "cell_type": "markdown",
   "id": "fdb1ea31-8cc9-4891-8366-b9ce40e7dfb6",
   "metadata": {},
   "source": [
    "Okay, so logical tests are fundemental blah.. blah... but how do we really use them in code? One **huge** use of logical tests is to *branch* code execution using the `if`."
   ]
  },
  {
   "cell_type": "markdown",
   "id": "7019bb28",
   "metadata": {},
   "source": [
    "### Control flow: `if`, (`elif`), (`else`) statements"
   ]
  },
  {
   "cell_type": "markdown",
   "id": "ded2ac3c",
   "metadata": {},
   "source": [
    "Fundamental to any programming language is the ability to express conditional statements such as `if` something is `True`, then do this. Or, `if` something is `True`, then do this, `else` do that. These are basic building blocks of coding, as they allow controlling the flow of the the program, making branch to different code depending on the conditions met.  In life, you might say \"I can eat my cake only if I went out for a run today. In code, you might want to say \"`if` an input is not zero, divide it into some other number, `else` `print(\"You can't divide by zero, silly!`)."
   ]
  },
  {
   "cell_type": "markdown",
   "id": "2148c428",
   "metadata": {},
   "source": [
    "Here are some simple examples. First, we'll test whether a number you input is \"big\":"
   ]
  },
  {
   "cell_type": "code",
   "execution_count": 19,
   "id": "5e091f9e-c744-4ad4-9539-ce60e0d29cc1",
   "metadata": {},
   "outputs": [
    {
     "name": "stdin",
     "output_type": "stream",
     "text": [
      "Give me a number!\n",
      " 99\n"
     ]
    }
   ],
   "source": [
    "a_big_number = 100\n",
    "\n",
    "x = input(\"Give me a number!\\n\")\n",
    "x = int(x)\n",
    "\n",
    "if x > a_big_number :\n",
    "    print('Yes, it is a big number!')"
   ]
  },
  {
   "cell_type": "markdown",
   "id": "b07fd803-fe44-493b-beab-1e4f3a15f84e",
   "metadata": {},
   "source": [
    "Next, we'll test whether a number you input is \"big\" or not:"
   ]
  },
  {
   "cell_type": "code",
   "execution_count": 2,
   "id": "766b0b79",
   "metadata": {},
   "outputs": [
    {
     "name": "stdin",
     "output_type": "stream",
     "text": [
      "Give me a number!\n",
      " 101\n"
     ]
    },
    {
     "name": "stdout",
     "output_type": "stream",
     "text": [
      "Yes, it is a big number!\n"
     ]
    }
   ],
   "source": [
    "a_big_number = 100\n",
    "\n",
    "x = input(\"Give me a number!\\n\")\n",
    "x = int(x)\n",
    "\n",
    "if x > a_big_number :\n",
    "    print('Yes, it is a big number!')\n",
    "else :\n",
    "    print('Nope, small!')"
   ]
  },
  {
   "cell_type": "markdown",
   "id": "133dea2b",
   "metadata": {},
   "source": [
    "We can even add another test using the elif (\"else if\") statement. Here, we ask for a tempurature, and say what that tempurature is like in a normal place."
   ]
  },
  {
   "cell_type": "code",
   "execution_count": null,
   "id": "0341c2e5",
   "metadata": {},
   "outputs": [],
   "source": [
    "test_temp = input(\"Give me a tempurature (in F)!\")\n",
    "test_temp = int(test_temp)\n",
    "\n",
    "if test_temp >= 90 :\n",
    "    print('Too hot!')\n",
    "elif test_temp <= 50 :\n",
    "    print('Too cold!')\n",
    "else :\n",
    "    print('Just right!')"
   ]
  },
  {
   "cell_type": "markdown",
   "id": "905d8af8-1ebd-40df-8bd5-85af6f392a7b",
   "metadata": {},
   "source": [
    "And we can modify that code to say what that tempurature is like in Austin, Texas."
   ]
  },
  {
   "cell_type": "code",
   "execution_count": null,
   "id": "45f57b6e-d3d4-49c0-a60c-69a33cecffd4",
   "metadata": {},
   "outputs": [],
   "source": [
    "test_temp = input(\"Give me a tempurature (in F)!\")\n",
    "test_temp = int(test_temp)\n",
    "\n",
    "if test_temp >= 110 :\n",
    "    print('Too hot!')\n",
    "elif test_temp <= 75 :\n",
    "    print('Too cold!')\n",
    "else :\n",
    "    print('Just right!')"
   ]
  },
  {
   "cell_type": "markdown",
   "id": "94c6a0ad",
   "metadata": {},
   "source": [
    "`If, then` statements can be combined with logical operators also and help manage complex decisions in a matter of a few lines:"
   ]
  },
  {
   "cell_type": "code",
   "execution_count": null,
   "id": "3399b7bc-dd42-488b-9121-7727c005b4a4",
   "metadata": {},
   "outputs": [],
   "source": [
    "current_temp = 45\n",
    "if not( (current_temp >= 90) or (current_temp <= 50) ) : \n",
    "    print('I will ride my bicycle to school!')\n",
    "else :\n",
    "    print('Too cold! I will take the car or walk.') "
   ]
  },
  {
   "cell_type": "markdown",
   "id": "7c77ffa8",
   "metadata": {},
   "source": [
    "$\\color{blue}{\\text{Complete the following exercise.}}$\n",
    "\n",
    "  - To practice with `if`, `then` statements, write code that when asked if we should eat cake returns `True` only if we have eaten less then 2 slices of cake today and no cake yesterday and the day before yesterday. The code should otherwise tell us to eat soup.\n",
    "  \n",
    "  [Use the cell below to show your code]\n"
   ]
  },
  {
   "cell_type": "code",
   "execution_count": null,
   "id": "af350e32",
   "metadata": {},
   "outputs": [],
   "source": []
  },
  {
   "cell_type": "markdown",
   "id": "feba47f1",
   "metadata": {},
   "source": [
    "Again, all these operations are *built in* this means that we did not have to import any specific package. Python provides these basic operations as they are the bread and butter of most users, or better said, of most programmers, like you."
   ]
  },
  {
   "cell_type": "markdown",
   "id": "836629ad",
   "metadata": {},
   "source": [
    "### Control flow: Logical operators\n",
    "\n",
    "So far we have been dealing with testing operations on single numbers. Often times it is important to be able to test multiple operations and compare them, say if `a > 0` **`and`** `b < 0`.  Operations that compare or combine two statements are called **logical**. Logical operations such as `and` and `or` are extremely important and widely used in computer programming, mathematics, neuroscience and in real life.\n",
    "\n",
    "Python provides binary operations `built in`, so there is not requirement to import a specific library."
   ]
  },
  {
   "cell_type": "markdown",
   "id": "ab93176e",
   "metadata": {},
   "source": [
    "Imagine wanting to compare the number of cake slices eaten per day by the average individual in three different countries."
   ]
  },
  {
   "cell_type": "code",
   "execution_count": null,
   "id": "2e7971d8",
   "metadata": {},
   "outputs": [],
   "source": [
    "# average number of cake slices eaten in \n",
    "USA = 3  # the United States of America\n",
    "IT = 2   # Italy\n",
    "CA = 4   # Canada "
   ]
  },
  {
   "cell_type": "markdown",
   "id": "e686c752",
   "metadata": {},
   "source": [
    "Imagine wanting to know if BOTH the USA AND Canada eat more cake than Italy. We can first compare if the average citizen eats more cake in Italy or the USA:"
   ]
  },
  {
   "cell_type": "code",
   "execution_count": null,
   "id": "ac5b3a01",
   "metadata": {},
   "outputs": [],
   "source": [
    "(USA > IT) "
   ]
  },
  {
   "cell_type": "markdown",
   "id": "d03de9c5",
   "metadata": {},
   "source": [
    "Alright, it looks like more cake is eaten in the USA. What about Canada?"
   ]
  },
  {
   "cell_type": "code",
   "execution_count": null,
   "id": "3e356893",
   "metadata": {},
   "outputs": [],
   "source": [
    "(CA > IT)"
   ]
  },
  {
   "cell_type": "markdown",
   "id": "3ae2d010",
   "metadata": {},
   "source": [
    "If we wanted to compare both the USA and Canada at the same time, in python we could conveniently write the operation as follows: "
   ]
  },
  {
   "cell_type": "code",
   "execution_count": null,
   "id": "60f940f3",
   "metadata": {},
   "outputs": [],
   "source": [
    "(USA > IT) and (CA > IT)"
   ]
  },
  {
   "cell_type": "markdown",
   "id": "7e598abb",
   "metadata": {},
   "source": [
    "The statment about is *only* true if *both* statements are true. Let's test it."
   ]
  },
  {
   "cell_type": "code",
   "execution_count": null,
   "id": "9aea94b6",
   "metadata": {},
   "outputs": [],
   "source": [
    "# We will use a temporary value for canada and \n",
    "# then repeat the logical operation with the new value\n",
    "CA_temp = 1\n",
    "(USA > IT) and (CA_temp > IT)"
   ]
  },
  {
   "cell_type": "markdown",
   "id": "f22c99bc",
   "metadata": {},
   "source": [
    "OK what happened there is that whereas the first statement was true (3 > 2 slices of cake) the second was not true (1 is not more then 2 slices of cake) and the whole statement returned `False`. The `and` operator returns `True` only if all composing statements return `True`."
   ]
  },
  {
   "cell_type": "markdown",
   "id": "2b0620ae",
   "metadata": {},
   "source": [
    "Another logical operation of Key value `OR`. `OR` returns `True` if only one of the two statements is`True`, even if the other is `False`. We can try it: "
   ]
  },
  {
   "cell_type": "code",
   "execution_count": null,
   "id": "d396d15b",
   "metadata": {},
   "outputs": [],
   "source": [
    "CA_temp = 1\n",
    "(USA > IT) or (CA_temp > IT)"
   ]
  },
  {
   "cell_type": "markdown",
   "id": "0aed2e7f",
   "metadata": {},
   "source": [
    "$\\color{blue}{\\text{Complete the following exercise.}}$\n",
    "\n",
    "  - What do you expect would be the result if you were to run `or` between the original statements:\n",
    "     - `(USA > IT)`\n",
    "     - `(CA > IT)` \n",
    " \n",
    "  [Use the cell below to show your code]\n",
    "  \n",
    "  - What is `CA_temp`?\n",
    "  \n",
    "  [Answer here]  \n"
   ]
  },
  {
   "cell_type": "code",
   "execution_count": null,
   "id": "d0f2bd04",
   "metadata": {},
   "outputs": [],
   "source": []
  },
  {
   "cell_type": "markdown",
   "id": "5d3e2a1b",
   "metadata": {},
   "source": [
    "Another helpful operator, often used in similar questions is `not`. The `not` operator is a modifier that changes the value of the output of other operators suchas `>`, `=`, `and`, etc. \n",
    "\n",
    "For example, if `not` is used, the number of slices of cake eaten by the average citizen in Canada is **not** more than those eaten in the USA:"
   ]
  },
  {
   "cell_type": "code",
   "execution_count": null,
   "id": "2e442d2d",
   "metadata": {},
   "outputs": [],
   "source": [
    "not(CA > USA)"
   ]
  },
  {
   "cell_type": "markdown",
   "id": "d4ce058b",
   "metadata": {},
   "source": [
    "Whereas this is is obeviously `True`"
   ]
  },
  {
   "cell_type": "code",
   "execution_count": null,
   "id": "8ca7b2b6",
   "metadata": {},
   "outputs": [],
   "source": [
    "(CA > USA)"
   ]
  },
  {
   "cell_type": "markdown",
   "id": "0947b390",
   "metadata": {},
   "source": [
    "So, I like to think about `not` as a modifier. It can become useful in many cases, especially when the output of two or more statments needs to be modified (flipped) for the code to advance. For example, the following code shows how three boolean statements (all set to `True`) can be modified but a boolean `not` to save my health."
   ]
  },
  {
   "cell_type": "code",
   "execution_count": null,
   "id": "6fcc8c83",
   "metadata": {},
   "outputs": [],
   "source": [
    "# Save my belly\n",
    "ihaveeatencake = True\n",
    "itislatenight = True\n",
    "ididnotexercisetoday = True\n",
    "\n",
    "INeedToEatCake = not(ihaveeatencake and itislatenight and ididnotexercisetoday)\n",
    "INeedToEatCake"
   ]
  },
  {
   "cell_type": "markdown",
   "id": "3bd406b4",
   "metadata": {},
   "source": [
    "$\\color{blue}{\\text{Complete the following exercises.}}$\n",
    "\n",
    "  - Write code containing a `for` look that tests the following operations:\n",
    "     - 2 is bigger than 3\n",
    "     - The square of 2 is smaller than the square of 1\n",
    "     - 4 times 5 is not equal to 20 \n",
    " \n",
    " Return all the results during the for loop using `print()`\n",
    " \n",
    " *Hint: Remember how to measure the length of a list (`len()`). Also remmeber that `range()` is handy to provide lists of numbers to a `for` loop. So if you had two lists of the same length and wanted to compare pairs of values where one value is in the first list and the other value in the second list, you could use something like `range(0, len(list_one))` to create the `i` index in the `for` loop.*\n",
    " \n",
    "  [Use the cell below to show your code]\n"
   ]
  },
  {
   "cell_type": "code",
   "execution_count": null,
   "id": "6d22b002",
   "metadata": {},
   "outputs": [],
   "source": []
  },
  {
   "cell_type": "markdown",
   "id": "2999724c",
   "metadata": {},
   "source": [
    " - Make a new Python list. You can put whatever you want in it. Make it at least 5 items long."
   ]
  },
  {
   "cell_type": "code",
   "execution_count": null,
   "id": "545dbce7",
   "metadata": {},
   "outputs": [],
   "source": []
  },
  {
   "cell_type": "markdown",
   "id": "77d52207",
   "metadata": {},
   "source": [
    " - Get the first element of your new list."
   ]
  },
  {
   "cell_type": "code",
   "execution_count": null,
   "id": "cae6c77e",
   "metadata": {},
   "outputs": [],
   "source": []
  },
  {
   "cell_type": "markdown",
   "id": "cf476a55",
   "metadata": {},
   "source": [
    " - Get the last element of your new list in a way that wouldn't depend on list length."
   ]
  },
  {
   "cell_type": "code",
   "execution_count": null,
   "id": "8e8e9b83",
   "metadata": {},
   "outputs": [],
   "source": []
  },
  {
   "cell_type": "markdown",
   "id": "48189737",
   "metadata": {},
   "source": [
    " - Get all but the last two elements in a way that wouldn't depend on list length."
   ]
  },
  {
   "cell_type": "code",
   "execution_count": null,
   "id": "1e2aeb00",
   "metadata": {},
   "outputs": [],
   "source": []
  },
  {
   "cell_type": "markdown",
   "id": "c2a25a90",
   "metadata": {},
   "source": [
    " - Get every other element of your list."
   ]
  },
  {
   "cell_type": "code",
   "execution_count": null,
   "id": "d9aef5aa",
   "metadata": {},
   "outputs": [],
   "source": []
  },
  {
   "cell_type": "markdown",
   "id": "50607ad2",
   "metadata": {},
   "source": [
    "$\\color{blue}{\\text{Complete the following exercises.}}$\n",
    "\n",
    " - Use Markdown to make a table and list all the steps necessary to get the new tutorial every class from github, work on it during class and submit the answers to the exercises in the tutorials. Each rown of the table should have a new step. In the first column the table should list the name of the operation, in the second the command used (the full command-line operation executed), in the third where the work is being done (on the cloud, locally on your computer, in a terminal, etc), in the last column there should be a verbal description of what the operation does. "
   ]
  },
  {
   "cell_type": "markdown",
   "id": "3e6453f8",
   "metadata": {},
   "source": []
  },
  {
   "cell_type": "markdown",
   "id": "f82c4f24-0a37-4fa5-894b-c31dc4e0d451",
   "metadata": {},
   "source": [
    "### Control flow: 'while' loops"
   ]
  },
  {
   "cell_type": "markdown",
   "id": "c874ab6b-38ef-4e00-a13d-df7df5f0ff1f",
   "metadata": {},
   "source": [
    "Above, we have talked about `for` loops. For loops are excellent if we have a good idea of when to stop.\n",
    "\n",
    "Sometimes, though we do not know the exact number of items we are iterating over, or alternatively, we want to iterate until a certain condition is met (for instead of iterating until the end of a list of numbers we want to iterate while a number is less than another).\n",
    "\n",
    "In cases when the end condition for a loop is cannto be easily established before entering the loop, the `while` loop is used."
   ]
  },
  {
   "cell_type": "markdown",
   "id": "45fe2f7c-7dc5-42ec-b53e-be81688c7dbf",
   "metadata": {},
   "source": [
    "If, for example, we are computing the cumulative sum of the numbers between 10 and 20, we can use a `for` loop:"
   ]
  },
  {
   "cell_type": "code",
   "execution_count": null,
   "id": "7dc7c51b-08e3-4680-8985-1b3ff230fa04",
   "metadata": {},
   "outputs": [],
   "source": [
    "aList = range(10,20);\n",
    "print(aList)"
   ]
  },
  {
   "cell_type": "code",
   "execution_count": null,
   "id": "4a37b1b0-5d32-4cce-afcd-efbdd848e126",
   "metadata": {},
   "outputs": [],
   "source": [
    "j = 0\n",
    "for i in aList :    \n",
    "    s = i + aList[j] \n",
    "    print('The current sum at element ', i, ' is ', s, '(j is',j,')')\n",
    "    j = j+1"
   ]
  },
  {
   "cell_type": "markdown",
   "id": "1b6566d3-2e52-4a6b-bc29-aa126dee3f64",
   "metadata": {},
   "source": [
    "In many situations the length of a loop might be unkown before entering the loop. Instead, it might be known that the loop will need to be ended, if a specific condition is met. \n",
    "\n",
    "For example, if we were not in the position to know how many people live in the city of Austin, TX, but we wanted to ask each one of them if they have eaten any cake today, we could could use a while loop. We would continue asking while meeting people that we hve not met before. \n",
    "\n",
    "In reality, often times it is possible to rewrite a `while` loop as a `for` loop. But there are useful differences between the two loops and for that reason they have both survived."
   ]
  },
  {
   "cell_type": "markdown",
   "id": "f7a69dbd-38e3-449d-a853-72558b6c0169",
   "metadata": {},
   "source": [
    "To show how a `while` loop would work, imagine if I wanted to know if I have eaten more than 14 slices of pizza in the past two weeks (why pizza now? Because we can, pizza is good, too much cake already anyways). Let's assume that I eat 1 slice of pizza per day:"
   ]
  },
  {
   "cell_type": "code",
   "execution_count": null,
   "id": "7a084dec-57f1-4f93-8c72-eeb5f23f98ea",
   "metadata": {},
   "outputs": [],
   "source": [
    "day = 1\n",
    "pizza = 0\n",
    "while day < 14 :\n",
    "    pizza = pizza + 1\n",
    "    print('today is day #,', day, 'so far I ate', pizza, 'pizzas')\n",
    "    day += 1"
   ]
  },
  {
   "cell_type": "markdown",
   "id": "10b94c80-9584-46df-8b05-97cfc6e12066",
   "metadata": {},
   "source": [
    "The syntax of a `while` loop is similar but different than a `for` loop. A `while` loop requires\n",
    "\n",
    "A) A condition that will need to be met `while condition`\n",
    "\n",
    "B) A `:` at the end of the `while` line\n",
    "\n",
    "C) Operations to be performed while the condition is not met, yet.\n",
    "\n",
    "That is it.\n",
    "\n",
    "In our case above, had used a counter and the operation was set to be for the counter to be less than a value. We had something like the following:\n",
    "\n",
    "```\n",
    "counter = 1\n",
    "while counter < max_value :\n",
    "  operations\n",
    "  counter += 1\n",
    "```"
   ]
  },
  {
   "cell_type": "markdown",
   "id": "6c5060eb-c94a-462c-9b2c-e9278a8d2faa",
   "metadata": {},
   "source": [
    "To reinstate then, `while` loops are used when the number of times it will be necessary to iterate is unkown, but the condition which determines the end of the loop is known. The `for` loop instead is used when the number of times the loop will have to iterate over is known, independently of whether the condition to exit the iteration is known or not. "
   ]
  },
  {
   "cell_type": "markdown",
   "id": "ebe8ccdf-cb66-437b-9067-772db74a6338",
   "metadata": {},
   "source": [
    "$\\color{blue}{\\text{Complete the following exercise.}}$\n",
    "\n",
    "  - Write a `while` loop to sum the first 13 numbers starting at 1. Print each value and a message when the loop is finished.\n",
    "  \n",
    "  [Use the cell below to show your code]\n"
   ]
  },
  {
   "cell_type": "code",
   "execution_count": null,
   "id": "c2f301c4-1efb-4a0c-ae8e-fc6c2b6056ad",
   "metadata": {},
   "outputs": [],
   "source": []
  },
  {
   "cell_type": "markdown",
   "id": "c02c0ee2-dd38-4bc9-b375-dbb7720ec6ff",
   "metadata": {},
   "source": [
    "`while` loops also provide a convenient way to specify conditions explicitly. For example, we can use the word `break` to literally break out of a `while` loop, if a condition is met. For example, we can exit (or `break` out of) a `while` loop if a value reaches a certain threshold:"
   ]
  },
  {
   "cell_type": "code",
   "execution_count": null,
   "id": "d5fee577-8a5e-4239-8a4d-ae0b871e548c",
   "metadata": {},
   "outputs": [],
   "source": [
    "# here we break the loop (using the break command) \n",
    "# if the counter is equal to a certain exit value\n",
    "counter = 1\n",
    "exit_val = 6\n",
    "while counter < 1000:\n",
    "  print('The counter is',counter,'The exit value is', exit_val)\n",
    "  if counter == exit_val :\n",
    "    print('The condition was met',counter,'==', exit_val, ', we exit the loop...')\n",
    "    break\n",
    "  counter += 1"
   ]
  },
  {
   "cell_type": "markdown",
   "id": "06486f57-c8f2-47a5-9706-b3bbf82e4e62",
   "metadata": {},
   "source": [
    "The code above, is similar to the one previously used one, yet, the `while` loop is terminated when a condition is met. \n",
    "\n",
    "The condition is that the counter becomes less than an `exit_val` variable (`6`). the condition is tested using the `if` syntax (`if` is an important word in python for flow control that we will explore more later).\n"
   ]
  },
  {
   "cell_type": "markdown",
   "id": "6031ff2b-ac54-4212-98ff-919ed97062a5",
   "metadata": {},
   "source": [
    "$\\color{blue}{\\text{Complete the following exercise.}}$\n",
    "\n",
    "  - Write a `while` loop to multiply the first 10 numbers starting at 0, but exit the look if the output of the multiplication is more than 50 . Print each value and a message when breaking out of the loop.\n",
    "  \n",
    "  [Use the cell below to show your code]\n"
   ]
  },
  {
   "cell_type": "code",
   "execution_count": null,
   "id": "c35c0176-cd0c-4f56-ae7e-8667731a404b",
   "metadata": {},
   "outputs": [],
   "source": []
  },
  {
   "cell_type": "markdown",
   "id": "7d4f8e2d-36eb-4f7f-8ed5-dc11387ffc9e",
   "metadata": {},
   "source": [
    "In some cases, we can set a condition to be met but instead of breaking out of the while loop we can decide to continue. For example, below we use the word `continue` instead of the word `break`, in this"
   ]
  },
  {
   "cell_type": "code",
   "execution_count": null,
   "id": "5bbb2764-f8de-40ea-a6b9-704ff3418404",
   "metadata": {},
   "outputs": [],
   "source": [
    "# here we continue the loop (using the continue command) \n",
    "# if the counter is equal to a certain value\n",
    "counter = 0\n",
    "val = 6\n",
    "while counter < 10 :\n",
    "   counter += 1\n",
    "   if counter == val :\n",
    "    print('The condition was met',counter,'==', val, ', but we continue...')\n",
    "    continue\n",
    "   print('The counter is',counter,'The value is', val)"
   ]
  },
  {
   "cell_type": "markdown",
   "id": "8c8af34d-ac6b-4ac5-a892-2e38ff262990",
   "metadata": {},
   "source": [
    "In reality, we could have used the `brake` command also in combination with a `for` loop. So, the situations where a while and for loop diverge are limited. Yet, one or the other are often times preferable, especially for clarity of programming style (e.g., your colleagues reading your code will be happier, if you write simple, easy to read code)."
   ]
  },
  {
   "cell_type": "markdown",
   "id": "be2ac9dc-9e43-4921-95f9-c716c09ee08e",
   "metadata": {},
   "source": [
    "Below one last example with the `while` loop. The loop offers the ability to end with an `else` just like an `if` statement. "
   ]
  },
  {
   "cell_type": "code",
   "execution_count": null,
   "id": "ab4f7311-209e-4939-803e-d860b322a22c",
   "metadata": {},
   "outputs": [],
   "source": [
    "counter = 0\n",
    "while counter < 10 :\n",
    "    print(\"We write INSIDE becuase we are inside the while loop.\")\n",
    "    counter = counter + 1\n",
    "else :\n",
    "    print(\"We write END because we have exited the while loop and are inside the else statement\")"
   ]
  },
  {
   "cell_type": "markdown",
   "id": "d65e27c4-6ae8-4805-b93e-a10b724949cb",
   "metadata": {},
   "source": [
    "$\\color{blue}{\\text{Complete the following exercise.}}$\n",
    "\n",
    "  - Write the same code twice and compare the complexity of the code\n",
    "\n",
    "    ```\n",
    "    LIST = [101, 102, 103, 104, 105, 106, 107, 108, 109, 110]\n",
    "    A = 0\n",
    "    for B in LIST :    \n",
    "        OUT = B + LIST[A] \n",
    "        print('The current sum at element ', B, ' is ', OUT, '(A is',A,')')\n",
    "        A = A+1\n",
    "    ```\n",
    "\n",
    "   Complete the code above and rewrite it as a `while` loop.\n",
    "  \n",
    "  [Use the cell below to show your code.]\n"
   ]
  },
  {
   "cell_type": "code",
   "execution_count": null,
   "id": "2ad78a25-3ff8-4b20-b418-330527743649",
   "metadata": {},
   "outputs": [],
   "source": []
  },
  {
   "cell_type": "markdown",
   "id": "3edb0f5e-13fe-48f3-8a8a-e2bf15536edb",
   "metadata": {},
   "source": [
    "[Use this cell to describe in your own words which code seems to be more complex and why]"
   ]
  },
  {
   "cell_type": "code",
   "execution_count": null,
   "id": "170b6c29-ccab-4d37-a5f0-467e8f58ffa1",
   "metadata": {},
   "outputs": [],
   "source": []
  }
 ],
 "metadata": {
  "kernelspec": {
   "display_name": "Python 3 (ipykernel)",
   "language": "python",
   "name": "python3"
  },
  "language_info": {
   "codemirror_mode": {
    "name": "ipython",
    "version": 3
   },
   "file_extension": ".py",
   "mimetype": "text/x-python",
   "name": "python",
   "nbconvert_exporter": "python",
   "pygments_lexer": "ipython3",
   "version": "3.8.17"
  }
 },
 "nbformat": 4,
 "nbformat_minor": 5
}
