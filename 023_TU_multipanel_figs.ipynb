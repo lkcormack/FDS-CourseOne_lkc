{
 "cells": [
  {
   "cell_type": "markdown",
   "metadata": {},
   "source": [
    "# Multi-panel figures"
   ]
  },
  {
   "cell_type": "markdown",
   "metadata": {},
   "source": [
    "## Learning outcomes\n",
    "\n",
    "* Making multi-panel figures using `plt.subplot()`\n",
    "    - change plot orientation\n",
    "    - modifying ticks\n",
    "    - inverting an axis\n",
    "* Making multi-panel figures using `plt.subplots()` (note the plural)\n",
    "    - plotting in axex panels\n",
    "    - adjusting the layout to accommodate annotations\n",
    "    - using `subplot_mosaic()`\n",
    "    - getting finer control with a `gridspec`\n",
    "    - (optional) adding axes panels manually with a `gridspec`"
   ]
  },
  {
   "cell_type": "markdown",
   "metadata": {},
   "source": [
    "We will often want to put multiple panels in a figure. In fact, take a look at the current issue of [Nature](https://www.nature.com/nature/articles?type=letter) (generally regarded as the top scientific journal in the world), and you will see *all* of the figures shown in the article listing have multiple panels. The reason is quite simply that, in general, there are multiple aspects of a single data set, experiment, etc., that tell a single story together. It is thus more effective to have these multiple aspects conveyed in a single figure so that the reader can appreciate these aspects and their interrelationships together."
   ]
  },
  {
   "cell_type": "markdown",
   "metadata": {},
   "source": [
    "In this tutorial, we will go through the most basic of making multi-panel figures using `matplotlib`, and we'll go to through next two in the next tutorial. The three methods offer a trade-off between ease and simplicity on the one hand power and flexibility on the other. Which you use for projects in the future will depend largely on your own preference and the task and hand."
   ]
  },
  {
   "cell_type": "markdown",
   "metadata": {},
   "source": [
    "As always, we need to import the needed libraries to get going."
   ]
  },
  {
   "cell_type": "code",
   "execution_count": null,
   "metadata": {},
   "outputs": [],
   "source": [
    "# first things first\n",
    "import numpy as np\n",
    "import matplotlib.pyplot as plt"
   ]
  },
  {
   "cell_type": "markdown",
   "metadata": {},
   "source": [
    "Next, we're going to make some data to play with. Don't worry about the code just yet – we can just think about as a black box data generator for now. You can come back and see if you can make sense of it once we've played with the data a little bit."
   ]
  },
  {
   "cell_type": "code",
   "execution_count": null,
   "metadata": {},
   "outputs": [],
   "source": [
    "### make some data to play with\n",
    "my_means = [0, 0]\n",
    "my_cov = [[2, -1.9], [-1.9, 3]]\n",
    "my_n = 5000\n",
    "\n",
    "my_rng = np.random.default_rng()\n",
    "x, y = my_rng.multivariate_normal(my_means, my_cov, my_n).T\n",
    "y = y**2"
   ]
  },
  {
   "cell_type": "markdown",
   "metadata": {},
   "source": [
    "After running the above, we should have two vectors of data, `x` and `y`, each of which contain 5000 data points.\n"
   ]
  },
  {
   "cell_type": "markdown",
   "metadata": {},
   "source": [
    "---"
   ]
  },
  {
   "cell_type": "markdown",
   "metadata": {},
   "source": [
    "\n",
    "In the code cell below, confirm the shapes of `x` and `y`."
   ]
  },
  {
   "cell_type": "code",
   "execution_count": null,
   "metadata": {},
   "outputs": [],
   "source": [
    "# how big are our variables?"
   ]
  },
  {
   "cell_type": "markdown",
   "metadata": {},
   "source": [
    "---"
   ]
  },
  {
   "cell_type": "markdown",
   "metadata": {},
   "source": [
    "### Review: looking at data with individual figures"
   ]
  },
  {
   "cell_type": "markdown",
   "metadata": {},
   "source": [
    "First, let's examine the data with the \"quickie\" single plot tools we already have. First, we'll make a histogram of `x`.\n",
    "\n",
    "To save time and code clutter, we'll break our \"always annotate plots\" rule and only annotate when it illustrates something about multi-plot figures. "
   ]
  },
  {
   "cell_type": "code",
   "execution_count": null,
   "metadata": {},
   "outputs": [],
   "source": [
    "# histogram of x\n",
    "plt.hist(x, bins=50);"
   ]
  },
  {
   "cell_type": "markdown",
   "metadata": {},
   "source": [
    "---"
   ]
  },
  {
   "cell_type": "markdown",
   "metadata": {},
   "source": [
    "In the cells below, make a histogram of `y`."
   ]
  },
  {
   "cell_type": "code",
   "execution_count": null,
   "metadata": {},
   "outputs": [],
   "source": [
    "# histogram of y"
   ]
  },
  {
   "cell_type": "markdown",
   "metadata": {},
   "source": [
    "Clearly, these two sets of data have distributions of very different shape. Still, it might be easier to compare them if we put them on the same plot. Use the code cell below to plot them together. Set the `alpha` for both to something below 0.5 so you can see the overlapping regions."
   ]
  },
  {
   "cell_type": "code",
   "execution_count": null,
   "metadata": {},
   "outputs": [],
   "source": [
    "# both histograms on the same plot."
   ]
  },
  {
   "cell_type": "markdown",
   "metadata": {},
   "source": [
    "Before we move on, let's consider this plot some more. Both x and y have 5000 points, so why is the distribution of y so much higher? Play around with the binwidth of one or both histograms until you have a plot that you think conveys both the relative heights and shapes of the two distributions fairly well."
   ]
  },
  {
   "cell_type": "markdown",
   "metadata": {},
   "source": [
    "Now let's plot the relationship between x and y using `plt.scatter()`! There are going to be a ***lot*** of data points that occlude other data points in the default plot. So, after making the initial plot, play around with the `alpha` and size (`s = `) parameters until you get a plot you are happy with."
   ]
  },
  {
   "cell_type": "code",
   "execution_count": null,
   "metadata": {},
   "outputs": [],
   "source": [
    "# scatter plot of x,y"
   ]
  },
  {
   "cell_type": "markdown",
   "metadata": {},
   "source": [
    "Here, we can see that there *is* a relationship between x and y. Large positive values of y seem to occur at large absolute values of x, giving the data a bowl or parabolic shape overall. Moreover, while most x values seem to cluster between -2 and +2, the y values seem to tend towards small positive values and cut off rather sharply at 0."
   ]
  },
  {
   "cell_type": "markdown",
   "metadata": {},
   "source": [
    "---"
   ]
  },
  {
   "cell_type": "markdown",
   "metadata": {},
   "source": [
    "It would be nice if we could show all the plots above on the same figure, so we could appreciate the both the distributions of x and y (without regard to the other) and the x,y relationship at once."
   ]
  },
  {
   "cell_type": "markdown",
   "metadata": {},
   "source": [
    "## Multi-panel figures with `subplot()`"
   ]
  },
  {
   "cell_type": "markdown",
   "metadata": {},
   "source": [
    "The first tool we can use to make a multi-panel figure is `subplot()`. In it's basic use, `plt.subplot(nrows, ncols, index)` creates an `nrows`-by-`ncols` matrix of subplot locations in the current figure, and makes an `axes` at the location specified by `index`. The locations are numbered left-to-right, top-to-bottom. If a figure doesn't exist, a new one is created."
   ]
  },
  {
   "cell_type": "markdown",
   "metadata": {},
   "source": [
    "Let's run this:"
   ]
  },
  {
   "cell_type": "code",
   "execution_count": null,
   "metadata": {},
   "outputs": [],
   "source": [
    "plt.subplot(2,2,1)"
   ]
  },
  {
   "cell_type": "markdown",
   "metadata": {},
   "source": [
    "That made a new figure with 2x2 grid of potential plot locations, created an `axes` at location 1 (top left) and made it \"live\", meaning that any plotting would go in that `axes`. \n",
    "\n",
    "Because there are no other `axes` objects in the figure, Jupyter isn't showing us the whole figure."
   ]
  },
  {
   "cell_type": "markdown",
   "metadata": {},
   "source": [
    "Note: Throughout, when we mean \"axes\" or \"axis\" in the generic sense, the words will be in plain text. When we mean them in the `matplotlib` sense, they will be typeset as code: `axes`, `axis`."
   ]
  },
  {
   "cell_type": "markdown",
   "metadata": {},
   "source": [
    "Let's try this:"
   ]
  },
  {
   "cell_type": "code",
   "execution_count": null,
   "metadata": {},
   "outputs": [],
   "source": [
    "plt.subplot(2,2,1)       # makes a figure with a 2x2 grid of potential locations, \n",
    "                         # makes an axex at location 1, and sets it to \"live\"\n",
    "\n",
    "plt.title('I am plot 1')\n",
    "plt.hist(x);\n",
    "\n",
    "plt.subplot(2,2,4)      # makes an axes at location 4 and sets it to \"live\"\n",
    "plt.title('I am plot 4')\n",
    "plt.hist(y);"
   ]
  },
  {
   "cell_type": "markdown",
   "metadata": {},
   "source": [
    "You can jump around the plots if you wish:"
   ]
  },
  {
   "cell_type": "code",
   "execution_count": null,
   "metadata": {},
   "outputs": [],
   "source": [
    "plt.subplot(2,2,1)\n",
    "plt.title('I am plot 1')\n",
    "plt.hist(x);\n",
    "\n",
    "plt.subplot(2,2,4)\n",
    "plt.title('I am plot 4')\n",
    "plt.hist(y);\n",
    "\n",
    "plt.subplot(2,2,1)\n",
    "plt.text(0.0, 1000, 'Back to plot 1!')\n"
   ]
  },
  {
   "cell_type": "markdown",
   "metadata": {},
   "source": [
    "Personally, we think it's more clear to make one plot live, do everything your going to do to that plot, and then move on to the next plot. However, some people might prefer to, say, go through the figures once to do all the plotting, and then cycle through them again to do the annotating, etc. You do you."
   ]
  },
  {
   "cell_type": "markdown",
   "metadata": {},
   "source": [
    "#### all axes panels in one figure"
   ]
  },
  {
   "cell_type": "markdown",
   "metadata": {},
   "source": [
    "Let's put all three of our graphs in one figure:"
   ]
  },
  {
   "cell_type": "code",
   "execution_count": null,
   "metadata": {},
   "outputs": [],
   "source": [
    "plt.subplot(2,2,1)\n",
    "plt.hist(y);\n",
    "\n",
    "plt.subplot(2,2,4)\n",
    "plt.hist(x);\n",
    "\n",
    "plt.subplot(2,2,2)\n",
    "plt.scatter(x,y);"
   ]
  },
  {
   "cell_type": "markdown",
   "metadata": {},
   "source": [
    "Not bad. The visual comparison of the x distribution with the scatter plot is nice, because the horizontal axis of each plot lines up with the other. That's not true for out y values however. Let's fix that."
   ]
  },
  {
   "cell_type": "markdown",
   "metadata": {},
   "source": [
    "#### adjusting the orientation of a subplot"
   ]
  },
  {
   "cell_type": "markdown",
   "metadata": {},
   "source": [
    "The big problem we have with our figure is that our y variable values run up and down in the scatter plot (which is how we want them), but left and right on our histogram. \n"
   ]
  },
  {
   "cell_type": "markdown",
   "metadata": {},
   "source": [
    "---"
   ]
  },
  {
   "cell_type": "markdown",
   "metadata": {},
   "source": [
    "In the code cell below, recycle the code from above, but try setting an `orientation` argument to `'horizontal'` in the call to make the y histogram."
   ]
  },
  {
   "cell_type": "code",
   "execution_count": null,
   "metadata": {},
   "outputs": [],
   "source": [
    "# put the y histogram on its side"
   ]
  },
  {
   "cell_type": "markdown",
   "metadata": {},
   "source": [
    "---"
   ]
  },
  {
   "cell_type": "markdown",
   "metadata": {},
   "source": [
    "#### turning ticks off"
   ]
  },
  {
   "cell_type": "markdown",
   "metadata": {},
   "source": [
    "A good general rule for graphics is that the cleaner, the better. Notice that in the above plots, the x axis is shared by the right two plots, and the y axis is shared by the top two plots. So we can remove some redundancy and visual clutter by turning some ticks off.\n",
    "\n",
    "There is a `yticks()` and an `xticks()` method in `matplotlib.pyplot` (which we have imported as `plt`) that allows us to specify tick marks. If we give it an empty list, there will be no ticks!"
   ]
  },
  {
   "cell_type": "code",
   "execution_count": null,
   "metadata": {},
   "outputs": [],
   "source": [
    "plt.subplot(2,2,1)\n",
    "plt.hist(y, orientation = 'horizontal');  # make the histogram bars horizontal\n",
    "plt.yticks([])                            # eliminate the y ticks\n",
    "\n",
    "plt.subplot(2,2,4)\n",
    "plt.hist(x);\n",
    "\n",
    "plt.subplot(2,2,2)\n",
    "plt.scatter(x,y);"
   ]
  },
  {
   "cell_type": "markdown",
   "metadata": {},
   "source": [
    "After running the code above, modify it to remove the x ticks from the histogram of x values and re-run it."
   ]
  },
  {
   "cell_type": "markdown",
   "metadata": {},
   "source": [
    "#### inverting an axis"
   ]
  },
  {
   "cell_type": "markdown",
   "metadata": {},
   "source": [
    "Visually, it is nice to have the corresponding axes next to one another on the figure. In the plot above, we can do this for the y value histogram by flipping the axis of counts so that zero is to the right and higher counts go to the left.\n",
    "\n",
    "While `plt` can do certain things to the current `axes` (like plot in it), or even to an `axis` in its `axes` (like turn off the ticks), some things need to be done by the `axes` itself, like inverting an `axis`.\n",
    "\n",
    "So, in order to flip some `axis`, we are going to assign our own names to the `axes` objects, and then call on them to accomplish our goal."
   ]
  },
  {
   "cell_type": "code",
   "execution_count": null,
   "metadata": {},
   "outputs": [],
   "source": [
    "yhist_ax = plt.subplot(2,2,1)             # name our y histogram axes object 'yhist_ax'\n",
    "plt.hist(y, orientation = 'horizontal');\n",
    "plt.yticks([])\n",
    "yhist_ax.invert_xaxis()                   # have the axes invert its x axis\n",
    "plt.text(3000, 20, 'I\\'m inverted!')\n",
    "\n",
    "plt.subplot(2,2,4)\n",
    "plt.hist(x);\n",
    "plt.xticks([])\n",
    "\n",
    "plt.subplot(2,2,2)\n",
    "plt.scatter(x,y);"
   ]
  },
  {
   "cell_type": "markdown",
   "metadata": {},
   "source": [
    "Modify the above code to flip the y axis of our x values histogram too!"
   ]
  },
  {
   "cell_type": "markdown",
   "metadata": {},
   "source": [
    "Remember that `matplotlib` is a hierarchy of `artists`. Though not strictly an `artist`, `plt` sits at the top. \n",
    "\n",
    "    * `plt` - the creator and evil overlord that can do many things, but not all things\n",
    "    * `figure` - contains the `axes` objects\n",
    "    * `axes` - contains the plots and `axis` objects\n",
    "    * `axis` - has ticks, upper and lower limits, etc.\n",
    "    \n",
    "So if you want to do something \n",
    "\n",
    "    1. see if maybe `plt` can do it\n",
    "    2. look for methods at the right level. \n",
    "    \n",
    "For example, if you wanted to change the background of the whole figure, you would look at the figure level, whereas if you wanted to change the background color of a specific plot, you would look at the `axes` level.\n",
    "\n",
    "For reference, [here](https://matplotlib.org/stable/api/pyplot_summary.html) is a list of `plt` methods.   "
   ]
  },
  {
   "cell_type": "markdown",
   "metadata": {},
   "source": [
    "Let's change the background color of our figure to make the `axes` stand out more. To do this, instead of letting the first call to `plt.subplot()` make the figure for us, we'll make it ourselves and give it a name so we can call its methods."
   ]
  },
  {
   "cell_type": "markdown",
   "metadata": {},
   "source": [
    "If `plt.subplot()` makes a subplot and `plt.text()` makes some text, what do you think makes a figure?"
   ]
  },
  {
   "cell_type": "code",
   "execution_count": null,
   "metadata": {},
   "outputs": [],
   "source": [
    "fig = plt.figure()                        # make the figure and name it fig\n",
    "fig.set_facecolor('gray')                 # set the face color to gray\n",
    "\n",
    "# y subplot\n",
    "yhist_ax = plt.subplot(2,2,1)             # name our y histogram axes object\n",
    "plt.hist(y, orientation = 'horizontal');\n",
    "plt.yticks([])\n",
    "yhist_ax.invert_xaxis()                   # have the axes invert its x axis\n",
    "\n",
    "# x subplot()\n",
    "plt.subplot(2,2,4)\n",
    "plt.hist(x);\n",
    "plt.xticks([])\n",
    "\n",
    "# scatterplot subplot\n",
    "plt.subplot(2,2,2)\n",
    "plt.scatter(x,y);"
   ]
  },
  {
   "cell_type": "markdown",
   "metadata": {},
   "source": [
    "You can use common color names to set the color of the background, but you can also use three numbers to set the rgb (red, green, and blue) values, and an optional fourth number to set the alpha (transparency). Try it in the code above!"
   ]
  },
  {
   "cell_type": "markdown",
   "metadata": {},
   "source": [
    "Also, you can set the size of your figure when you make the figure. You might need to do this to make room for axis labels or titles."
   ]
  },
  {
   "cell_type": "markdown",
   "metadata": {},
   "source": [
    "#### making the figure your own."
   ]
  },
  {
   "cell_type": "markdown",
   "metadata": {},
   "source": [
    "Now it's time to have some fun. Starting with the above code, make this figure your own. The only requirements are:\n",
    "\n",
    "* put the scatter plot in the upper left, where it is most prominent\n",
    "* have the x and y value axes of the histograms closest to the scatter plot\n",
    "* put x and y axes labels on the scatter plot\n",
    "* tweak the scatter plot color, marker size, and/or alpha to get a nice plot\n",
    "* make the histogram colors match the scatter plot"
   ]
  },
  {
   "cell_type": "code",
   "execution_count": null,
   "metadata": {},
   "outputs": [],
   "source": []
  },
  {
   "cell_type": "code",
   "execution_count": null,
   "metadata": {},
   "outputs": [],
   "source": []
  },
  {
   "cell_type": "markdown",
   "metadata": {},
   "source": [
    "## Multi-axis figures: advanced methods "
   ]
  },
  {
   "cell_type": "markdown",
   "metadata": {},
   "source": [
    "The `plt.plot()` way of making multi-panel (`axes`) figures is great for simple figures, consisting of anything from 1 panel figures to a 2x2 panel figure or so, where each panel is the same size.\n",
    "\n",
    "For more complicated figures, however, there are a few other ways to add multiple subplots to our figures that allow us more flexibility in terms of the sizes and layout of our subplots.\n",
    "\n",
    "In this tutorial, we will cover two of primary methods, which are using\n",
    "\n",
    "- `plt.subplots()` (note the 's' - `plt.subplots()` is different than `plt.subplot()`!), \n",
    "- a sub-plot mosaic (`subplot_mosaic()`), \n",
    "\n",
    "We'll also briefly describe the low-level method of using a \"grid specification\" (optional)"
   ]
  },
  {
   "cell_type": "markdown",
   "metadata": {},
   "source": [
    "### as always, let's import our libraries"
   ]
  },
  {
   "cell_type": "code",
   "execution_count": null,
   "metadata": {},
   "outputs": [],
   "source": [
    "import numpy as np\n",
    "import matplotlib.pyplot as plt"
   ]
  },
  {
   "cell_type": "markdown",
   "metadata": {},
   "source": [
    "## Adding subplots with `subplots()`"
   ]
  },
  {
   "cell_type": "markdown",
   "metadata": {},
   "source": [
    "The \"go to\" alternative to `plt.subplot()` for figures with a simple grid of sub-plots with same size is `plt.subplots()`. This makes all of our subplots in one command, and gives us `axes` objects that we can use to do our plotting.\n",
    "\n",
    "Run the following code:"
   ]
  },
  {
   "cell_type": "code",
   "execution_count": null,
   "metadata": {},
   "outputs": [],
   "source": [
    "fig, axs = plt.subplots(ncols=2, nrows=2)"
   ]
  },
  {
   "cell_type": "markdown",
   "metadata": {},
   "source": [
    "What has it done?\n",
    "\n",
    "Notice that, in addition to making a 2x2 grid of axes, its return values have been assigned to `fig` and `axs` - let's look at these.\n",
    "\n",
    "The first, `fig`, refers to the entire figure, and we can use it to do figure level stuff, like set the overall background color.\n",
    "\n",
    "Now let's look at `axs`:"
   ]
  },
  {
   "cell_type": "code",
   "execution_count": null,
   "metadata": {},
   "outputs": [],
   "source": [
    "axs"
   ]
  },
  {
   "cell_type": "markdown",
   "metadata": {},
   "source": [
    "Interesting, `axs` is an array! Like any other array, it has cells but, in this case, the cells contain the names of our `axes` objects. So if we wanted to do some plotting in the upper left cell, we would do `axs[0,0].plot(...)`, etc."
   ]
  },
  {
   "cell_type": "markdown",
   "metadata": {},
   "source": [
    "##### Note: \n",
    "`fig` and `axs` are just variable names, and you can use whatever names you wish. Just like with `np` and `plt`, however, coders generally use `\"fig\"` for the figure, `\"ax\"` for a single `axes`, and `\"axs\"` for multiple `axes` objects."
   ]
  },
  {
   "cell_type": "markdown",
   "metadata": {},
   "source": [
    "#### Let's make some stuff to plot:"
   ]
  },
  {
   "cell_type": "code",
   "execution_count": null,
   "metadata": {},
   "outputs": [],
   "source": [
    "x = np.linspace(-10, 10, 10)\n",
    "y1 = x\n",
    "y2 = x**2\n",
    "y3 = x**3\n",
    "y4 = x**4"
   ]
  },
  {
   "cell_type": "markdown",
   "metadata": {},
   "source": [
    "### Plotting in individual axes panels"
   ]
  },
  {
   "cell_type": "code",
   "execution_count": null,
   "metadata": {},
   "outputs": [],
   "source": [
    "fig, axs = plt.subplots(ncols=2, nrows=2)\n",
    "\n",
    "axs[0, 0].plot(x, y1);\n",
    "axs[0, 1].plot(x, y2);\n",
    "axs[1, 0].plot(x, y3);\n",
    "axs[1, 1].plot(x, y4);"
   ]
  },
  {
   "cell_type": "markdown",
   "metadata": {},
   "source": [
    "So what advantages does this have over using `plt.subplot()`? We can see two right now. \n",
    "\n",
    "First, we don't have to re-specify the same grid every time we plot. \n",
    "\n",
    "Second, and more importantly, *we address the `axes` exactly as they are laid out in the figure* - we refer to each individual `axes` by it's location in the figure.\n",
    "\n",
    "A little pair of `for` loops will illustrate this nicely. We'll loop through the rows and columns, and put an annotation on each `axes` labeling it. Run the code below, and then *make sure you understand how the indexing is working before moving on*."
   ]
  },
  {
   "cell_type": "code",
   "execution_count": null,
   "metadata": {},
   "outputs": [],
   "source": [
    "fig, axs = plt.subplots(ncols=2, nrows=2)\n",
    "\n",
    "for row in range(2):\n",
    "    for col in range(2):\n",
    "        axs[row, col].text(0.3, 0.5, f'Hi! I\\'m axs[{row}, {col}]')\n",
    "\n",
    "fig.suptitle('subplots()!');"
   ]
  },
  {
   "cell_type": "markdown",
   "metadata": {},
   "source": [
    "Notice that we also used `fig` to put a title on the whole figure."
   ]
  },
  {
   "cell_type": "markdown",
   "metadata": {},
   "source": [
    "But wait! There's more! If we can easily address our plots with `for` loops, why not automatically grab and plot our data using the `for` loops as well? To do this, we'll just put our data in a nested Python list that has exactly the same 2x2 structure as our figure."
   ]
  },
  {
   "cell_type": "code",
   "execution_count": null,
   "metadata": {},
   "outputs": [],
   "source": [
    "y = [[y1, y2],\n",
    "    [y3, y4]]"
   ]
  },
  {
   "cell_type": "markdown",
   "metadata": {},
   "source": [
    "And now we add our plotting into in the inner `for` loop, grabbing the data with `y[row][column]` as we go."
   ]
  },
  {
   "cell_type": "code",
   "execution_count": null,
   "metadata": {},
   "outputs": [],
   "source": [
    "fig, axs = plt.subplots(ncols=2, nrows=2)\n",
    "\n",
    "for row in range(2):\n",
    "    for col in range(2):\n",
    "        axs[row, col].plot(x, y[row][col])\n",
    "        axs[row, col].text(0.5, 0.5, f'Hi! I\\'m axs[{row}, {col}]')\n",
    "\n",
    "fig.suptitle('grapping data in the loop(s)');"
   ]
  },
  {
   "cell_type": "markdown",
   "metadata": {},
   "source": [
    "Now that we have all our plotting and annotating in one place, we can add or change things that will automatically affect all the plots. No need to copy and paste!\n",
    "\n",
    "For example, you may have noticed above that the positions of our annotations got messed up. This is because the positions were set assuming that the x and y axes both went from 0 to 1, which is no longer true. But we can tell our annotation to use the zero-to-one coordinate system instead of using data coordinates by using the `transform` property that `artists` have.\n",
    "\n",
    "We can also make all our plots light blue, just for the heck of it."
   ]
  },
  {
   "cell_type": "code",
   "execution_count": null,
   "metadata": {},
   "outputs": [],
   "source": [
    "fig, axs = plt.subplots(ncols=2, nrows=2)\n",
    "\n",
    "for row in range(2):\n",
    "    for col in range(2):\n",
    "        axs[row, col].plot(x, y[row][col])\n",
    "        axs[row, col].text(0.3, 0.5, f'Hi! I\\'m axs[{row}, {col}]', \n",
    "                           transform=axs[row, col].transAxes)        # tell the text to use 0-1 coords\n",
    "        axs[row, col].set_facecolor('lightblue')\n",
    "        \n",
    "fig.suptitle('adding simple stuff in the loop(s)');"
   ]
  },
  {
   "cell_type": "markdown",
   "metadata": {},
   "source": [
    "We can get even fancier by storing plot customizations like lines, markers, font sizes, etc. so that we can access them with our loop(s)."
   ]
  },
  {
   "cell_type": "code",
   "execution_count": null,
   "metadata": {},
   "outputs": [],
   "source": [
    "lspec = [['r:', 'b-o'], ['k--d', 'gs']]"
   ]
  },
  {
   "cell_type": "code",
   "execution_count": null,
   "metadata": {},
   "outputs": [],
   "source": [
    "fig, axs = plt.subplots(ncols=2, nrows=2)\n",
    "\n",
    "for row in range(2):\n",
    "    for col in range(2):\n",
    "        axs[row, col].plot(x, y[row][col], lspec[row][col])\n",
    "        axs[row, col].text(0.3, 0.5, f'Hi! I\\'m axs[{row}, {col}]', \n",
    "                           transform=axs[row, col].transAxes)\n",
    "                           \n",
    "fig.suptitle('axes customization');"
   ]
  },
  {
   "cell_type": "markdown",
   "metadata": {},
   "source": [
    "---"
   ]
  },
  {
   "cell_type": "markdown",
   "metadata": {},
   "source": [
    "In the code cell below, make something about the text (e.g. font size, color) different for each plot. Don't cheat: do it inside the for loops!"
   ]
  },
  {
   "cell_type": "code",
   "execution_count": null,
   "metadata": {},
   "outputs": [],
   "source": []
  },
  {
   "cell_type": "markdown",
   "metadata": {},
   "source": [
    "---"
   ]
  },
  {
   "cell_type": "markdown",
   "metadata": {},
   "source": [
    "#### Making room for annotations"
   ]
  },
  {
   "cell_type": "markdown",
   "metadata": {},
   "source": [
    "You can specify the overall size of the figure. We often want to make it larger than the default in order to make room for axis labels and suchlike.\n",
    "\n",
    "There is also an option to set the layout of the figure to be \"constrained\" – this tries to adjust things so that everything fits in the figure without overlapping.\n",
    "\n",
    "Here, we'll bump the figure size up and set the layout to \"constrained\" and take a look."
   ]
  },
  {
   "cell_type": "code",
   "execution_count": null,
   "metadata": {},
   "outputs": [],
   "source": [
    "lspec = [['r:', 'b-o'], ['k--d', 'gs']]\n",
    "fsizes = [[10, 12], [14, 16]]\n",
    "\n",
    "fig, axs = plt.subplots(ncols=2, nrows=2, figsize=(5.5, 3.5),\n",
    "                        layout=\"constrained\")\n",
    "# add an artist, in this case a nice label in the middle...\n",
    "for row in range(2):\n",
    "    for col in range(2):\n",
    "        axs[row, col].plot(x, y[row][col], lspec[row][col])\n",
    "        axs[row, col].text(0.1, 0.8, f'Hi! I\\'m axs[{row}, {col}]', \n",
    "                           transform=axs[row, col].transAxes,\n",
    "                           fontsize = fsizes[row][col])\n",
    "\n",
    "fig.suptitle('bigger with constrained layout');"
   ]
  },
  {
   "cell_type": "markdown",
   "metadata": {},
   "source": [
    "#### Setting the aspect ratio of plots (and flat iteration)"
   ]
  },
  {
   "cell_type": "markdown",
   "metadata": {},
   "source": [
    "Sometimes we want to set the aspect ratio (height/width) of plots ourselves. We might want the plots to be square, for example, so that the unit circle looks like a circle and not an ellipse.\n",
    "\n",
    "Below, we'll set all the `axes` to have an aspect ratio of 1.0. Because we want to do exactly the same thing to every plot, we don't need to keep track of which row or column we are in, we just need to step through the plots. For these situations, the `axs` array created by `sub_plots()` can generate an iterator, `axs.flat`, that we can use with a single `loop` to go through our plots."
   ]
  },
  {
   "cell_type": "code",
   "execution_count": null,
   "metadata": {},
   "outputs": [],
   "source": [
    "fig, axs = plt.subplots(2, 2, layout=\"constrained\", figsize=(5.5, 3.5))\n",
    "\n",
    "for ax in axs.flat:\n",
    "    ax.set_aspect(1)\n",
    "\n",
    "fig.suptitle('Fixed aspect ratio Axes');"
   ]
  },
  {
   "cell_type": "markdown",
   "metadata": {},
   "source": [
    "#### Tightening up the layout"
   ]
  },
  {
   "cell_type": "markdown",
   "metadata": {},
   "source": [
    "We can play around with the figure size to clean things up. In the code cell below, play around with the figure size to make a plot layout that has room, but not too much room, for annotations."
   ]
  },
  {
   "cell_type": "code",
   "execution_count": null,
   "metadata": {},
   "outputs": [],
   "source": [
    "fig, axs = plt.subplots(2, 2, layout=\"constrained\", figsize=(6, 3))\n",
    "\n",
    "for ax in axs.flat:\n",
    "    ax.set_aspect(1)\n",
    "\n",
    "fig.suptitle('better fixed aspect ratio plot');"
   ]
  },
  {
   "cell_type": "markdown",
   "metadata": {},
   "source": [
    "#### Setting a panel to blank"
   ]
  },
  {
   "cell_type": "markdown",
   "metadata": {},
   "source": [
    "Sometimes we might not need one of our subplots. For example, what if want to show a scatter plot along with histograms of the x and y values? In this case, we can just turn of the `axis` objects for that `axes`:"
   ]
  },
  {
   "cell_type": "code",
   "execution_count": null,
   "metadata": {},
   "outputs": [],
   "source": [
    "fig, axs = plt.subplots(2, 2, layout=\"constrained\", figsize=(4.5, 4.0))\n",
    "\n",
    "for ax in axs.flat:\n",
    "    ax.set_aspect(1)\n",
    "\n",
    "axs[1,1].axis('off')\n",
    "fig.suptitle('a blank sub-panel');"
   ]
  },
  {
   "cell_type": "markdown",
   "metadata": {},
   "source": [
    "---"
   ]
  },
  {
   "cell_type": "markdown",
   "metadata": {},
   "source": [
    "### making a complete figure"
   ]
  },
  {
   "cell_type": "markdown",
   "metadata": {},
   "source": [
    "Recycling some of the code from above, make a nice plot that shows the first four polynomials in four subplots. The figure should include x- and y-axis labels, titles for the subplots, etc. Tinker with it until looks nice and isn't cluttered. (Remember, you don't necessarily need axis labels for every subplot if some of them are redundant."
   ]
  },
  {
   "cell_type": "code",
   "execution_count": null,
   "metadata": {},
   "outputs": [],
   "source": []
  },
  {
   "cell_type": "markdown",
   "metadata": {},
   "source": [
    "---"
   ]
  },
  {
   "cell_type": "markdown",
   "metadata": {},
   "source": [
    "### Adding subplots with `subplot_mosaic()`"
   ]
  },
  {
   "cell_type": "markdown",
   "metadata": {},
   "source": [
    "While `subplots()` returns an array of `axes` objects that we address by indexing, `subplot_mosaic()` offers us an alternative that returns a Python *dict* that we address by its keys. \n",
    "\n",
    "We provide the dict keys we want to `subplot_mosaic()` in a Python list that specifies the plot layout we want.\n",
    "\n",
    "Like this."
   ]
  },
  {
   "cell_type": "code",
   "execution_count": null,
   "metadata": {},
   "outputs": [],
   "source": [
    "fig, axd = plt.subplot_mosaic([['line', 'parabola'],\n",
    "                               ['cubic', 'quartic']],\n",
    "                              figsize=(5.5, 3.5), layout=\"constrained\")\n",
    "\n",
    "axd['parabola'].plot(x, y2)\n",
    "    \n",
    "fig.suptitle('subplot_mosaic()!');"
   ]
  },
  {
   "cell_type": "markdown",
   "metadata": {},
   "source": [
    "Note that here we named our dictionary of `axes` objects \"`axd`\". Let's look at it."
   ]
  },
  {
   "cell_type": "code",
   "execution_count": null,
   "metadata": {},
   "outputs": [],
   "source": [
    "axd"
   ]
  },
  {
   "cell_type": "markdown",
   "metadata": {},
   "source": [
    "So it contains the same sort of `axes` objects (the \"AxesSubplot\" things), but just in a dictionary instead of an array."
   ]
  },
  {
   "cell_type": "markdown",
   "metadata": {},
   "source": [
    "We can still loop through our plots to do stuff, but because the plots are addressed by name (key) instead of position (row and column), we can do it with a single loop."
   ]
  },
  {
   "cell_type": "code",
   "execution_count": null,
   "metadata": {},
   "outputs": [],
   "source": [
    "fig, axd = plt.subplot_mosaic([['upper left', 'upper right'],\n",
    "                               ['lower left', 'lower right']],\n",
    "                              figsize=(5.5, 3.5), layout=\"constrained\")\n",
    "for k in axd:\n",
    "    axd[k].text(0.2, 0.5, f'Hi! I\\'m axd[{k}]')\n",
    "    \n",
    "fig.suptitle('subplot_mosaic() loop');"
   ]
  },
  {
   "cell_type": "markdown",
   "metadata": {},
   "source": [
    "---"
   ]
  },
  {
   "cell_type": "markdown",
   "metadata": {},
   "source": [
    "In the code cell below, use `subplot_mosaic` and a `for` loop to make a figure with four plots (line through quartic), like the ones we made with `subplots()` above. "
   ]
  },
  {
   "cell_type": "code",
   "execution_count": null,
   "metadata": {},
   "outputs": [],
   "source": []
  },
  {
   "cell_type": "markdown",
   "metadata": {},
   "source": [
    "(hint: you'll need to change the way the data are stored)"
   ]
  },
  {
   "cell_type": "markdown",
   "metadata": {},
   "source": [
    "---"
   ]
  },
  {
   "cell_type": "markdown",
   "metadata": {},
   "source": [
    "### Making fancier layouts with `subplot_mosaic`"
   ]
  },
  {
   "cell_type": "markdown",
   "metadata": {},
   "source": [
    "A really great thing about using `subplot_mosaic()` is that we can have a single subplot span multiple rows or columns of the figure just by naming them accordingly:"
   ]
  },
  {
   "cell_type": "code",
   "execution_count": null,
   "metadata": {},
   "outputs": [],
   "source": [
    "datad = {'line': y1, 'parabola': y2, 'cubic': y3}        # dictionary for accessing data\n",
    "\n",
    "fig, axd = plt.subplot_mosaic([['line', 'cubic'],        # make 'cubic' span rows of right column\n",
    "                               ['parabola', 'cubic']],\n",
    "                              figsize=(5.5, 3.5), layout=\"constrained\")\n",
    "for k in axd:\n",
    "    axd[k].plot(x, datad[k])\n",
    "\n",
    "fig.suptitle('oh, fancy!');"
   ]
  },
  {
   "cell_type": "markdown",
   "metadata": {},
   "source": [
    "### Finer control with a grid specification (gridspec)"
   ]
  },
  {
   "cell_type": "markdown",
   "metadata": {},
   "source": [
    "We can have finer control over our rows and columns using a \"grid specification\". Using `subplot_mosaic()`, we can specify some details of the figure layout using the optional `gridspec_kw` argument. This argument takes a dictionary that allows us to specify the relative sizes of the rows and columns and the spacing between them.\n",
    "\n",
    "In the example below, we'll make left column and the top row relatively small:"
   ]
  },
  {
   "cell_type": "code",
   "execution_count": null,
   "metadata": {},
   "outputs": [],
   "source": [
    "datad = {'line': y1, 'parabola': y2, 'cubic': y3}\n",
    "\n",
    "gs_kw = dict(width_ratios=[1, 1.5], height_ratios=[1, 2]) # dict to set relative sizes of cols and rows\n",
    "\n",
    "fig, axd = plt.subplot_mosaic([['line', 'cubic'],\n",
    "                               ['parabola', 'cubic']],\n",
    "                              gridspec_kw=gs_kw,         # passing the dict to subplot_mosaic\n",
    "                              figsize=(5.5, 3.5), \n",
    "                              layout=\"constrained\")\n",
    "\n",
    "for k in axd:\n",
    "    axd[k].plot(x, datad[k])\n",
    "\n",
    "fig.suptitle('mulitple size plots');"
   ]
  },
  {
   "cell_type": "markdown",
   "metadata": {},
   "source": [
    "Each number in the xxx_ratios entry is the size of a row or column relative to the total height or width of the figure. So, in the example above, the top row is 1/3 of the figure and the bottom row is 2/3."
   ]
  },
  {
   "cell_type": "markdown",
   "metadata": {},
   "source": [
    "Crucially, we can also specify the amount of spacing between the rows and columns (to make room for labels, etc.)."
   ]
  },
  {
   "cell_type": "code",
   "execution_count": null,
   "metadata": {},
   "outputs": [],
   "source": [
    "datad = {'line': y1, 'parabola': y2, 'cubic': y3}\n",
    "\n",
    "gs_kw = dict(width_ratios=[1.4, 1], \n",
    "             height_ratios=[1, 2],\n",
    "             wspace=0.1, hspace=0.1)                   # spacing between the rows and cols\n",
    "\n",
    "fig, axd = plt.subplot_mosaic([['line', 'cubic'],\n",
    "                               ['parabola', 'cubic']],\n",
    "                              gridspec_kw=gs_kw, \n",
    "                              figsize=(5.5, 3.5), \n",
    "                              layout=\"constrained\")\n",
    "\n",
    "for k in axd:\n",
    "    axd[k].plot(x, datad[k])\n",
    "    \n",
    "\n",
    "fig.suptitle('space: the final frontier');"
   ]
  },
  {
   "cell_type": "markdown",
   "metadata": {},
   "source": [
    "---"
   ]
  },
  {
   "cell_type": "markdown",
   "metadata": {},
   "source": [
    "In the cell below, improve the figure above with annotations (axis labels, etc.)"
   ]
  },
  {
   "cell_type": "code",
   "execution_count": null,
   "metadata": {},
   "outputs": [],
   "source": []
  },
  {
   "cell_type": "markdown",
   "metadata": {},
   "source": [
    "---"
   ]
  },
  {
   "cell_type": "markdown",
   "metadata": {},
   "source": [
    "### Adding individual subplots with a gridspec (optional)"
   ]
  },
  {
   "cell_type": "markdown",
   "metadata": {},
   "source": [
    "Finally, we can add subfigures manually by \n",
    "\n",
    "* making a figure\n",
    "* adding a gridspec to the figure\n",
    "* adding plots by specifying their locations on the gridspec using numpy indexing\n",
    "\n",
    "This \"low level\" method is actually what happens behind the curtain when we specify a `gridspec_kw` argument as we did above.\n",
    "\n",
    "Here's an example:"
   ]
  },
  {
   "cell_type": "code",
   "execution_count": null,
   "metadata": {},
   "outputs": [],
   "source": [
    "fig = plt.figure(figsize=(5.5, 3.5), layout=\"constrained\")  # make a figure\n",
    "spec = fig.add_gridspec(2, 2)                               # specify the grid of subplots\n",
    "\n",
    "ax0 = fig.add_subplot(spec[0, :])                           # a subplot spanning the whole first row\n",
    "ax0.text(0.2, 0.5, \"a whole row!\")\n",
    "\n",
    "ax10 = fig.add_subplot(spec[1, 0])\n",
    "ax10.text(0.2, 0.5, \"lower left\")\n",
    "\n",
    "ax11 = fig.add_subplot(spec[1, 1])\n",
    "ax11.text(0.2, 0.5, \"lower right\")\n",
    "\n",
    "fig.suptitle('Manually added subplots, one spanning all columns');"
   ]
  },
  {
   "cell_type": "markdown",
   "metadata": {},
   "source": [
    "We can also specify the heights, widths, spacing, etc. in the call to `fig.add_gridspec()`. "
   ]
  },
  {
   "cell_type": "markdown",
   "metadata": {},
   "source": [
    "## Summary"
   ]
  },
  {
   "cell_type": "markdown",
   "metadata": {},
   "source": [
    "In this tutorial, we have learned the `matplotlib` techniques for figures containing multiple `axes` panels for plotting.\n",
    "It seems like a **lot**, but these are key techinques. Remember, though, you don't need to memorize everything! In general, for a given project, you will \n",
    "\n",
    "* settle on specific layout or layouts for the figures you want\n",
    "* write the code, *once*, to make a figure for given input data\n",
    "* embed the code for each layout in a `function`, so you can easily reuse the code as often as needed!"
   ]
  },
  {
   "cell_type": "markdown",
   "metadata": {},
   "source": []
  }
 ],
 "metadata": {
  "kernelspec": {
   "display_name": "base",
   "language": "python",
   "name": "python3"
  },
  "language_info": {
   "codemirror_mode": {
    "name": "ipython",
    "version": 3
   },
   "file_extension": ".py",
   "mimetype": "text/x-python",
   "name": "python",
   "nbconvert_exporter": "python",
   "pygments_lexer": "ipython3",
   "version": "3.11.5"
  }
 },
 "nbformat": 4,
 "nbformat_minor": 2
}
