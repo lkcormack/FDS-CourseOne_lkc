{
 "cells": [
  {
   "cell_type": "code",
   "execution_count": null,
   "metadata": {},
   "outputs": [],
   "source": [
    "text = \"Python\"\n",
    "\n",
    "# Positive indexing\n",
    "print(text[0])  # Output: 'P' (first character)\n",
    "print(text[1])  # Output: 'y' (second character)\n",
    "\n",
    "# Negative indexing\n",
    "print(text[-1]) # Output: 'n' (last character)\n",
    "print(text[-2]) # Output: 'o' (second last character)\n"
   ]
  },
  {
   "cell_type": "code",
   "execution_count": null,
   "metadata": {},
   "outputs": [],
   "source": [
    "sequence[start:stop:step]\n"
   ]
  },
  {
   "cell_type": "code",
   "execution_count": null,
   "metadata": {},
   "outputs": [],
   "source": [
    "text = \"Python programming\"\n",
    "\n",
    "# Getting a substring\n",
    "print(text[0:6])  # Output: 'Python'\n",
    "\n",
    "# Omitting start index; it defaults to the start of the string\n",
    "print(text[:6])   # Output: 'Python'\n",
    "\n",
    "# Omitting end index; it defaults to the end of the string\n",
    "print(text[7:])   # Output: 'programming'\n",
    "\n",
    "# Using a step value to get every other character\n",
    "print(text[0:6:2])  # Output: 'Pto'\n"
   ]
  },
  {
   "cell_type": "code",
   "execution_count": null,
   "metadata": {},
   "outputs": [],
   "source": [
    "my_list = [0, 1, 2, 3, 4, 5]\n",
    "\n",
    "# Getting a sublist\n",
    "print(my_list[1:4])  # Output: [1, 2, 3]\n",
    "\n",
    "# Getting every 2nd element\n",
    "print(my_list[0:6:2])  # Output: [0, 2, 4]\n",
    "\n",
    "# Reversing the list using slicing\n",
    "print(my_list[::-1])  # Output: [5, 4, 3, 2, 1, 0]\n"
   ]
  },
  {
   "cell_type": "code",
   "execution_count": null,
   "metadata": {},
   "outputs": [],
   "source": [
    "my_tuple = ('a', 'b', 'c', 'd', 'e')\n",
    "\n",
    "# Getting a sub-tuple\n",
    "print(my_tuple[2:4])  # Output: ('c', 'd')\n",
    "\n",
    "# Omitting indices to get a copy of the entire tuple\n",
    "print(my_tuple[:])  # Output: ('a', 'b', 'c', 'd', 'e')\n"
   ]
  },
  {
   "cell_type": "markdown",
   "metadata": {},
   "source": [
    "Tips\n",
    "The start index is inclusive, which means it is included in the slice.\n",
    "The stop index is exclusive, which means it is not included in the slice.\n",
    "If step is negative, the slice is done backwards, which can be used to reverse the sequence.\n",
    "Slicing can be used to create copies or new, smaller sequences."
   ]
  },
  {
   "cell_type": "markdown",
   "metadata": {},
   "source": []
  }
 ],
 "metadata": {
  "language_info": {
   "name": "python"
  },
  "orig_nbformat": 4
 },
 "nbformat": 4,
 "nbformat_minor": 2
}
