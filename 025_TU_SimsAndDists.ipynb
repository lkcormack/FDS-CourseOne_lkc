{
 "cells": [
  {
   "cell_type": "code",
   "execution_count": null,
   "metadata": {},
   "outputs": [],
   "source": []
  },
  {
   "cell_type": "markdown",
   "metadata": {},
   "source": [
    "\n",
    "\n",
    "## In-Class Exercise: Simulating Discrete and Continuous Random Variables\n",
    "\n",
    "### Objectives:\n",
    "This exercise is designed to help you understand the fundamentals of probability, the behavior of random variables, and the emergence of the normal distribution from discrete random processes through the Central Limit Theorem. It also introduces continuous random variables and their probability density functions.\n",
    "\n",
    "### Setup:\n",
    "Ensure you have Python installed with the Numpy and Matplotlib libraries.\n",
    "\n",
    "### Part 1: Simulating Discrete Random Variables\n",
    "\n",
    "#### Coin Flipping\n",
    "\n",
    "1. Use Numpy to simulate flipping a fair coin (with outcomes 0 for tails and 1 for heads) 100 times. \n",
    "2. Visualize the results in a bar chart showing the number of heads and tails.\n",
    "\n",
    "#### Dice Rolling\n",
    "\n",
    "1. Simulate rolling a fair six-sided die 100 times.\n",
    "2. Plot the results in a bar chart showing the frequency of each outcome (1 through 6).\n",
    "\n",
    "### Part 2: Approaching a Normal Distribution\n",
    "\n",
    "#### Coin Flips\n",
    "\n",
    "1. Simulate flipping a coin `n` times and counting the number of heads. Repeat this experiment 1000 times (each time with `n` flips) and plot the distribution of the number of heads using a histogram.\n",
    "2. Increase `n` step by step (e.g., 10, 50, 100, 250, 500) and observe how the distribution changes. Discuss how it starts to resemble a normal distribution as `n` increases.\n",
    "\n",
    "#### Dice Rolls\n",
    "\n",
    "1. Simulate rolling `k` dice and adding up the scores. Repeat this 1000 times and plot the resulting sums in a histogram.\n",
    "2. Increase `k` incrementally (e.g., 2, 5, 10, 20) and observe how the distribution evolves. Illustrate how, as `k` increases, the distribution approximates a normal distribution.\n",
    "\n",
    "### Part 3: Continuous Examples\n",
    "\n",
    "1. Simulate a continuous random variable by generating 1000 random numbers from a uniform distribution between 0 and 1. Plot the results in a histogram.\n",
    "2. Discuss the probability density function (PDF) for a uniform distribution.\n",
    "\n",
    "### Part 4: Probability Density Functions\n",
    "\n",
    "1. Plot the PDF of a normal distribution with mean 0 and standard deviation 1 using Numpy and Matplotlib.\n",
    "2. Overlay the histogram of a sample of 1000 random numbers generated from a normal distribution with the same mean and standard deviation to show the correspondence with the PDF.\n",
    "\n",
    "### Deliverables:\n",
    "- Write Python scripts for each part of the exercise.\n",
    "- Generate and display the relevant plots during the class.\n",
    "- Discuss the results and the underlying probability concepts with the class.\n",
    "\n"
   ]
  }
 ],
 "metadata": {
  "kernelspec": {
   "display_name": "base",
   "language": "python",
   "name": "python3"
  },
  "language_info": {
   "name": "python",
   "version": "3.11.5"
  }
 },
 "nbformat": 4,
 "nbformat_minor": 2
}
