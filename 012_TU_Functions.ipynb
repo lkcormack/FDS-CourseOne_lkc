{
 "cells": [
  {
   "cell_type": "markdown",
   "id": "06cc4c19-0981-4e4b-9d66-fa7a1b5c58e2",
   "metadata": {},
   "source": [
    "---"
   ]
  },
  {
   "cell_type": "markdown",
   "id": "dd0d23e7-4b7e-4dc3-8492-bda116fbb3f1",
   "metadata": {},
   "source": [
    "### 1. Introduction\n",
    "\n",
    "- Today, we'll uncover the magic of Functions, explore the world of Namespaces and Variable Scopes, and wrap up by learning how to make our own Python Modules. These components are foundational to any Pythonista's journey."
   ]
  },
  {
   "cell_type": "markdown",
   "id": "6fe06e16-4d6c-4417-a976-33465e1e491b",
   "metadata": {},
   "source": [
    "---"
   ]
  },
  {
   "cell_type": "markdown",
   "id": "58a2ebe8-b09f-4f18-b0a4-a253b2d85301",
   "metadata": {},
   "source": [
    "### 2. Functions\n",
    "\n",
    "**2.1 Definition**\n",
    "- **What is a function?**\n",
    "  - A function is a reusable piece of code that performs a specific task.\n",
    "  \n",
    "- **Why use functions?**\n",
    "  - Functions help in breaking down large programs into smaller and modular chunks, making code more organized, reusable, and easier to understand."
   ]
  },
  {
   "cell_type": "markdown",
   "id": "70877a3d-2333-484d-b5bd-347c5d35397c",
   "metadata": {},
   "source": [
    "**2.2 Basic Syntax**\n",
    "- **Define a simple function:**"
   ]
  },
  {
   "cell_type": "code",
   "execution_count": 3,
   "id": "5d25bc3f-a734-4daa-a732-5833947974f1",
   "metadata": {},
   "outputs": [],
   "source": [
    "def greet():\n",
    "    print(\"Hello, World!\")"
   ]
  },
  {
   "cell_type": "markdown",
   "id": "3d52f831-e83e-4a3d-b0fb-46b349f0070a",
   "metadata": {},
   "source": [
    "  - The `def` keyword signals the start of a function definition, followed by the function name and parentheses."
   ]
  },
  {
   "cell_type": "markdown",
   "id": "d8eb8c91-e290-4867-a876-61148dbf134b",
   "metadata": {},
   "source": [
    "**2.3 Parameters and Return**\n",
    "- **Functions with parameters:**\n",
    " "
   ]
  },
  {
   "cell_type": "code",
   "execution_count": null,
   "id": "cdf2c8d9-22cc-4382-8d27-5196087e9523",
   "metadata": {},
   "outputs": [],
   "source": [
    "def greet(name):\n",
    "    print(f\"Hello, {name}!\")"
   ]
  },
  {
   "cell_type": "markdown",
   "id": "6a45cd5e-21bd-42db-8d92-74138a7aa330",
   "metadata": {},
   "source": [
    " - Parameters allow us to pass values into functions, making them more versatile."
   ]
  },
  {
   "cell_type": "markdown",
   "id": "93ce14bf-3b73-4966-85bc-4ae3fc22631b",
   "metadata": {},
   "source": [
    "- **Using `return`:**"
   ]
  },
  {
   "cell_type": "code",
   "execution_count": 4,
   "id": "b21acb59-5678-48b0-8813-2ae66638ce97",
   "metadata": {},
   "outputs": [],
   "source": [
    "def add(x, y):\n",
    "    return x + y"
   ]
  },
  {
   "cell_type": "markdown",
   "id": "d7eec8ed-e1a8-43ad-a83d-a9e0a13a709d",
   "metadata": {},
   "source": [
    "  - The `return` statement lets a function send a result back to the point where the function was called."
   ]
  },
  {
   "cell_type": "markdown",
   "id": "6d06f100-03f0-4296-97d0-5eee24131522",
   "metadata": {},
   "source": [
    "---"
   ]
  },
  {
   "cell_type": "markdown",
   "id": "b1820fc6-4456-4e8e-aa91-8096763eeec4",
   "metadata": {},
   "source": [
    "- Now, it's your turn! Please write a function that multiplies two numbers and returns the result."
   ]
  },
  {
   "cell_type": "code",
   "execution_count": null,
   "id": "2b566cd6-aa6e-4878-aa83-3b60a26d2ef4",
   "metadata": {},
   "outputs": [],
   "source": []
  },
  {
   "cell_type": "markdown",
   "id": "6a933b09-5744-4ba4-9c74-27f5f9400f69",
   "metadata": {},
   "source": [
    "---"
   ]
  },
  {
   "cell_type": "markdown",
   "id": "dd12f5af-0396-4f56-8629-182f07b247c0",
   "metadata": {},
   "source": [
    "### 3. Namespaces and Variable Scope"
   ]
  },
  {
   "cell_type": "markdown",
   "id": "67098804-b264-4a10-a87d-a94e4bbc87ac",
   "metadata": {},
   "source": [
    "Of course! Let's delve deeper into namespaces and variable scope, tailored for a Jupyter notebook:\n",
    "\n",
    "---\n",
    "\n",
    "### 3. Namespaces and Variable Scope"
   ]
  },
  {
   "cell_type": "markdown",
   "id": "65592705-cb14-4465-a0a1-ab3c8446d472",
   "metadata": {},
   "source": [
    "#### 3.1 What is a Namespace?\n",
    "\n",
    "A namespace in Python refers to a container where names are mapped to objects, such as variables, functions, and classes. Think of it as a dictionary where the keys are variable names and the values are the actual objects these names refer to.\n",
    "\n",
    "There are several types of namespaces:\n",
    "\n",
    "1. **Built-in Namespace**: This encompasses built-in functions (e.g., `print()`, `len()`) and built-in exception names.\n",
    "2. **Global (Module) Namespace**: This is specific to a module. Variables declared in the main body of the module script, outside any function, belong to this namespace.\n",
    "3. **Enclosing (Outer function) Namespace**: This is specific to nested functions. It encompasses non-local, but also non-global variables.\n",
    "4. **Local Namespace**: Specific to a function. It is created when a function is called, and only lasts until the function finishes execution.\n",
    "\n",
    "Namespaces in Python are created at different moments during code execution and have different lifetimes. For example, the built-in namespace is created when the Python interpreter starts up and remains until the interpreter quits. The global namespace for a module is created when the module definition is read in, and the local namespace for a function is created when the function is called."
   ]
  },
  {
   "cell_type": "markdown",
   "id": "0a9aca24-001a-4c8b-8b3b-cba47e252ce0",
   "metadata": {
    "jp-MarkdownHeadingCollapsed": true
   },
   "source": [
    "#### 3.2 Local vs. Global Scope\n",
    "\n",
    "To understand namespaces better, we need to grasp the concept of variable scope. The scope of a variable determines the portion of the code where you can access a particular identifier. There are two main scopes:\n",
    "\n",
    "1. **Global Scope**: A variable declared outside of any function has a global scope. This means it can be accessed from any function within the module but not from functions in other modules unless explicitly imported.\n",
    "\n",
    "2. **Local Scope**: A variable declared inside a function has a local scope. It can only be accessed within that function, making it inaccessible from the outside world.\n",
    "\n",
    "Here's a simple demonstration:"
   ]
  },
  {
   "cell_type": "code",
   "execution_count": null,
   "id": "fb73e53e-3446-4c42-9e0c-cbe827b8f43c",
   "metadata": {},
   "outputs": [],
   "source": [
    "# This is a global variable\n",
    "global_var = \"I'm global!\"\n",
    "\n",
    "def demo_scope():\n",
    "    # This is a local variable\n",
    "    local_var = \"I'm local!\"\n",
    "    print(global_var)  # This will work\n",
    "    print(local_var)   # This will work too\n",
    "\n",
    "demo_scope()\n",
    "\n",
    "# Outside of the function\n",
    "print(global_var)  # This will work\n",
    "# print(local_var)   # Uncommenting this will cause an error"
   ]
  },
  {
   "cell_type": "markdown",
   "id": "b6dd3cbf-a7cb-456f-ace9-7e00fb5568fe",
   "metadata": {},
   "source": [
    "#### 3.3 The `global` and `nonlocal` Keywords\n",
    "\n",
    "Sometimes, you might want to modify a global variable from within a function. By default, if you assign a value to a variable inside a function, Python assumes it is a local variable unless explicitly told otherwise. This is where the `global` keyword comes into play."
   ]
  },
  {
   "cell_type": "code",
   "execution_count": null,
   "id": "6138dfb2-c3a3-4c1f-bfdf-6d3a885acd2c",
   "metadata": {},
   "outputs": [],
   "source": [
    "x = 10\n",
    "\n",
    "def modify_global():\n",
    "    global x\n",
    "    x = 20\n",
    "\n",
    "modify_global()\n",
    "print(x)  # Outputs: 20"
   ]
  },
  {
   "cell_type": "markdown",
   "id": "3e952c59-fa48-4f0b-9d2c-390b68e7ecd2",
   "metadata": {},
   "source": [
    "For nested functions, where you want to modify a variable in the enclosing (non-global, non-local) scope, you can use the `nonlocal` keyword:"
   ]
  },
  {
   "cell_type": "code",
   "execution_count": null,
   "id": "e573c92b-da74-4348-90cd-ffe31c15e964",
   "metadata": {},
   "outputs": [],
   "source": [
    "def outer():\n",
    "    y = 15\n",
    "    \n",
    "    def inner():\n",
    "        nonlocal y\n",
    "        y = 25\n",
    "    \n",
    "    inner()\n",
    "    print(y)  # Outputs: 25\n",
    "\n",
    "outer()"
   ]
  },
  {
   "cell_type": "markdown",
   "id": "bb1a0711-32ba-4e17-8945-13e582866c1d",
   "metadata": {},
   "source": [
    "#### 3.4 Hands-On Practice\n",
    "\n",
    "Given a code snippet, try to identify the local and global variables. Then, practice using the `global` and `nonlocal` keywords to modify variables.\n",
    "\n",
    "For instance, write a function that uses both a global variable and a local variable. Then, attempt to modify the global variable within the function using the `global` keyword."
   ]
  },
  {
   "cell_type": "markdown",
   "id": "ae8dde13-c561-4aba-ae40-b1bc124f7708",
   "metadata": {},
   "source": [
    "---"
   ]
  },
  {
   "cell_type": "markdown",
   "id": "dd94bebf-ec32-475d-ac2c-033f2fef5770",
   "metadata": {},
   "source": [
    "---"
   ]
  },
  {
   "cell_type": "markdown",
   "id": "65742d59-f8b8-46a8-8718-ee44a9271464",
   "metadata": {},
   "source": [
    "### 4. Making Our Own Modules"
   ]
  },
  {
   "cell_type": "markdown",
   "id": "d25996e7-ea12-40df-8726-ca7d8391c55c",
   "metadata": {},
   "source": [
    " **4.1 What is a Module?**"
   ]
  },
  {
   "cell_type": "markdown",
   "id": "7282b323-0394-4293-ab61-59ce28370b76",
   "metadata": {},
   "source": [
    "- **Definition and benefits of using modules.**\n",
    "  - A module is a Python file that contains a collection of functions, variables, and classes. It allows for code organization and reusability.\n",
    "\n",
    "- **Built-in vs. custom modules.**\n",
    "  - Python has many built-in modules, like `math` and `datetime`. But we can also create our own custom modules."
   ]
  },
  {
   "cell_type": "markdown",
   "id": "a5d05722-7bab-4c11-84b0-901df2192014",
   "metadata": {},
   "source": [
    "**4.2 Creating a Simple Module**"
   ]
  },
  {
   "cell_type": "markdown",
   "id": "1a0e9c2b-981e-46fd-a529-95757e421bbd",
   "metadata": {},
   "source": [
    "- Save a Python file with the name `mymodule.py` and add the following code:"
   ]
  },
  {
   "cell_type": "code",
   "execution_count": 7,
   "id": "d5414a86-a647-4083-a114-f8645350e2ce",
   "metadata": {},
   "outputs": [],
   "source": [
    "def say_hello(name):\n",
    "    return f\"Hello, {name}!\""
   ]
  },
  {
   "cell_type": "markdown",
   "id": "024600e6-46a2-404d-88bf-454d6c28aeea",
   "metadata": {},
   "source": [
    "  - This becomes our custom module."
   ]
  },
  {
   "cell_type": "markdown",
   "id": "3f5bd41f-5f5b-4b61-acbd-b8c9b1dceaa7",
   "metadata": {},
   "source": [
    "**4.3 Importing Modules**"
   ]
  },
  {
   "cell_type": "markdown",
   "id": "5f2c11a4-a297-4b71-bac5-d4e1ce890f62",
   "metadata": {},
   "source": [
    "- **The `import` statement.**"
   ]
  },
  {
   "cell_type": "markdown",
   "id": "39fb96f8-9760-4f11-97ab-eeb25129f65a",
   "metadata": {},
   "source": [
    "import mymodule\n",
    "  print(mymodule.say_hello('Alice'))"
   ]
  },
  {
   "cell_type": "markdown",
   "id": "23f93de2-0f6c-4de3-b5c6-849fe4514ac0",
   "metadata": {},
   "source": [
    "- \"With the `import` statement, we can use functions and variables from our module.\""
   ]
  },
  {
   "cell_type": "markdown",
   "id": "c16e78be-527e-49ff-bdde-919883735a5a",
   "metadata": {},
   "source": [
    "- **Different ways to import.**"
   ]
  },
  {
   "cell_type": "code",
   "execution_count": 8,
   "id": "a49f0209-0278-499c-ac5f-f484391290ca",
   "metadata": {},
   "outputs": [
    {
     "ename": "IndentationError",
     "evalue": "unexpected indent (2240595743.py, line 2)",
     "output_type": "error",
     "traceback": [
      "\u001b[0;36m  Cell \u001b[0;32mIn[8], line 2\u001b[0;36m\u001b[0m\n\u001b[0;31m    print(say_hello('Bob'))\u001b[0m\n\u001b[0m    ^\u001b[0m\n\u001b[0;31mIndentationError\u001b[0m\u001b[0;31m:\u001b[0m unexpected indent\n"
     ]
    }
   ],
   "source": [
    "from mymodule import say_hello\n",
    "  print(say_hello('Bob'))"
   ]
  },
  {
   "cell_type": "markdown",
   "id": "75997184-eadc-4e68-83be-590bce244a43",
   "metadata": {},
   "source": [
    "  - We can also import specific functions or classes, which can be useful to keep our code concise."
   ]
  },
  {
   "cell_type": "markdown",
   "id": "fcb29312-4545-4c4e-a7ee-233951b4390a",
   "metadata": {},
   "source": [
    "---"
   ]
  },
  {
   "cell_type": "markdown",
   "id": "bec1c783-6985-488c-ad7d-3c2502dcc694",
   "metadata": {},
   "source": [
    "- \"Create a module with 2-3 functions of your choice. Then, in a new Python file, import and use these functions.\""
   ]
  },
  {
   "cell_type": "code",
   "execution_count": null,
   "id": "9cd80ec5-e259-44e1-9c60-9c19d3821774",
   "metadata": {},
   "outputs": [],
   "source": []
  },
  {
   "cell_type": "markdown",
   "id": "4305a085-eea6-4be0-b48f-23c164bdcc46",
   "metadata": {},
   "source": [
    "---"
   ]
  },
  {
   "cell_type": "markdown",
   "id": "0f27a750-8ca8-4a84-8cf8-3cb79823ce70",
   "metadata": {},
   "source": [
    "### 5. Summary"
   ]
  },
  {
   "cell_type": "code",
   "execution_count": null,
   "id": "e5a8525a-e6b5-4a51-847a-751589d00047",
   "metadata": {},
   "outputs": [],
   "source": []
  },
  {
   "cell_type": "code",
   "execution_count": null,
   "id": "00bfb4e0-a964-42d8-8a14-a4104a9bef65",
   "metadata": {},
   "outputs": [],
   "source": []
  },
  {
   "cell_type": "code",
   "execution_count": null,
   "id": "d63b7d29-8ab8-4c93-9882-d8f7c44a8fa8",
   "metadata": {},
   "outputs": [],
   "source": []
  }
 ],
 "metadata": {
  "kernelspec": {
   "display_name": "Python 3 (ipykernel)",
   "language": "python",
   "name": "python3"
  },
  "language_info": {
   "codemirror_mode": {
    "name": "ipython",
    "version": 3
   },
   "file_extension": ".py",
   "mimetype": "text/x-python",
   "name": "python",
   "nbconvert_exporter": "python",
   "pygments_lexer": "ipython3",
   "version": "3.8.17"
  }
 },
 "nbformat": 4,
 "nbformat_minor": 5
}
