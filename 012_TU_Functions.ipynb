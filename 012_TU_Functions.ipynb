{
 "cells": [
  {
   "cell_type": "markdown",
   "id": "06cc4c19-0981-4e4b-9d66-fa7a1b5c58e2",
   "metadata": {},
   "source": [
    "---"
   ]
  },
  {
   "cell_type": "markdown",
   "id": "dd0d23e7-4b7e-4dc3-8492-bda116fbb3f1",
   "metadata": {},
   "source": [
    "### 1. Introduction\n",
    "\n",
    "- Today, we'll uncover the magic of Functions, explore the world of Namespaces and Variable Scopes, and wrap up by learning how to make our own Python Modules. These components are foundational to any Pythonista's journey."
   ]
  },
  {
   "cell_type": "markdown",
   "id": "6fe06e16-4d6c-4417-a976-33465e1e491b",
   "metadata": {},
   "source": [
    "---"
   ]
  },
  {
   "cell_type": "markdown",
   "id": "58a2ebe8-b09f-4f18-b0a4-a253b2d85301",
   "metadata": {},
   "source": [
    "### 2. Functions\n",
    "\n",
    "**2.1 Definition**\n",
    "- **What is a function?**\n",
    "  - A function is a reusable piece of code that performs a specific task.\n",
    "  - You can think of a function as a \"magic black box\" that will answer a specific quesion for you\n",
    "  \n",
    "- **Why use functions?**\n",
    "  - Functions help in breaking down large programs into smaller and modular chunks, making code more organized, reusable, and easier to understand.\n",
    "  - Functions allow you repeat arbitrarily complex operations in you code with just a simple call to the function.\n",
    "  - To use functions, you don't need to know what's in the \"box\"; you can just use the function."
   ]
  },
  {
   "cell_type": "markdown",
   "id": "a62d4da2-7dad-4e75-823a-a19ab53de5e8",
   "metadata": {},
   "source": [
    "Consider the following simple code that prints the length of a string:"
   ]
  },
  {
   "cell_type": "code",
   "execution_count": 5,
   "id": "06da0346-9033-407b-9968-0fdcac0de20e",
   "metadata": {},
   "outputs": [
    {
     "name": "stdout",
     "output_type": "stream",
     "text": [
      "The string is 12 characters long.\n"
     ]
    }
   ],
   "source": [
    "hello_str = \"Hello world!\"\n",
    "str_len = len(hello_str)\n",
    "str_len_str = str(str_len)\n",
    "print(\"The string is \" + str_len_str + \" characters long.\")"
   ]
  },
  {
   "cell_type": "markdown",
   "id": "cf3abbad-43e5-42ed-aad0-e9f73f2ec92b",
   "metadata": {},
   "source": [
    "This code uses three functions:\n",
    "\n",
    "* `len()` to compute the length of our string\n",
    "* `str()` to convert the integer length to a string for printing\n",
    "* `print()` to print out a message"
   ]
  },
  {
   "cell_type": "markdown",
   "id": "5d1faaeb-68f7-437a-9e91-42617e0d52dd",
   "metadata": {},
   "source": [
    "If you think about it, each of these functions calls some code that some other programmer wrote and then made available to Python users. But to use the function, you don't have to know anything about the code inside, you just use the function! \n",
    "\n",
    "For all you care, the `len()` function could send a message via ESP to a wizard, who then casts a \"caluculato lengthamo!\" spell. As long as it works, we can just use it over and over in our code without a second thought.\n",
    "\n",
    "Another analogy is that a function is like a kitchen at a restaurant. If your a server at a restaurant, you just send an order into the kitchen, and then food appears in the window. As a server, you don't even have to know how to cook; you put an order in, and food comes out."
   ]
  },
  {
   "cell_type": "markdown",
   "id": "e70eee17-faf0-4fc0-844c-b0c88006529e",
   "metadata": {},
   "source": [
    "**2.2 Writing Our Own Funtions**\n",
    "\n",
    "One of the really great things about Python is that it's very easy to *write our own functions!* We'll start with some simple silly examples, but as you start to write more complicated code, you'll quickly see the power of being able to write your own functions and use them over and over again."
   ]
  },
  {
   "cell_type": "markdown",
   "id": "190fbac1-c13d-4d3d-aed8-caa6c3333b9e",
   "metadata": {},
   "source": [
    "- **Basic Syntax:**"
   ]
  },
  {
   "cell_type": "markdown",
   "id": "93398066-e14b-4fd6-aedb-5f35c48786f6",
   "metadata": {},
   "source": [
    "To make a function, there are just two basic steps:\n",
    "\n",
    "* Start `def`ining your function by naming it\n",
    "* Write the actual code for your function in an *indented* code block\n",
    "\n",
    "Here's a simple example to greet the world:"
   ]
  },
  {
   "cell_type": "code",
   "execution_count": 6,
   "id": "5d25bc3f-a734-4daa-a732-5833947974f1",
   "metadata": {},
   "outputs": [],
   "source": [
    "def greet():\n",
    "    print(\"Hello, World!\")"
   ]
  },
  {
   "cell_type": "markdown",
   "id": "3d52f831-e83e-4a3d-b0fb-46b349f0070a",
   "metadata": {},
   "source": [
    "  - The `def` keyword signals the start of a function definition, followed by the function name and parentheses.\n",
    "  - The code following in the *indented* code block does the actual work of the function."
   ]
  },
  {
   "cell_type": "markdown",
   "id": "f08de5b1-3456-49b7-aed1-76ef69706857",
   "metadata": {},
   "source": [
    "Now that we have `def`ined out function, we can use it at will:"
   ]
  },
  {
   "cell_type": "code",
   "execution_count": 7,
   "id": "79df22de-f6a4-4c85-a4fd-2e94e28f1bdc",
   "metadata": {},
   "outputs": [
    {
     "name": "stdout",
     "output_type": "stream",
     "text": [
      "Hello, World!\n"
     ]
    }
   ],
   "source": [
    "greet()"
   ]
  },
  {
   "cell_type": "markdown",
   "id": "82267343-877b-4f76-be1d-c50cad38a8c9",
   "metadata": {},
   "source": [
    "**2.3 Parameters and Return Values**\n",
    "The above example is very trivial, as it doesn the exact same thing every time. What makes function really useful is that you can \n",
    "\n",
    "* give them *inputs* in the form of Parameters (Arguments) to the function\n",
    "* get answers or `return` values from the function"
   ]
  },
  {
   "cell_type": "markdown",
   "id": "423dfcff-ce48-424a-a656-2f16b0499190",
   "metadata": {},
   "source": [
    "- **Functions with parameters:**\n",
    " Here's a function with one input parameter, \"name\"."
   ]
  },
  {
   "cell_type": "code",
   "execution_count": 9,
   "id": "cdf2c8d9-22cc-4382-8d27-5196087e9523",
   "metadata": {},
   "outputs": [],
   "source": [
    "def greet(name):\n",
    "    print(f\"Hello, {name}!\")"
   ]
  },
  {
   "cell_type": "markdown",
   "id": "b9f60ee7-92bb-4f30-b2a2-4b0b377d359b",
   "metadata": {},
   "source": [
    "To use the function, we need to specify a \"name\" argument when we call it."
   ]
  },
  {
   "cell_type": "code",
   "execution_count": 10,
   "id": "2c527d42-0b3d-4762-8694-d7ed7656b17b",
   "metadata": {},
   "outputs": [
    {
     "name": "stdout",
     "output_type": "stream",
     "text": [
      "Hello, Monty Python!\n"
     ]
    }
   ],
   "source": [
    "greet(\"Monty Python\")"
   ]
  },
  {
   "cell_type": "markdown",
   "id": "f0492413-ef94-40e8-b56f-55b8faea68ea",
   "metadata": {},
   "source": [
    "Parameters allow us to pass values (arguments) into functions, making them more versatile. Now our `greet()` function can greet anyone we want, not just \"world\"!"
   ]
  },
  {
   "cell_type": "markdown",
   "id": "9560a929-8160-40ba-b74b-a92558ea7108",
   "metadata": {},
   "source": [
    "---"
   ]
  },
  {
   "cell_type": "markdown",
   "id": "fc9a33b3-aa1d-4133-9e8b-fccfccea33c9",
   "metadata": {},
   "source": [
    "Aside: technically speaking, the \"parameter\" is the varible name the function uses, and the \"argument\" is the value of the parameter. In the example above, `name` is the function parameter, and \"Monte Python\" was the argument (value) of `name` when we called the function. \n",
    "\n",
    "In practice, you will hear these used interchangebly like \"The function has 3 parameters\" or \"The function takes 3 arguments\"."
   ]
  },
  {
   "cell_type": "markdown",
   "id": "057416d9-bb87-43ba-9818-b915401e2c6d",
   "metadata": {},
   "source": [
    "---"
   ]
  },
  {
   "cell_type": "markdown",
   "id": "93ce14bf-3b73-4966-85bc-4ae3fc22631b",
   "metadata": {},
   "source": [
    "- **Using `return`:**"
   ]
  },
  {
   "cell_type": "markdown",
   "id": "6c302b97-1798-4265-b079-283466673b57",
   "metadata": {},
   "source": [
    "Most functions we'll write will give some sort of answer back to us. We specify what to return with the `return` keyword."
   ]
  },
  {
   "cell_type": "markdown",
   "id": "b63f3c11-3c8e-4174-ae47-82d0a2e54f62",
   "metadata": {},
   "source": [
    "Here's simple function to compute the average of two numbers:"
   ]
  },
  {
   "cell_type": "code",
   "execution_count": 12,
   "id": "b21acb59-5678-48b0-8813-2ae66638ce97",
   "metadata": {},
   "outputs": [],
   "source": [
    "def ave(x, y):\n",
    "    return (x + y)/2"
   ]
  },
  {
   "cell_type": "markdown",
   "id": "d7eec8ed-e1a8-43ad-a83d-a9e0a13a709d",
   "metadata": {},
   "source": [
    "  - The `return` statement lets a function send a result back to the point where the function was called. Try calling the `ave()` function a few times:"
   ]
  },
  {
   "cell_type": "code",
   "execution_count": 13,
   "id": "2bd4797f-f2e3-4307-b4ab-71d19e784992",
   "metadata": {},
   "outputs": [
    {
     "data": {
      "text/plain": [
       "0.0"
      ]
     },
     "execution_count": 13,
     "metadata": {},
     "output_type": "execute_result"
    }
   ],
   "source": [
    "ave(3, -3)"
   ]
  },
  {
   "cell_type": "markdown",
   "id": "6d06f100-03f0-4296-97d0-5eee24131522",
   "metadata": {},
   "source": [
    "---"
   ]
  },
  {
   "cell_type": "markdown",
   "id": "b1820fc6-4456-4e8e-aa91-8096763eeec4",
   "metadata": {},
   "source": [
    "Now, it's your turn! Please write a function that multiplies two numbers and returns the result."
   ]
  },
  {
   "cell_type": "code",
   "execution_count": null,
   "id": "2b566cd6-aa6e-4878-aa83-3b60a26d2ef4",
   "metadata": {},
   "outputs": [],
   "source": []
  },
  {
   "cell_type": "markdown",
   "id": "b43c4b67-fb74-4993-ba90-a65d879e1e16",
   "metadata": {},
   "source": [
    "Now test your function!"
   ]
  },
  {
   "cell_type": "code",
   "execution_count": null,
   "id": "91cfee33-3c85-429b-84e6-646be55d57b8",
   "metadata": {},
   "outputs": [],
   "source": []
  },
  {
   "cell_type": "markdown",
   "id": "6a933b09-5744-4ba4-9c74-27f5f9400f69",
   "metadata": {},
   "source": [
    "---"
   ]
  },
  {
   "cell_type": "markdown",
   "id": "02c64111-f2c3-47b4-8606-fdd5cb5cd377",
   "metadata": {},
   "source": [
    "- **returning multiple values:**"
   ]
  },
  {
   "cell_type": "markdown",
   "id": "2564b25f-2924-4f9d-a69c-f776e072ae2b",
   "metadata": {},
   "source": [
    "If you need to return multiple values, Python is flexible. "
   ]
  },
  {
   "cell_type": "code",
   "execution_count": null,
   "id": "ac512e03-5c50-43e1-95f8-8aa5de5474f4",
   "metadata": {},
   "outputs": [],
   "source": []
  },
  {
   "cell_type": "markdown",
   "id": "bb5b63da-593d-44fb-8b79-9a8d224216c1",
   "metadata": {},
   "source": []
  },
  {
   "cell_type": "code",
   "execution_count": null,
   "id": "cb1beecd-4f64-4786-8e0b-b93f70f6a3a9",
   "metadata": {},
   "outputs": [],
   "source": []
  },
  {
   "cell_type": "code",
   "execution_count": null,
   "id": "ab31ba76-85d4-488f-afd0-7d7f7eef93f2",
   "metadata": {},
   "outputs": [],
   "source": []
  },
  {
   "cell_type": "markdown",
   "id": "7d130841-f7e1-4639-bf83-81fe1931a8ef",
   "metadata": {},
   "source": [
    "---"
   ]
  },
  {
   "cell_type": "markdown",
   "id": "dd12f5af-0396-4f56-8629-182f07b247c0",
   "metadata": {},
   "source": [
    "### 3. Namespaces and Variable Scope"
   ]
  },
  {
   "cell_type": "markdown",
   "id": "67098804-b264-4a10-a87d-a94e4bbc87ac",
   "metadata": {},
   "source": [
    "Of course! Let's delve deeper into namespaces and variable scope, tailored for a Jupyter notebook:\n",
    "\n",
    "---\n",
    "\n",
    "### 3. Namespaces and Variable Scope"
   ]
  },
  {
   "cell_type": "markdown",
   "id": "65592705-cb14-4465-a0a1-ab3c8446d472",
   "metadata": {},
   "source": [
    "#### 3.1 What is a Namespace?\n",
    "\n",
    "A namespace in Python refers to a container where names are mapped to objects, such as variables, functions, and classes. Think of it as a dictionary where the keys are variable names and the values are the actual objects these names refer to.\n",
    "\n",
    "There are several types of namespaces:\n",
    "\n",
    "1. **Built-in Namespace**: This encompasses built-in functions (e.g., `print()`, `len()`) and built-in exception names.\n",
    "2. **Global (Module) Namespace**: This is specific to a module. Variables declared in the main body of the module script, outside any function, belong to this namespace.\n",
    "3. **Enclosing (Outer function) Namespace**: This is specific to nested functions. It encompasses non-local, but also non-global variables.\n",
    "4. **Local Namespace**: Specific to a function. It is created when a function is called, and only lasts until the function finishes execution.\n",
    "\n",
    "Namespaces in Python are created at different moments during code execution and have different lifetimes. For example, the built-in namespace is created when the Python interpreter starts up and remains until the interpreter quits. The global namespace for a module is created when the module definition is read in, and the local namespace for a function is created when the function is called."
   ]
  },
  {
   "cell_type": "markdown",
   "id": "0a9aca24-001a-4c8b-8b3b-cba47e252ce0",
   "metadata": {
    "jp-MarkdownHeadingCollapsed": true
   },
   "source": [
    "#### 3.2 Local vs. Global Scope\n",
    "\n",
    "To understand namespaces better, we need to grasp the concept of variable scope. The scope of a variable determines the portion of the code where you can access a particular identifier. There are two main scopes:\n",
    "\n",
    "1. **Global Scope**: A variable declared outside of any function has a global scope. This means it can be accessed from any function within the module but not from functions in other modules unless explicitly imported.\n",
    "\n",
    "2. **Local Scope**: A variable declared inside a function has a local scope. It can only be accessed within that function, making it inaccessible from the outside world.\n",
    "\n",
    "Here's a simple demonstration:"
   ]
  },
  {
   "cell_type": "code",
   "execution_count": null,
   "id": "fb73e53e-3446-4c42-9e0c-cbe827b8f43c",
   "metadata": {},
   "outputs": [],
   "source": [
    "# This is a global variable\n",
    "global_var = \"I'm global!\"\n",
    "\n",
    "def demo_scope():\n",
    "    # This is a local variable\n",
    "    local_var = \"I'm local!\"\n",
    "    print(global_var)  # This will work\n",
    "    print(local_var)   # This will work too\n",
    "\n",
    "demo_scope()\n",
    "\n",
    "# Outside of the function\n",
    "print(global_var)  # This will work\n",
    "# print(local_var)   # Uncommenting this will cause an error"
   ]
  },
  {
   "cell_type": "markdown",
   "id": "b6dd3cbf-a7cb-456f-ace9-7e00fb5568fe",
   "metadata": {},
   "source": [
    "#### 3.3 The `global` and `nonlocal` Keywords\n",
    "\n",
    "Sometimes, you might want to modify a global variable from within a function. By default, if you assign a value to a variable inside a function, Python assumes it is a local variable unless explicitly told otherwise. This is where the `global` keyword comes into play."
   ]
  },
  {
   "cell_type": "code",
   "execution_count": null,
   "id": "6138dfb2-c3a3-4c1f-bfdf-6d3a885acd2c",
   "metadata": {},
   "outputs": [],
   "source": [
    "x = 10\n",
    "\n",
    "def modify_global():\n",
    "    global x\n",
    "    x = 20\n",
    "\n",
    "modify_global()\n",
    "print(x)  # Outputs: 20"
   ]
  },
  {
   "cell_type": "markdown",
   "id": "3e952c59-fa48-4f0b-9d2c-390b68e7ecd2",
   "metadata": {},
   "source": [
    "For nested functions, where you want to modify a variable in the enclosing (non-global, non-local) scope, you can use the `nonlocal` keyword:"
   ]
  },
  {
   "cell_type": "code",
   "execution_count": null,
   "id": "e573c92b-da74-4348-90cd-ffe31c15e964",
   "metadata": {},
   "outputs": [],
   "source": [
    "def outer():\n",
    "    y = 15\n",
    "    \n",
    "    def inner():\n",
    "        nonlocal y\n",
    "        y = 25\n",
    "    \n",
    "    inner()\n",
    "    print(y)  # Outputs: 25\n",
    "\n",
    "outer()"
   ]
  },
  {
   "cell_type": "markdown",
   "id": "bb1a0711-32ba-4e17-8945-13e582866c1d",
   "metadata": {},
   "source": [
    "#### 3.4 Hands-On Practice\n",
    "\n",
    "Given a code snippet, try to identify the local and global variables. Then, practice using the `global` and `nonlocal` keywords to modify variables.\n",
    "\n",
    "For instance, write a function that uses both a global variable and a local variable. Then, attempt to modify the global variable within the function using the `global` keyword."
   ]
  },
  {
   "cell_type": "markdown",
   "id": "ae8dde13-c561-4aba-ae40-b1bc124f7708",
   "metadata": {},
   "source": [
    "---"
   ]
  },
  {
   "cell_type": "markdown",
   "id": "dd94bebf-ec32-475d-ac2c-033f2fef5770",
   "metadata": {},
   "source": [
    "---"
   ]
  },
  {
   "cell_type": "markdown",
   "id": "65742d59-f8b8-46a8-8718-ee44a9271464",
   "metadata": {},
   "source": [
    "### 4. Making Our Own Modules"
   ]
  },
  {
   "cell_type": "markdown",
   "id": "d25996e7-ea12-40df-8726-ca7d8391c55c",
   "metadata": {},
   "source": [
    " **4.1 What is a Module?**"
   ]
  },
  {
   "cell_type": "markdown",
   "id": "7282b323-0394-4293-ab61-59ce28370b76",
   "metadata": {},
   "source": [
    "- **Definition and benefits of using modules.**\n",
    "  - A module is a Python file that contains a collection of functions, variables, and classes. It allows for code organization and reusability.\n",
    "\n",
    "- **Built-in vs. custom modules.**\n",
    "  - Python has many built-in modules, like `math` and `datetime`. But we can also create our own custom modules."
   ]
  },
  {
   "cell_type": "markdown",
   "id": "a5d05722-7bab-4c11-84b0-901df2192014",
   "metadata": {},
   "source": [
    "**4.2 Creating a Simple Module**"
   ]
  },
  {
   "cell_type": "markdown",
   "id": "1a0e9c2b-981e-46fd-a529-95757e421bbd",
   "metadata": {},
   "source": [
    "- Save a Python file with the name `mymodule.py` and add the following code:"
   ]
  },
  {
   "cell_type": "code",
   "execution_count": 7,
   "id": "d5414a86-a647-4083-a114-f8645350e2ce",
   "metadata": {},
   "outputs": [],
   "source": [
    "def say_hello(name):\n",
    "    return f\"Hello, {name}!\""
   ]
  },
  {
   "cell_type": "markdown",
   "id": "024600e6-46a2-404d-88bf-454d6c28aeea",
   "metadata": {},
   "source": [
    "  - This becomes our custom module."
   ]
  },
  {
   "cell_type": "markdown",
   "id": "3f5bd41f-5f5b-4b61-acbd-b8c9b1dceaa7",
   "metadata": {},
   "source": [
    "**4.3 Importing Modules**"
   ]
  },
  {
   "cell_type": "markdown",
   "id": "5f2c11a4-a297-4b71-bac5-d4e1ce890f62",
   "metadata": {},
   "source": [
    "- **The `import` statement.**"
   ]
  },
  {
   "cell_type": "markdown",
   "id": "39fb96f8-9760-4f11-97ab-eeb25129f65a",
   "metadata": {},
   "source": [
    "import mymodule\n",
    "  print(mymodule.say_hello('Alice'))"
   ]
  },
  {
   "cell_type": "markdown",
   "id": "23f93de2-0f6c-4de3-b5c6-849fe4514ac0",
   "metadata": {},
   "source": [
    "- \"With the `import` statement, we can use functions and variables from our module.\""
   ]
  },
  {
   "cell_type": "markdown",
   "id": "c16e78be-527e-49ff-bdde-919883735a5a",
   "metadata": {},
   "source": [
    "- **Different ways to import.**"
   ]
  },
  {
   "cell_type": "code",
   "execution_count": 8,
   "id": "a49f0209-0278-499c-ac5f-f484391290ca",
   "metadata": {},
   "outputs": [
    {
     "ename": "IndentationError",
     "evalue": "unexpected indent (2240595743.py, line 2)",
     "output_type": "error",
     "traceback": [
      "\u001b[0;36m  Cell \u001b[0;32mIn[8], line 2\u001b[0;36m\u001b[0m\n\u001b[0;31m    print(say_hello('Bob'))\u001b[0m\n\u001b[0m    ^\u001b[0m\n\u001b[0;31mIndentationError\u001b[0m\u001b[0;31m:\u001b[0m unexpected indent\n"
     ]
    }
   ],
   "source": [
    "from mymodule import say_hello\n",
    "  print(say_hello('Bob'))"
   ]
  },
  {
   "cell_type": "markdown",
   "id": "75997184-eadc-4e68-83be-590bce244a43",
   "metadata": {},
   "source": [
    "  - We can also import specific functions or classes, which can be useful to keep our code concise."
   ]
  },
  {
   "cell_type": "markdown",
   "id": "fcb29312-4545-4c4e-a7ee-233951b4390a",
   "metadata": {},
   "source": [
    "---"
   ]
  },
  {
   "cell_type": "markdown",
   "id": "bec1c783-6985-488c-ad7d-3c2502dcc694",
   "metadata": {},
   "source": [
    "- \"Create a module with 2-3 functions of your choice. Then, in a new Python file, import and use these functions.\""
   ]
  },
  {
   "cell_type": "code",
   "execution_count": null,
   "id": "9cd80ec5-e259-44e1-9c60-9c19d3821774",
   "metadata": {},
   "outputs": [],
   "source": []
  },
  {
   "cell_type": "markdown",
   "id": "4305a085-eea6-4be0-b48f-23c164bdcc46",
   "metadata": {},
   "source": [
    "---"
   ]
  },
  {
   "cell_type": "markdown",
   "id": "0f27a750-8ca8-4a84-8cf8-3cb79823ce70",
   "metadata": {},
   "source": [
    "### 5. Summary"
   ]
  },
  {
   "cell_type": "code",
   "execution_count": null,
   "id": "e5a8525a-e6b5-4a51-847a-751589d00047",
   "metadata": {},
   "outputs": [],
   "source": []
  },
  {
   "cell_type": "code",
   "execution_count": null,
   "id": "00bfb4e0-a964-42d8-8a14-a4104a9bef65",
   "metadata": {},
   "outputs": [],
   "source": []
  },
  {
   "cell_type": "code",
   "execution_count": null,
   "id": "d63b7d29-8ab8-4c93-9882-d8f7c44a8fa8",
   "metadata": {},
   "outputs": [],
   "source": []
  }
 ],
 "metadata": {
  "kernelspec": {
   "display_name": "Python 3 (ipykernel)",
   "language": "python",
   "name": "python3"
  },
  "language_info": {
   "codemirror_mode": {
    "name": "ipython",
    "version": 3
   },
   "file_extension": ".py",
   "mimetype": "text/x-python",
   "name": "python",
   "nbconvert_exporter": "python",
   "pygments_lexer": "ipython3",
   "version": "3.8.17"
  }
 },
 "nbformat": 4,
 "nbformat_minor": 5
}
