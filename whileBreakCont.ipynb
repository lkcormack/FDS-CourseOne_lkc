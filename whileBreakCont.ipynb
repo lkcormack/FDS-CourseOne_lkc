{
 "cells": [
  {
   "cell_type": "code",
   "execution_count": null,
   "id": "92c8bd61-0d41-430c-b578-7a403e699db5",
   "metadata": {},
   "outputs": [],
   "source": []
  },
  {
   "cell_type": "markdown",
   "id": "7f025b94-e996-42ec-9c7f-071452d22b8b",
   "metadata": {},
   "source": [
    "`while` loops also provide a convenient way to specify conditions explicitly. For example, we can use the word `break` to literally break out of a `while` loop, if a condition is met. For example, we can exit (or `break` out of) a `while` loop if a value reaches a certain threshold:"
   ]
  },
  {
   "cell_type": "code",
   "execution_count": null,
   "id": "67e1595b-b98a-45a5-b5b9-2127008ea4bb",
   "metadata": {},
   "outputs": [],
   "source": [
    "# here we break the loop (using the break command) \n",
    "# if the counter is equal to a certain exit value\n",
    "counter = 1\n",
    "exit_val = 6\n",
    "while counter < 1000:\n",
    "  print('The counter is',counter,'The exit value is', exit_val)\n",
    "  if counter == exit_val :\n",
    "    print('The condition was met',counter,'==', exit_val, ', we exit the loop...')\n",
    "    break\n",
    "  counter += 1"
   ]
  },
  {
   "cell_type": "markdown",
   "id": "bab438d0-7819-4700-80b7-d8b0a03b942b",
   "metadata": {},
   "source": [
    "The code above, is similar to the one previously used one, yet, the `while` loop is terminated when a condition is met. \n",
    "\n",
    "The condition is that the counter becomes less than an `exit_val` variable (`6`). the condition is tested using the `if` syntax (`if` is an important word in python for flow control that we will explore more later).\n"
   ]
  },
  {
   "cell_type": "markdown",
   "id": "36eb5203-1200-4b47-a474-11d676c673ad",
   "metadata": {},
   "source": [
    "$\\color{blue}{\\text{Complete the following exercise.}}$\n",
    "\n",
    "  - Write a `while` loop to multiply the first 10 numbers starting at 0, but exit the look if the output of the multiplication is more than 50 . Print each value and a message when breaking out of the loop.\n",
    "  \n",
    "  [Use the cell below to show your code]\n"
   ]
  },
  {
   "cell_type": "code",
   "execution_count": null,
   "id": "6c55e061-33a8-45a6-8139-765e243916c5",
   "metadata": {},
   "outputs": [],
   "source": []
  },
  {
   "cell_type": "markdown",
   "id": "25b9af60-2e28-4ecd-9703-91283a6e898d",
   "metadata": {},
   "source": [
    "In some cases, we can set a condition to be met but instead of breaking out of the while loop we can decide to continue. For example, below we use the word `continue` instead of the word `break`, in this"
   ]
  },
  {
   "cell_type": "code",
   "execution_count": null,
   "id": "6ab0cdf9-d9a3-47a0-a97d-bb94dca64e7c",
   "metadata": {},
   "outputs": [],
   "source": [
    "# here we continue the loop (using the continue command) \n",
    "# if the counter is equal to a certain value\n",
    "counter = 0\n",
    "val = 6\n",
    "while counter < 10 :\n",
    "   counter += 1\n",
    "   if counter == val :\n",
    "    print('The condition was met',counter,'==', val, ', but we continue...')\n",
    "    continue\n",
    "   print('The counter is',counter,'The value is', val)"
   ]
  },
  {
   "cell_type": "markdown",
   "id": "761eedfb-6cac-4c41-88ec-9efdedcf7b36",
   "metadata": {},
   "source": [
    "In reality, we could have used the `brake` command also in combination with a `for` loop. So, the situations where a while and for loop diverge are limited. Yet, one or the other are often times preferable, especially for clarity of programming style (e.g., your colleagues reading your code will be happier, if you write simple, easy to read code)."
   ]
  },
  {
   "cell_type": "markdown",
   "id": "c1152ea9-24eb-4ab3-a2aa-12f867058567",
   "metadata": {},
   "source": [
    "Below one last example with the `while` loop. The loop offers the ability to end with an `else` just like an `if` statement. "
   ]
  },
  {
   "cell_type": "code",
   "execution_count": null,
   "id": "fa15072d-de8b-4c3e-aa61-5b9718d48f48",
   "metadata": {},
   "outputs": [],
   "source": [
    "counter = 0\n",
    "while counter < 10 :\n",
    "    print(\"We write INSIDE becuase we are inside the while loop.\")\n",
    "    counter = counter + 1\n",
    "else :\n",
    "    print(\"We write END because we have exited the while loop and are inside the else statement\")"
   ]
  },
  {
   "cell_type": "markdown",
   "id": "7887234a-8155-4b20-a866-f18fa57670a2",
   "metadata": {},
   "source": [
    "$\\color{blue}{\\text{Complete the following exercise.}}$\n",
    "\n",
    "  - Write the same code twice and compare the complexity of the code\n",
    "\n",
    "    ```\n",
    "    LIST = [101, 102, 103, 104, 105, 106, 107, 108, 109, 110]\n",
    "    A = 0\n",
    "    for B in LIST :    \n",
    "        OUT = B + LIST[A] \n",
    "        print('The current sum at element ', B, ' is ', OUT, '(A is',A,')')\n",
    "        A = A+1\n",
    "    ```\n",
    "\n",
    "   Complete the code above and rewrite it as a `while` loop.\n",
    "  \n",
    "  [Use the cell below to show your code.]\n"
   ]
  },
  {
   "cell_type": "code",
   "execution_count": null,
   "id": "c00fb469-68fb-4b73-96a8-034b863916fb",
   "metadata": {},
   "outputs": [],
   "source": []
  },
  {
   "cell_type": "markdown",
   "id": "9deeb2f1-394a-4ba3-8edd-67d8702e2e1e",
   "metadata": {},
   "source": [
    "[Use this cell to describe in your own words which code seems to be more complex and why]"
   ]
  },
  {
   "cell_type": "code",
   "execution_count": null,
   "id": "ea19ce43-b33b-47d7-a832-3a3b44c52080",
   "metadata": {},
   "outputs": [],
   "source": []
  }
 ],
 "metadata": {
  "kernelspec": {
   "display_name": "Python 3 (ipykernel)",
   "language": "python",
   "name": "python3"
  },
  "language_info": {
   "codemirror_mode": {
    "name": "ipython",
    "version": 3
   },
   "file_extension": ".py",
   "mimetype": "text/x-python",
   "name": "python",
   "nbconvert_exporter": "python",
   "pygments_lexer": "ipython3",
   "version": "3.8.17"
  }
 },
 "nbformat": 4,
 "nbformat_minor": 5
}
