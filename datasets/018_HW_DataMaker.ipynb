{
 "cells": [
  {
   "cell_type": "code",
   "execution_count": null,
   "metadata": {},
   "outputs": [],
   "source": [
    "import pandas as pd\n",
    "\n",
    "# Create a sample 2x2 design dataset\n",
    "data = {\n",
    "    'Condition_A_Level_1': [10, 15],\n",
    "    'Condition_A_Level_2': [20, 25],\n",
    "    'Condition_B_Level_1': [30, 35],\n",
    "    'Condition_B_Level_2': [40, 45]\n",
    "}\n",
    "\n",
    "# Create a DataFrame from the sample data\n",
    "df = pd.DataFrame(data)\n",
    "\n",
    "# Save the DataFrame to a CSV file named '2x2_data.csv'\n",
    "df.to_csv('2x2_data.csv', index=False)\n"
   ]
  }
 ],
 "metadata": {
  "language_info": {
   "name": "python"
  }
 },
 "nbformat": 4,
 "nbformat_minor": 2
}
