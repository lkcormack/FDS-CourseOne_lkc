






































d, e = 1, 2.718


print(d, e)











1 + 1 # 1 is an integer and the sum of two integers is an integer
type(1 + 1)


a = 4 # a variable can be assigned a whole number and the variable will be defined as an integer
type(a)





c = 2.1
type(c)   





a = 1.5 + 0.5j
type(a)





a.real # this is the real part of `a`


a.imag # this is the imaginary part of `a`





a = 1.5 + 0.5j # a is a complex type variable
type(a)


b = 2 # b is defined as an integer type variable
type(b)


c = a + b # a is a complex type variable (the more complicated type takes over)
type(c)


a = 1.5 # a is a Float
type(a)


b = 2 # b is an int
type(2)


c = a + b  # c is a Float (the more complicated type takes over)
type(c)




















x, y, z = 5, 10, 15
print(x, y, z)





x = x + y
print(x)





a = True
type(a)


b = False
type(b)














a = 3 > 4
type(a)





print(a)





b = 3 <= 3
type(b)


print(b)











a = 'hello'
type(a)





b = ' '
type(b)





c = a + b + 'world!'
print(c)











s = '''Hello World,
How are you?
Marvelous!''' 
print(s)





a = None
type(a)





print(a)





a + c







































