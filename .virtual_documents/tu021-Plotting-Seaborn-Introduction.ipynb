


























import pandas as pd
import seaborn as sns

# import your_module as ym or whatever if you want





def tidyMyData(filename) :
    '''
    tidyMyData() Takes one-column-per-cell rat reaction time data as input.
    Returns tidy one-column-per-variable data.
    User specifies a filename string.
    '''
    
    import pandas as pd
    import numpy as np

    my_input_data = pd.read_csv(filename)  # read the data

    raw_data = my_input_data.to_numpy()                      # convert to numpy array

    obs, grps = raw_data.shape                               # get the number of rows and columns

    new_length = obs*grps                                    # compute total number of observations

    values_col = np.reshape(raw_data, (new_length, 1), 
                            order = 'F')                     # reshape the array
    values_col = np.squeeze(values_col)                      # squeeze to make 1D

    # construct the inner grouping variable
    sexes = pd.Series(['male', 'female'])                    # define the levels
    sexes = sexes.repeat(obs)                                # make one cycle of the levels
    sexes = pd.concat([sexes]*2, ignore_index=True)     # and repeat the cycle, ditching the indexes

    # construct the outer grouping variable
    strain = pd.Series(['wildtype', 'mutant'])               # define the levels
    strain = strain.repeat(2*obs)                            # make the one cycle
    strain = strain.reset_index(drop=True)                   # drop the pesky index

    # construct the data frame
    my_new_tidy_data = pd.DataFrame(
        {
            "RTs": values_col,                               # make a column named RTs and put the values in
            "sex": sexes,                                    # ditto for sex
            "strain": strain                                 # and for genetic strain
        }    
    )
    
    return my_new_tidy_data





our_data = tidyMyData("datasets/018DataFile2.csv")





our_data














sns.displot(x = "RTs", data = our_data);




















sns.displot(x = "RTs", data = our_data, hue = "sex");








sns.displot(x = "RTs", data = our_data, hue = "strain");











sns.displot(x = "RTs", data = our_data, hue = "strain", col="sex");





sns.displot(x = "RTs", data = our_data, hue = "strain", row="sex");




















sns.displot(x = "RTs", data = our_data, hue = "strain", row="sex", kind="kde");











sns.displot(x = "RTs", data = our_data, hue = "strain", row="sex", kind="kde", fill=True);





























sns.catplot(y = "RTs", x="strain", data = our_data, hue = "sex");





sns.catplot(y = "RTs", x="strain", data = our_data, hue = "sex", kind="violin");








ax = sns.boxplot(y = "RTs", x="strain", data = our_data, hue = "sex");








ax.








ax = sns.boxplot(y = "RTs", x="strain", data = our_data, hue = "sex");
ax.invert_yaxis();





ax = sns.boxplot(y = "RTs", x="strain", data = our_data, hue = "sex");
ax.invert_yaxis();
ax.set_title("Response time by sex and strain - higher is faster");






























