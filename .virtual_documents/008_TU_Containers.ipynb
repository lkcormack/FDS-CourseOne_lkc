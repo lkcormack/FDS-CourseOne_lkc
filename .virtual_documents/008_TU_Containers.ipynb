

















mystring = 'This string contains letters, spaces, etc., and 68 total characters!'
print(mystring)
print("mystring is a ", type(mystring))





len(mystring)








mystring[3]











myint = 42
len(myint)














mystring = 'An ordered sequence of characters!'





mystring[6]





a_char = mystring[6]
type(a_char)





len(a_char)
































mystring[0] = '1'








mystring = 'Another sequence of characters'





new_tag_same_object = "This string contains letters, spaces, etc., and 68 total characters!"











mylist = [2, 3, 4, 5] # this list contains 4 numbers
print(mylist)





list_of_int = [10, 4, 2, 5]                                  # This list contains integers
print(list_of_int)
type(list_of_int)


list_of_float = [2.3, 4.3, 5.5, 6.1]                         # This list contains floating point numbers
print(list_of_float)
type(list_of_float)


list_of_boolean = [True, False, True, True]                  # This list contains boolean values 
print(list_of_boolean)
type(list_of_boolean)


list_of_strings = ['this', 'is', 'a', 'list','of','strings'] # This list contains strings
print(list_of_strings)
type(list_of_strings)


























list_of_float





list_of_float[3] = 10.1
list_of_float








list_of_float[3] = "I'm not a float"
list_of_float





print(type(list_of_float[3]))








multi_list = [[1, 2, 3], [4, 5, 6], [7, 8, 9]]
multi_list





multi_list[0]





tmp = multi_list[0]  # get the first list in multi_list, and store it in "tmp"
tmp[1]               # get the second element of the list in "tmp"





multi_list[0][1]
































multi_list[1][2]








like_a_matrix = [[1, 1, 2],
                 [3, 5, 8],
                 [13, 21, 34]]
like_a_matrix





print(like_a_matrix[0], "\n", like_a_matrix[1], "\n", like_a_matrix[2], "\n")











mytuple = (9,4,5)
print(mytuple)
type(mytuple)








mytuple2 = (4, 'four', 'IV', [1, 0, 0])
mytuple2





mytuple[0]


mytuple2[3][0]














mylist = [10, 'ten', 'X', 1010]
mylist


mylist[3] = "ten is 1010 in binary"
mylist[3]





mytup = (10, 'ten', 'X', 1010)
mytup


mytup[3] = "ten is 1010 in binary"  
mytup[3]





myset = {"A", "B", "C", "D"}
print(myset)
type(myset)








{"A", "B", "C", "D"} == {"D", "C", "A", "B"}





["A", "B", "C", "D"] == ["D", "C", "A", "B"]





{"A", "B", "C", "D"} == {"D", "C", "A", "B", "D"}





myset2 = {"C", "K", "E", "D", "D"}
print(myset2)








myset[1]





myset[2] = "F"





# A real list would be much longer, but...
name_list = ["John", "Xie", "Julia", "Kat", "Ahmed", "John"]
name_list


# Convert list to set
name_set = set(name_list)
print(name_set) 

















print(myset, "\n", myset2)









myset | myset2





myset & myset2





myset - myset2





myset ^ myset2











UT_person_1 = {
    'name': 'Matthew McConaughey',
    'age': 53,
    'born': 'Uvalde, Texas',
    'role': "Faculty"
}
print(UT_person)  








print(UT_person_1['name'])  











UT_person_1['role'] = 'Minister of Culture'
print(UT_person_1) 








# Modifying an existing value
UT_person_1['first film'] = 'Dazed and Confused'
print(UT_person_1) 








del UT_person_1['age']
print(UT_person_1)  





'name' in UT_person_1





'salary' in UT_person_1






