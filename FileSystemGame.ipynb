{
 "cells": [
  {
   "cell_type": "markdown",
   "metadata": {},
   "source": [
    "Mystery Mansion: A game to explore a file system \"mansion\" in search of a file."
   ]
  },
  {
   "cell_type": "markdown",
   "metadata": {},
   "source": [
    "Note: have students code simpler version in which only path is \n",
    "`/Users/HOME/Documents`\n",
    "Next, add dead-ends under `/Users` and `/Users/HOME`"
   ]
  },
  {
   "cell_type": "code",
   "execution_count": 11,
   "metadata": {},
   "outputs": [],
   "source": [
    "# Define known strings\n",
    "goal_str = \"/Users/lkcormack/Documents/EASTER_EGG.txt\"\n",
    "start_str = \"/\"\n",
    "curr_str = start_str\n"
   ]
  },
  {
   "cell_type": "code",
   "execution_count": 13,
   "metadata": {},
   "outputs": [],
   "source": [
    "\n",
    "# Get user initials for the user directory\n",
    "#user_initials = input(\"Please enter your initials: \")\n",
    "user_initials = \"lkc\"\n",
    "home_dir = \"/Users/\" + user_initials + \"_HOME\"+\"/\"\n",
    "home_str = \"/\"+user_initials+\"_HOME\"\n"
   ]
  },
  {
   "cell_type": "markdown",
   "metadata": {},
   "source": [
    "Make some lists to hold the doors to deeper rooms available at each level.\n",
    "\n",
    "We'll use nested lists to store the room names available at the levels below the ."
   ]
  },
  {
   "cell_type": "code",
   "execution_count": 14,
   "metadata": {},
   "outputs": [],
   "source": [
    "# Define the doors (directories) that the user can enter\n",
    "\n",
    "root_doors = [\"/Users\", \"/Library\", \"/Applications\"]\n",
    "\n",
    "# A list of lists of doors at level 1\n",
    "level_1_doors = [[home_str, \"/Mom\", \"/Guest\"], #/Users\n",
    "                    [\"/Application Support\", \"/Preferences\", \"/Logs\"], #/Library\n",
    "                    [\"/Chrome\", \"/Calendar\", \"/VSCode\"]] #/Applications\n",
    "\n",
    "# A list of lists of lists of doors at level 2\n",
    "level_2_doors = [[[\"/Code\", \"/Documents\", \"/Scripts\"], #Users/INITIALS_HOME\n",
    "                    [\"/Documents\", \"/Music\", \"/Pictures\"], #Users/Mom\n",
    "                    [\"/Documents\"]], #Users/Guest\n",
    "                    [[\"/Google\", \"/Mozilla\", \"/Opera\"], #/Library/Application Support\n",
    "                    [\"/Safari\", \"/Brave\", \"/Edge\"], #/Library/Preferences\n",
    "                    [\"/Chrome\", \"/System\", \"/Edge\"]], #/Library/Logs\n",
    "                    [[\"/Chrome.exe\"], #/Applications/Chrome\n",
    "                    [\"/Calendar.exe\"], #/Applications/Calendar\n",
    "                    [\"/VSCode.exe\"]]] #/Applications/VSCode\n"
   ]
  },
  {
   "cell_type": "markdown",
   "metadata": {},
   "source": [
    "Make a almost-identically structured set of lists to hold the contents (if any) in each room.\n",
    "\n",
    "If a room has nothing in it, then the contents will be an empty list."
   ]
  },
  {
   "cell_type": "code",
   "execution_count": 10,
   "metadata": {},
   "outputs": [],
   "source": [
    "# Define the contents (files) that the user can enter\n",
    "\n",
    "root_contents = [[], [], []]\n",
    "\n",
    "# A list of lists of contents at level 1\n",
    "level_1_contents = [[[\"junk.txt\", \"paper.docx\", \"resume.docx\"],  #/Users/INITIALS_HOME contents\n",
    "                      [\"babyPic.png\", \"toddlerPic.png\"],          #/Users/Mom contents (aw, mom's stuff)\n",
    "                      []],                                         #/Users/Guest contents (empty)\n",
    "                    [[],                                         #/Library/Application Support contents (empty)\n",
    "                      [],                                          #/Library/Preferences contents\n",
    "                      []],                                         #/Library/Logs contents (empty)    \n",
    "                    [[\"/Chrome.exe\"],                            #/Applications/Chrome contents\n",
    "                      [\"/Calendar.exe\"],                            #/Applications/Calendar contents\n",
    "                      [\"/VSCode.exe\"]]]                             #/Applications/VSCode contents\n",
    "\n",
    "# A list of lists of lists of contents at level 2\n",
    "level_2_contents = [[[[\"helloworld.py\", \"hw1.ipynb\"],           #Users/INITIALS_HOME/Code contents\n",
    "                       [\"EASTER_EGG.txt\", \"coverletter.docx\"],   #Users/INITIALS_HOME/Documents contents\n",
    "                       [\"horrormovie.md\", \"brdwayshow.txt\"]],    #Users/INITIALS_HOME/Scripts contents\n",
    "                     [[\"letter.txt\", \"letter2.txt\"],                    #Users/Mom/Documents\n",
    "                       [\"tswift.wav\", \"llcoolj.wav\"],                    #Users/Mom/Music\n",
    "                       [ \"kitten.jpg\", \"sunset.jpg\", \"babypic2.png\"]],   #Users/Mom/Pictures\n",
    "                     [[]]],                                             #Users/Guest/Documents (empty)\n",
    "                    [[[],                #/Library/Application Support (all rooms empty)\n",
    "                       [], \n",
    "                       []], \n",
    "                      [[\"safari.prefs\"], #/Library/Preferences\n",
    "                        [\"brave.prefs\"], \n",
    "                        [\"edge.prefs\"]], \n",
    "                      [[\"chrome.log\"],   #/Library/Logs\n",
    "                        [\"system.log\"], \n",
    "                        [\"edge.log\"]]],\n",
    "                    [[],  #/Applications/Chrome was a dead end - this should never get indexed\n",
    "                      [],  #/Applications/Calendar was a dead end - this should never get indexed\n",
    "                      []]] #/Applications/VSCode was a dead end - this should never get indexed\n"
   ]
  },
  {
   "cell_type": "code",
   "execution_count": 9,
   "metadata": {},
   "outputs": [
    {
     "data": {
      "text/plain": [
       "'helloworld.py'"
      ]
     },
     "execution_count": 9,
     "metadata": {},
     "output_type": "execute_result"
    }
   ],
   "source": [
    "level_2_contents[0][0][0][0]\n"
   ]
  },
  {
   "cell_type": "code",
   "execution_count": null,
   "metadata": {},
   "outputs": [],
   "source": [
    "user_quit = False\n",
    "\n",
    "while not user_quit:\n",
    "    # Print the current room and available doors\n",
    "    print(\"You are currently in the room: \", curr_str)\n",
    "    # get and print the available doors\n",
    "    depth = curr_str.count(\"/\")\n",
    "    if depth == 1:\n",
    "        for i in range(len(root_doors)):\n",
    "            print(root_doors[i])\n",
    "    elif depth == 2:\n",
    "        for i in range(len(level_1_doors)):\n",
    "            print(level_1_doors[i][depth-1])\n",
    "    elif depth == 3:\n",
    "        for i in range(len(level_2_doors)):\n",
    "            print(level_2_doors[i][depth-1])\n",
    "    else:\n",
    "        print(\"You are in a room with no doors.\")\n",
    "\n",
    "    \n",
    "    \n",
    "\n",
    "    "
   ]
  }
 ],
 "metadata": {
  "kernelspec": {
   "display_name": "FDSII",
   "language": "python",
   "name": "python3"
  },
  "language_info": {
   "codemirror_mode": {
    "name": "ipython",
    "version": 3
   },
   "file_extension": ".py",
   "mimetype": "text/x-python",
   "name": "python",
   "nbconvert_exporter": "python",
   "pygments_lexer": "ipython3",
   "version": "3.11.5"
  }
 },
 "nbformat": 4,
 "nbformat_minor": 2
}
